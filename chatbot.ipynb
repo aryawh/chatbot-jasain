{
  "cells": [
    {
      "attachments": {},
      "cell_type": "markdown",
      "metadata": {},
      "source": [
        "#Mengimpor Library"
      ]
    },
    {
      "cell_type": "code",
      "execution_count": null,
      "metadata": {
        "colab": {
          "base_uri": "https://localhost:8080/"
        },
        "id": "zA5AOIYgEcOz",
        "outputId": "dc06f122-5ba5-4391-e5b1-e6a5c063a1f0"
      },
      "outputs": [
        {
          "name": "stderr",
          "output_type": "stream",
          "text": [
            "[nltk_data] Downloading package punkt to /root/nltk_data...\n",
            "[nltk_data]   Unzipping tokenizers/punkt.zip.\n"
          ]
        }
      ],
      "source": [
        "# Model\n",
        "import numpy as np\n",
        "import tensorflow as tf\n",
        "import random\n",
        "\n",
        "# Kontekstualisasi dan Pekerjaan NLP\n",
        "import nltk\n",
        "nltk.download('punkt')\n",
        "from nltk.stem.lancaster import LancasterStemmer\n",
        "stemmer = LancasterStemmer()\n",
        "\n",
        "# Pendukung\n",
        "import json\n",
        "import pickle\n",
        "import warnings\n",
        "import curses\n",
        "\n",
        "warnings.filterwarnings(\"ignore\")"
      ]
    },
    {
      "cell_type": "code",
      "execution_count": null,
      "metadata": {
        "colab": {
          "base_uri": "https://localhost:8080/"
        },
        "id": "Omynb_miDq5q",
        "outputId": "d972b65a-9c81-47ba-bff7-a42018ffe599"
      },
      "outputs": [
        {
          "name": "stdout",
          "output_type": "stream",
          "text": [
            "2.12.0\n"
          ]
        }
      ],
      "source": [
        "# Mengecek versi Tensorflow\n",
        "print(tf. __version__)"
      ]
    },
    {
      "attachments": {},
      "cell_type": "markdown",
      "metadata": {},
      "source": [
        "#Pengolahan Dataset"
      ]
    },
    {
      "cell_type": "code",
      "execution_count": null,
      "metadata": {
        "colab": {
          "base_uri": "https://localhost:8080/"
        },
        "id": "Zf6gQvaIDq5q",
        "outputId": "44ecd82c-d2ab-4f74-f611-714d26087d39"
      },
      "outputs": [
        {
          "name": "stdout",
          "output_type": "stream",
          "text": [
            "Processing the Intents.....\n"
          ]
        }
      ],
      "source": [
        "print(\"Memproses dataset intents.....\")\n",
        "with open('./assets/intents.json') as json_data:\n",
        "    intents = json.load(json_data)"
      ]
    },
    {
      "cell_type": "code",
      "execution_count": null,
      "metadata": {
        "colab": {
          "base_uri": "https://localhost:8080/"
        },
        "id": "_pLvzIE9Dq5q",
        "outputId": "8e4bdae0-fc16-42ad-c505-221353fd41b2"
      },
      "outputs": [
        {
          "name": "stdout",
          "output_type": "stream",
          "text": [
            "Looping through the Intents to Convert them to words, classes, documents and ignore_words.......\n"
          ]
        }
      ],
      "source": [
        "words = []\n",
        "classes = []\n",
        "documents = []\n",
        "ignore_words = ['?']\n",
        "print(\"Mengiterasi isi dataset untuk mengubahnya menjadi words, class, documents, dan ignore_words.......\")\n",
        "for intent in intents['intents']:\n",
        "    for pattern in intent['patterns']:\n",
        "        # Tokenisasi tiap kata dalam kalimat\n",
        "        w = nltk.word_tokenize(pattern)\n",
        "        # Menambah kata ke dalam array words\n",
        "        words.extend(w)\n",
        "        # Menambah dokumen ke dalam korpus (pelatihan/uji)\n",
        "        documents.append((w, intent['tag']))\n",
        "        # Menambah tag ke dalam array class\n",
        "        if intent['tag'] not in classes:\n",
        "            classes.append(intent['tag'])"
      ]
    },
    {
      "cell_type": "code",
      "execution_count": null,
      "metadata": {
        "colab": {
          "base_uri": "https://localhost:8080/"
        },
        "id": "aNsucHOlDq5q",
        "outputId": "90eaa0eb-dade-444a-aa61-bef8a5183702"
      },
      "outputs": [
        {
          "name": "stdout",
          "output_type": "stream",
          "text": [
            "Stemming, Lowering and Removing Duplicates.......\n",
            "213 documents\n",
            "33 classes ['ac_arti', 'ac_bocor', 'ac_freon', 'ac_kompresor', 'ac_kotor', 'ac_merek', 'ac_rusak', 'audio_problems', 'battery_issues', 'blue_screen', 'charging_issues', 'complaint', 'create_account', 'driver_errors', 'hard_drive_failure', 'hp_baterai', 'hp_bluetooth', 'hp_bootlop', 'hp_iccharger', 'hp_lcd', 'hp_overheat', 'hp_wifi', 'keyboard_not_working', 'overheating', 'penutup', 'salam', 'screen_flickering', 'screen_problems', 'slow_performance', 'startup_issues', 'usb_port_issues', 'virus_infection', 'wifi_issues']\n",
            "213 unique stemmed words [',', 'ac', 'ad', 'adalah', 'admin', 'air', 'ak', 'aku', 'akun', 'ap', 'artiny', 'assalamualaik', 'ata', 'bag', 'bagaiman', 'bantuanny', 'banyak', 'baru', 'bat', 'batera', 'baterainy', 'bau', 'berair', 'berfungs', 'berkedip', 'berkedip-kedip', 'berkurang', 'bermasalah', 'bersih', 'bertah', 'bertambah', 'biru', 'bis', 'bisakah', 'blank', 'blu', 'bluetoo', 'bluetoothny', 'blutut', 'boc', 'butuh', 'car', 'cas', 'casanny', 'charg', 'cum', 'dan', 'dap', 'dar', 'day', 'definis', 'di', 'dibersihk', 'dica', 'diis', 'dinyalain', 'dinyalak', 'dipencet', 'diperbaik', 'disentuh', 'diskny', 'ditek', 'driv', 'engg', 'er', 'freon', 'ga', 'gabis', 'gak', 'gamb', 'gampang', 'gant', 'gk', 'gua', 'gue', 'hab', 'hai', 'hallo', 'halo', 'hany', 'hard', 'hdd', 'hei', 'hp', 'hpku', 'in', 'ingin', 'itu', 'jatuh', 'kadang-kadang', 'kalau', 'kamu', 'ke', 'keluh', 'kenak', 'kenap', 'kendal', 'kepanjanganny', 'kerusak', 'kesalah', 'keyboard', 'keyboardny', 'kinerj', 'kompres', 'kompresorny', 'konek', 'koneks', 'kot', 'lag', 'lam', 'lamb', 'laptony', 'laptop', 'laptopny', 'lay', 'lcd', 'lemot', 'logo', 'luar', 'makasih', 'malah', 'malam', 'malem', 'masalah', 'masih', 'mat', 'mau', 'membu', 'membuk', 'menet', 'mengajuk', 'mengap', 'mengis', 'menyal', 'menyalak', 'merek', 'merespon', 'min', 'mudah', 'munc', 'nambah', 'nge', 'ngeca', 'norm', 'notifikas', 'nyal', 'nyalain', 'nyambung', 'ok', 'outdo', 'overh', 'pad', 'padah', 'pag', 'pana', 'peng', 'pengert', 'perbaik', 'perlu', 'pers', 'persentas', 'ponsel', 'port', 'puny', 'put', 'putus-put', 'ridak', 'rusak', 'saat', 'saj', 'say', 'screen', 'selalu', 'selam', 'sendir', 'ser', 'siang', 'singk', 'sor', 'speak', 'startup', 'stuck', 'suar', 'sudah', 'suk', 'sya', 'tap', 'tem', 'tentang', 'terhubung', 'terimakasih', 'terimaksih', 'terinfeks', 'teris', 'terlalu', 'terput', 'tetap', 'thank', 'tib', 'tidak', 'tombol', 'tombolny', 'touchscreen', 'unit', 'untukku', 'usb', 'vir', 'wi-f', 'wif', 'wifiny', 'ya', 'yang', 'you']\n"
          ]
        }
      ],
      "source": [
        "print(\"Meng-stemming, menggunakan huruf kecil dan menghapus duplikat kata.......\")\n",
        "words = [stemmer.stem(w.lower()) for w in words if w not in ignore_words]\n",
        "words = sorted(list(set(words)))\n",
        "\n",
        "classes = sorted(list(set(classes)))\n",
        "\n",
        "print (len(documents), \"documents\")\n",
        "print (len(classes), \"classes\", classes)\n",
        "print (len(words), \"unique stemmed words\", words)"
      ]
    },
    {
      "cell_type": "code",
      "execution_count": null,
      "metadata": {
        "colab": {
          "base_uri": "https://localhost:8080/"
        },
        "id": "6xuMAP5HDq5r",
        "outputId": "857c4c8d-a625-4035-d773-091cbdd55b87"
      },
      "outputs": [
        {
          "name": "stdout",
          "output_type": "stream",
          "text": [
            "Creating the Data for our Model.....\n",
            "Creating an List (Empty) for Output.....\n",
            "Creating Traning Set, Bag of Words for our Model....\n"
          ]
        }
      ],
      "source": [
        "print(\"Membuat data untuk model.....\")\n",
        "training = []\n",
        "output = []\n",
        "print(\"Membuat list kosong untuk output.....\")\n",
        "output_empty = [0] * len(classes)\n",
        "\n",
        "print(\"Membuat training set dan Bag of Words ....\")\n",
        "for doc in documents:\n",
        "    # Inisialisasi Bag of Words\n",
        "    bag = []\n",
        "    # Daftar kata-kata yang ditokenisasi untuk pattern\n",
        "    pattern_words = doc[0]\n",
        "    # Stem setiap kata\n",
        "    pattern_words = [stemmer.stem(word.lower()) for word in pattern_words]\n",
        "    # Membuat array Bag of Words\n",
        "    for w in words:\n",
        "        bag.append(1) if w in pattern_words else bag.append(0)\n",
        "\n",
        "    # Outputnya '0' untuk setiap tag dan '1' untuk tag saat ini\n",
        "    output_row = list(output_empty)\n",
        "    output_row[classes.index(doc[1])] = 1\n",
        "\n",
        "    training.append([bag, output_row])"
      ]
    },
    {
      "attachments": {},
      "cell_type": "markdown",
      "metadata": {},
      "source": [
        "#Membuat Training dan Test Set"
      ]
    },
    {
      "cell_type": "code",
      "execution_count": null,
      "metadata": {
        "colab": {
          "base_uri": "https://localhost:8080/"
        },
        "id": "tkA6Za2qDq5r",
        "outputId": "2c206184-ca41-4ed0-a198-ac64d8a9c4c7"
      },
      "outputs": [
        {
          "name": "stdout",
          "output_type": "stream",
          "text": [
            "Shuffling Randomly and Converting into Numpy Array for Faster Processing......\n",
            "Creating Train and Test Lists.....\n"
          ]
        }
      ],
      "source": [
        "print(\"Mengacak dan mengubah menjadi numpy array untuk pemrosesan yang lebih cepat......\")\n",
        "random.shuffle(training)\n",
        "training = np.array(training)\n",
        "\n",
        "print(\"Membuat list train dan test.....\")\n",
        "train_x = np.array(list(training[:, 0]))\n",
        "train_y = np.array(list(training[:, 1]))\n",
        "\n",
        "print(\"Shape train_x:\", np.shape(train_x))\n",
        "print(\"Shape train_y:\", np.shape(train_y))"
      ]
    },
    {
      "attachments": {},
      "cell_type": "markdown",
      "metadata": {},
      "source": [
        "#Membuat Model Sequential"
      ]
    },
    {
      "cell_type": "code",
      "execution_count": null,
      "metadata": {
        "colab": {
          "base_uri": "https://localhost:8080/"
        },
        "id": "vL6faz2jDq5r",
        "outputId": "bb31b055-0734-425a-eb94-05e2970e5040"
      },
      "outputs": [
        {
          "name": "stdout",
          "output_type": "stream",
          "text": [
            "Model: \"sequential\"\n",
            "_________________________________________________________________\n",
            " Layer (type)                Output Shape              Param #   \n",
            "=================================================================\n",
            " dense (Dense)               (None, 8)                 1712      \n",
            "                                                                 \n",
            " dense_1 (Dense)             (None, 33)                297       \n",
            "                                                                 \n",
            "=================================================================\n",
            "Total params: 2,009\n",
            "Trainable params: 2,009\n",
            "Non-trainable params: 0\n",
            "_________________________________________________________________\n"
          ]
        }
      ],
      "source": [
        "from tensorflow.keras.initializers import TruncatedNormal\n",
        "\n",
        "model = tf.keras.models.Sequential()\n",
        "model.add(tf.keras.layers.Dense(8, input_shape=(len(train_x[0]),), activation='relu', kernel_initializer=TruncatedNormal()))\n",
        "model.add(tf.keras.layers.Dense(len(train_y[0]), activation='softmax', kernel_initializer=TruncatedNormal()))\n",
        "\n",
        "# Kompilasi dan summary model\n",
        "model.compile(loss='categorical_crossentropy', optimizer='adam', metrics=['acc'])\n",
        "model.summary()"
      ]
    },
    {
      "cell_type": "code",
      "execution_count": null,
      "metadata": {
        "colab": {
          "background_save": true,
          "base_uri": "https://localhost:8080/"
        },
        "id": "geNK3KqwDq5s",
        "outputId": "8b661fce-119b-4d4d-dd64-f7bd6020102c"
      },
      "outputs": [
        {
          "name": "stdout",
          "output_type": "stream",
          "text": [
            "Training the Model.......\n",
            "Epoch 1/200\n",
            "27/27 [==============================] - 1s 2ms/step - loss: 3.4943 - acc: 0.0610 \n",
            "Epoch 2/200\n",
            "27/27 [==============================] - 0s 2ms/step - loss: 3.4829 - acc: 0.1408\n",
            "Epoch 3/200\n",
            "27/27 [==============================] - 0s 2ms/step - loss: 3.4672 - acc: 0.1878\n",
            "Epoch 4/200\n",
            "27/27 [==============================] - 0s 2ms/step - loss: 3.4402 - acc: 0.2113\n",
            "Epoch 5/200\n",
            "27/27 [==============================] - 0s 2ms/step - loss: 3.3986 - acc: 0.2300\n",
            "Epoch 6/200\n",
            "27/27 [==============================] - 0s 2ms/step - loss: 3.3407 - acc: 0.2160\n",
            "Epoch 7/200\n",
            "27/27 [==============================] - 0s 2ms/step - loss: 3.2697 - acc: 0.2394\n",
            "Epoch 8/200\n",
            "27/27 [==============================] - 0s 2ms/step - loss: 3.1899 - acc: 0.1643\n",
            "Epoch 9/200\n",
            "27/27 [==============================] - 0s 2ms/step - loss: 3.1097 - acc: 0.1690\n",
            "Epoch 10/200\n",
            "27/27 [==============================] - 0s 2ms/step - loss: 3.0271 - acc: 0.1549\n",
            "Epoch 11/200\n",
            "27/27 [==============================] - 0s 2ms/step - loss: 2.9533 - acc: 0.1549\n",
            "Epoch 12/200\n",
            "27/27 [==============================] - 0s 2ms/step - loss: 2.8811 - acc: 0.1925\n",
            "Epoch 13/200\n",
            "27/27 [==============================] - 0s 2ms/step - loss: 2.8122 - acc: 0.2019\n",
            "Epoch 14/200\n",
            "27/27 [==============================] - 0s 2ms/step - loss: 2.7445 - acc: 0.2629\n",
            "Epoch 15/200\n",
            "27/27 [==============================] - 0s 2ms/step - loss: 2.6793 - acc: 0.3005\n",
            "Epoch 16/200\n",
            "27/27 [==============================] - 0s 2ms/step - loss: 2.6159 - acc: 0.3333\n",
            "Epoch 17/200\n",
            "27/27 [==============================] - 0s 2ms/step - loss: 2.5515 - acc: 0.3568\n",
            "Epoch 18/200\n",
            "27/27 [==============================] - 0s 2ms/step - loss: 2.4910 - acc: 0.3850\n",
            "Epoch 19/200\n",
            "27/27 [==============================] - 0s 2ms/step - loss: 2.4298 - acc: 0.3991\n",
            "Epoch 20/200\n",
            "27/27 [==============================] - 0s 2ms/step - loss: 2.3669 - acc: 0.4225\n",
            "Epoch 21/200\n",
            "27/27 [==============================] - 0s 2ms/step - loss: 2.3074 - acc: 0.4319\n",
            "Epoch 22/200\n",
            "27/27 [==============================] - 0s 2ms/step - loss: 2.2492 - acc: 0.4272\n",
            "Epoch 23/200\n",
            "27/27 [==============================] - 0s 2ms/step - loss: 2.1935 - acc: 0.4272\n",
            "Epoch 24/200\n",
            "27/27 [==============================] - 0s 2ms/step - loss: 2.1369 - acc: 0.4366\n",
            "Epoch 25/200\n",
            "27/27 [==============================] - 0s 2ms/step - loss: 2.0824 - acc: 0.4554\n",
            "Epoch 26/200\n",
            "27/27 [==============================] - 0s 2ms/step - loss: 2.0306 - acc: 0.4648\n",
            "Epoch 27/200\n",
            "27/27 [==============================] - 0s 2ms/step - loss: 1.9784 - acc: 0.4695\n",
            "Epoch 28/200\n",
            "27/27 [==============================] - 0s 2ms/step - loss: 1.9289 - acc: 0.4836\n",
            "Epoch 29/200\n",
            "27/27 [==============================] - 0s 2ms/step - loss: 1.8788 - acc: 0.4883\n",
            "Epoch 30/200\n",
            "27/27 [==============================] - 0s 2ms/step - loss: 1.8316 - acc: 0.5023\n",
            "Epoch 31/200\n",
            "27/27 [==============================] - 0s 3ms/step - loss: 1.7839 - acc: 0.5070\n",
            "Epoch 32/200\n",
            "27/27 [==============================] - 0s 3ms/step - loss: 1.7380 - acc: 0.5070\n",
            "Epoch 33/200\n",
            "27/27 [==============================] - 0s 2ms/step - loss: 1.6935 - acc: 0.5164\n",
            "Epoch 34/200\n",
            "27/27 [==============================] - 0s 2ms/step - loss: 1.6502 - acc: 0.5258\n",
            "Epoch 35/200\n",
            "27/27 [==============================] - 0s 2ms/step - loss: 1.6098 - acc: 0.5446\n",
            "Epoch 36/200\n",
            "27/27 [==============================] - 0s 2ms/step - loss: 1.5662 - acc: 0.5446\n",
            "Epoch 37/200\n",
            "27/27 [==============================] - 0s 2ms/step - loss: 1.5267 - acc: 0.5634\n",
            "Epoch 38/200\n",
            "27/27 [==============================] - 0s 2ms/step - loss: 1.4858 - acc: 0.5915\n",
            "Epoch 39/200\n",
            "27/27 [==============================] - 0s 2ms/step - loss: 1.4480 - acc: 0.6009\n",
            "Epoch 40/200\n",
            "27/27 [==============================] - 0s 2ms/step - loss: 1.4097 - acc: 0.6291\n",
            "Epoch 41/200\n",
            "27/27 [==============================] - 0s 2ms/step - loss: 1.3735 - acc: 0.6432\n",
            "Epoch 42/200\n",
            "27/27 [==============================] - 0s 2ms/step - loss: 1.3374 - acc: 0.6573\n",
            "Epoch 43/200\n",
            "27/27 [==============================] - 0s 2ms/step - loss: 1.3020 - acc: 0.6948\n",
            "Epoch 44/200\n",
            "27/27 [==============================] - 0s 2ms/step - loss: 1.2682 - acc: 0.7230\n",
            "Epoch 45/200\n",
            "27/27 [==============================] - 0s 2ms/step - loss: 1.2336 - acc: 0.7324\n",
            "Epoch 46/200\n",
            "27/27 [==============================] - 0s 2ms/step - loss: 1.2005 - acc: 0.7512\n",
            "Epoch 47/200\n",
            "27/27 [==============================] - 0s 2ms/step - loss: 1.1685 - acc: 0.7559\n",
            "Epoch 48/200\n",
            "27/27 [==============================] - 0s 2ms/step - loss: 1.1355 - acc: 0.7559\n",
            "Epoch 49/200\n",
            "27/27 [==============================] - 0s 2ms/step - loss: 1.1050 - acc: 0.7934\n",
            "Epoch 50/200\n",
            "27/27 [==============================] - 0s 2ms/step - loss: 1.0762 - acc: 0.8028\n",
            "Epoch 51/200\n",
            "27/27 [==============================] - 0s 2ms/step - loss: 1.0460 - acc: 0.8216\n",
            "Epoch 52/200\n",
            "27/27 [==============================] - 0s 3ms/step - loss: 1.0178 - acc: 0.8169\n",
            "Epoch 53/200\n",
            "27/27 [==============================] - 0s 2ms/step - loss: 0.9892 - acc: 0.8310\n",
            "Epoch 54/200\n",
            "27/27 [==============================] - 0s 2ms/step - loss: 0.9624 - acc: 0.8310\n",
            "Epoch 55/200\n",
            "27/27 [==============================] - 0s 2ms/step - loss: 0.9359 - acc: 0.8357\n",
            "Epoch 56/200\n",
            "27/27 [==============================] - 0s 2ms/step - loss: 0.9098 - acc: 0.8451\n",
            "Epoch 57/200\n",
            "27/27 [==============================] - 0s 2ms/step - loss: 0.8856 - acc: 0.8451\n",
            "Epoch 58/200\n",
            "27/27 [==============================] - 0s 2ms/step - loss: 0.8614 - acc: 0.8451\n",
            "Epoch 59/200\n",
            "27/27 [==============================] - 0s 2ms/step - loss: 0.8368 - acc: 0.8498\n",
            "Epoch 60/200\n",
            "27/27 [==============================] - 0s 2ms/step - loss: 0.8135 - acc: 0.8545\n",
            "Epoch 61/200\n",
            "27/27 [==============================] - 0s 2ms/step - loss: 0.7913 - acc: 0.8592\n",
            "Epoch 62/200\n",
            "27/27 [==============================] - 0s 2ms/step - loss: 0.7693 - acc: 0.8779\n",
            "Epoch 63/200\n",
            "27/27 [==============================] - 0s 2ms/step - loss: 0.7473 - acc: 0.8779\n",
            "Epoch 64/200\n",
            "27/27 [==============================] - 0s 2ms/step - loss: 0.7269 - acc: 0.8873\n",
            "Epoch 65/200\n",
            "27/27 [==============================] - 0s 2ms/step - loss: 0.7066 - acc: 0.8920\n",
            "Epoch 66/200\n",
            "27/27 [==============================] - 0s 2ms/step - loss: 0.6871 - acc: 0.9014\n",
            "Epoch 67/200\n",
            "27/27 [==============================] - 0s 2ms/step - loss: 0.6673 - acc: 0.9014\n",
            "Epoch 68/200\n",
            "27/27 [==============================] - 0s 2ms/step - loss: 0.6491 - acc: 0.9108\n",
            "Epoch 69/200\n",
            "27/27 [==============================] - 0s 2ms/step - loss: 0.6311 - acc: 0.9202\n",
            "Epoch 70/200\n",
            "27/27 [==============================] - 0s 2ms/step - loss: 0.6124 - acc: 0.9249\n",
            "Epoch 71/200\n",
            "27/27 [==============================] - 0s 2ms/step - loss: 0.5956 - acc: 0.9249\n",
            "Epoch 72/200\n",
            "27/27 [==============================] - 0s 2ms/step - loss: 0.5792 - acc: 0.9296\n",
            "Epoch 73/200\n",
            "27/27 [==============================] - 0s 2ms/step - loss: 0.5637 - acc: 0.9296\n",
            "Epoch 74/200\n",
            "27/27 [==============================] - 0s 2ms/step - loss: 0.5468 - acc: 0.9296\n",
            "Epoch 75/200\n",
            "27/27 [==============================] - 0s 2ms/step - loss: 0.5316 - acc: 0.9296\n",
            "Epoch 76/200\n",
            "27/27 [==============================] - 0s 2ms/step - loss: 0.5162 - acc: 0.9296\n",
            "Epoch 77/200\n",
            "27/27 [==============================] - 0s 2ms/step - loss: 0.5029 - acc: 0.9343\n",
            "Epoch 78/200\n",
            "27/27 [==============================] - 0s 2ms/step - loss: 0.4889 - acc: 0.9390\n",
            "Epoch 79/200\n",
            "27/27 [==============================] - 0s 2ms/step - loss: 0.4748 - acc: 0.9437\n",
            "Epoch 80/200\n",
            "27/27 [==============================] - 0s 2ms/step - loss: 0.4615 - acc: 0.9531\n",
            "Epoch 81/200\n",
            "27/27 [==============================] - 0s 3ms/step - loss: 0.4487 - acc: 0.9577\n",
            "Epoch 82/200\n",
            "27/27 [==============================] - 0s 2ms/step - loss: 0.4361 - acc: 0.9577\n",
            "Epoch 83/200\n",
            "27/27 [==============================] - 0s 2ms/step - loss: 0.4248 - acc: 0.9577\n",
            "Epoch 84/200\n",
            "27/27 [==============================] - 0s 2ms/step - loss: 0.4125 - acc: 0.9624\n",
            "Epoch 85/200\n",
            "27/27 [==============================] - 0s 2ms/step - loss: 0.4014 - acc: 0.9671\n",
            "Epoch 86/200\n",
            "27/27 [==============================] - 0s 2ms/step - loss: 0.3908 - acc: 0.9671\n",
            "Epoch 87/200\n",
            "27/27 [==============================] - 0s 2ms/step - loss: 0.3795 - acc: 0.9718\n",
            "Epoch 88/200\n",
            "27/27 [==============================] - 0s 2ms/step - loss: 0.3693 - acc: 0.9718\n",
            "Epoch 89/200\n",
            "27/27 [==============================] - 0s 2ms/step - loss: 0.3593 - acc: 0.9718\n",
            "Epoch 90/200\n",
            "27/27 [==============================] - 0s 2ms/step - loss: 0.3502 - acc: 0.9765\n",
            "Epoch 91/200\n",
            "27/27 [==============================] - 0s 2ms/step - loss: 0.3408 - acc: 0.9765\n",
            "Epoch 92/200\n",
            "27/27 [==============================] - 0s 2ms/step - loss: 0.3323 - acc: 0.9812\n",
            "Epoch 93/200\n",
            "27/27 [==============================] - 0s 2ms/step - loss: 0.3230 - acc: 0.9812\n",
            "Epoch 94/200\n",
            "27/27 [==============================] - 0s 2ms/step - loss: 0.3149 - acc: 0.9812\n",
            "Epoch 95/200\n",
            "27/27 [==============================] - 0s 2ms/step - loss: 0.3070 - acc: 0.9812\n",
            "Epoch 96/200\n",
            "27/27 [==============================] - 0s 2ms/step - loss: 0.2995 - acc: 0.9812\n",
            "Epoch 97/200\n",
            "27/27 [==============================] - 0s 2ms/step - loss: 0.2910 - acc: 0.9812\n",
            "Epoch 98/200\n",
            "27/27 [==============================] - 0s 2ms/step - loss: 0.2834 - acc: 0.9812\n",
            "Epoch 99/200\n",
            "27/27 [==============================] - 0s 2ms/step - loss: 0.2766 - acc: 0.9812\n",
            "Epoch 100/200\n",
            "27/27 [==============================] - 0s 2ms/step - loss: 0.2693 - acc: 0.9812\n",
            "Epoch 101/200\n",
            "27/27 [==============================] - 0s 2ms/step - loss: 0.2625 - acc: 0.9812\n",
            "Epoch 102/200\n",
            "27/27 [==============================] - 0s 2ms/step - loss: 0.2565 - acc: 0.9812\n",
            "Epoch 103/200\n",
            "27/27 [==============================] - 0s 2ms/step - loss: 0.2497 - acc: 0.9812\n",
            "Epoch 104/200\n",
            "27/27 [==============================] - 0s 2ms/step - loss: 0.2434 - acc: 0.9812\n",
            "Epoch 105/200\n",
            "27/27 [==============================] - 0s 2ms/step - loss: 0.2374 - acc: 0.9812\n",
            "Epoch 106/200\n",
            "27/27 [==============================] - 0s 2ms/step - loss: 0.2316 - acc: 0.9812\n",
            "Epoch 107/200\n",
            "27/27 [==============================] - 0s 2ms/step - loss: 0.2259 - acc: 0.9812\n",
            "Epoch 108/200\n",
            "27/27 [==============================] - 0s 2ms/step - loss: 0.2208 - acc: 0.9812\n",
            "Epoch 109/200\n",
            "27/27 [==============================] - 0s 2ms/step - loss: 0.2148 - acc: 0.9812\n",
            "Epoch 110/200\n",
            "27/27 [==============================] - 0s 2ms/step - loss: 0.2100 - acc: 0.9812\n",
            "Epoch 111/200\n",
            "27/27 [==============================] - 0s 3ms/step - loss: 0.2047 - acc: 0.9859\n",
            "Epoch 112/200\n",
            "27/27 [==============================] - 0s 3ms/step - loss: 0.1997 - acc: 0.9906\n",
            "Epoch 113/200\n",
            "27/27 [==============================] - 0s 3ms/step - loss: 0.1950 - acc: 0.9812\n",
            "Epoch 114/200\n",
            "27/27 [==============================] - 0s 3ms/step - loss: 0.1902 - acc: 0.9812\n",
            "Epoch 115/200\n",
            "27/27 [==============================] - 0s 3ms/step - loss: 0.1856 - acc: 0.9812\n",
            "Epoch 116/200\n",
            "27/27 [==============================] - 0s 3ms/step - loss: 0.1816 - acc: 0.9812\n",
            "Epoch 117/200\n",
            "27/27 [==============================] - 0s 2ms/step - loss: 0.1770 - acc: 0.9906\n",
            "Epoch 118/200\n",
            "27/27 [==============================] - 0s 3ms/step - loss: 0.1725 - acc: 0.9812\n",
            "Epoch 119/200\n",
            "27/27 [==============================] - 0s 2ms/step - loss: 0.1686 - acc: 0.9859\n",
            "Epoch 120/200\n",
            "27/27 [==============================] - 0s 3ms/step - loss: 0.1647 - acc: 0.9859\n",
            "Epoch 121/200\n",
            "27/27 [==============================] - 0s 2ms/step - loss: 0.1609 - acc: 0.9812\n",
            "Epoch 122/200\n",
            "27/27 [==============================] - 0s 3ms/step - loss: 0.1572 - acc: 0.9812\n",
            "Epoch 123/200\n",
            "27/27 [==============================] - 0s 3ms/step - loss: 0.1536 - acc: 0.9859\n",
            "Epoch 124/200\n",
            "27/27 [==============================] - 0s 3ms/step - loss: 0.1498 - acc: 0.9906\n",
            "Epoch 125/200\n",
            "27/27 [==============================] - 0s 3ms/step - loss: 0.1465 - acc: 1.0000\n",
            "Epoch 126/200\n",
            "27/27 [==============================] - 0s 3ms/step - loss: 0.1430 - acc: 1.0000\n",
            "Epoch 127/200\n",
            "27/27 [==============================] - 0s 3ms/step - loss: 0.1399 - acc: 1.0000\n",
            "Epoch 128/200\n",
            "27/27 [==============================] - 0s 3ms/step - loss: 0.1367 - acc: 1.0000\n",
            "Epoch 129/200\n",
            "27/27 [==============================] - 0s 3ms/step - loss: 0.1335 - acc: 1.0000\n",
            "Epoch 130/200\n",
            "27/27 [==============================] - 0s 3ms/step - loss: 0.1304 - acc: 1.0000\n",
            "Epoch 131/200\n",
            "27/27 [==============================] - 0s 2ms/step - loss: 0.1274 - acc: 1.0000\n",
            "Epoch 132/200\n",
            "27/27 [==============================] - 0s 3ms/step - loss: 0.1246 - acc: 1.0000\n",
            "Epoch 133/200\n",
            "27/27 [==============================] - 0s 2ms/step - loss: 0.1218 - acc: 1.0000\n",
            "Epoch 134/200\n",
            "27/27 [==============================] - 0s 3ms/step - loss: 0.1190 - acc: 1.0000\n",
            "Epoch 135/200\n",
            "27/27 [==============================] - 0s 3ms/step - loss: 0.1162 - acc: 1.0000\n",
            "Epoch 136/200\n",
            "27/27 [==============================] - 0s 3ms/step - loss: 0.1139 - acc: 1.0000\n",
            "Epoch 137/200\n",
            "27/27 [==============================] - 0s 2ms/step - loss: 0.1113 - acc: 1.0000\n",
            "Epoch 138/200\n",
            "27/27 [==============================] - 0s 3ms/step - loss: 0.1087 - acc: 1.0000\n",
            "Epoch 139/200\n",
            "27/27 [==============================] - 0s 2ms/step - loss: 0.1063 - acc: 1.0000\n",
            "Epoch 140/200\n",
            "27/27 [==============================] - 0s 3ms/step - loss: 0.1042 - acc: 1.0000\n",
            "Epoch 141/200\n",
            "27/27 [==============================] - 0s 3ms/step - loss: 0.1017 - acc: 1.0000\n",
            "Epoch 142/200\n",
            "27/27 [==============================] - 0s 2ms/step - loss: 0.0996 - acc: 1.0000\n",
            "Epoch 143/200\n",
            "27/27 [==============================] - 0s 2ms/step - loss: 0.0973 - acc: 1.0000\n",
            "Epoch 144/200\n",
            "27/27 [==============================] - 0s 2ms/step - loss: 0.0952 - acc: 1.0000\n",
            "Epoch 145/200\n",
            "27/27 [==============================] - 0s 2ms/step - loss: 0.0931 - acc: 1.0000\n",
            "Epoch 146/200\n",
            "27/27 [==============================] - 0s 2ms/step - loss: 0.0913 - acc: 1.0000\n",
            "Epoch 147/200\n",
            "27/27 [==============================] - 0s 2ms/step - loss: 0.0892 - acc: 1.0000\n",
            "Epoch 148/200\n",
            "27/27 [==============================] - 0s 2ms/step - loss: 0.0875 - acc: 1.0000\n",
            "Epoch 149/200\n",
            "27/27 [==============================] - 0s 2ms/step - loss: 0.0855 - acc: 1.0000\n",
            "Epoch 150/200\n",
            "27/27 [==============================] - 0s 2ms/step - loss: 0.0839 - acc: 1.0000\n",
            "Epoch 151/200\n",
            "27/27 [==============================] - 0s 3ms/step - loss: 0.0819 - acc: 1.0000\n",
            "Epoch 152/200\n",
            "27/27 [==============================] - 0s 2ms/step - loss: 0.0803 - acc: 1.0000\n",
            "Epoch 153/200\n",
            "27/27 [==============================] - 0s 2ms/step - loss: 0.0786 - acc: 1.0000\n",
            "Epoch 154/200\n",
            "27/27 [==============================] - 0s 3ms/step - loss: 0.0771 - acc: 1.0000\n",
            "Epoch 155/200\n",
            "27/27 [==============================] - 0s 3ms/step - loss: 0.0755 - acc: 1.0000\n",
            "Epoch 156/200\n",
            "27/27 [==============================] - 0s 3ms/step - loss: 0.0739 - acc: 1.0000\n",
            "Epoch 157/200\n",
            "27/27 [==============================] - 0s 3ms/step - loss: 0.0725 - acc: 1.0000\n",
            "Epoch 158/200\n",
            "27/27 [==============================] - 0s 2ms/step - loss: 0.0711 - acc: 1.0000\n",
            "Epoch 159/200\n",
            "27/27 [==============================] - 0s 3ms/step - loss: 0.0696 - acc: 1.0000\n",
            "Epoch 160/200\n",
            "27/27 [==============================] - 0s 3ms/step - loss: 0.0682 - acc: 1.0000\n",
            "Epoch 161/200\n",
            "27/27 [==============================] - 0s 3ms/step - loss: 0.0668 - acc: 1.0000\n",
            "Epoch 162/200\n",
            "27/27 [==============================] - 0s 3ms/step - loss: 0.0655 - acc: 1.0000\n",
            "Epoch 163/200\n",
            "27/27 [==============================] - 0s 3ms/step - loss: 0.0642 - acc: 1.0000\n",
            "Epoch 164/200\n",
            "27/27 [==============================] - 0s 2ms/step - loss: 0.0629 - acc: 1.0000\n",
            "Epoch 165/200\n",
            "27/27 [==============================] - 0s 2ms/step - loss: 0.0616 - acc: 1.0000\n",
            "Epoch 166/200\n",
            "27/27 [==============================] - 0s 2ms/step - loss: 0.0605 - acc: 1.0000\n",
            "Epoch 167/200\n",
            "27/27 [==============================] - 0s 2ms/step - loss: 0.0593 - acc: 1.0000\n",
            "Epoch 168/200\n",
            "27/27 [==============================] - 0s 2ms/step - loss: 0.0583 - acc: 1.0000\n",
            "Epoch 169/200\n",
            "27/27 [==============================] - 0s 2ms/step - loss: 0.0570 - acc: 1.0000\n",
            "Epoch 170/200\n",
            "27/27 [==============================] - 0s 2ms/step - loss: 0.0561 - acc: 1.0000\n",
            "Epoch 171/200\n",
            "27/27 [==============================] - 0s 2ms/step - loss: 0.0551 - acc: 1.0000\n",
            "Epoch 172/200\n",
            "27/27 [==============================] - 0s 2ms/step - loss: 0.0539 - acc: 1.0000\n",
            "Epoch 173/200\n",
            "27/27 [==============================] - 0s 2ms/step - loss: 0.0529 - acc: 1.0000\n",
            "Epoch 174/200\n",
            "27/27 [==============================] - 0s 2ms/step - loss: 0.0519 - acc: 1.0000\n",
            "Epoch 175/200\n",
            "27/27 [==============================] - 0s 2ms/step - loss: 0.0508 - acc: 1.0000\n",
            "Epoch 176/200\n",
            "27/27 [==============================] - 0s 2ms/step - loss: 0.0499 - acc: 1.0000\n",
            "Epoch 177/200\n",
            "27/27 [==============================] - 0s 2ms/step - loss: 0.0490 - acc: 1.0000\n",
            "Epoch 178/200\n",
            "27/27 [==============================] - 0s 2ms/step - loss: 0.0482 - acc: 1.0000\n",
            "Epoch 179/200\n",
            "27/27 [==============================] - 0s 2ms/step - loss: 0.0472 - acc: 1.0000\n",
            "Epoch 180/200\n",
            "27/27 [==============================] - 0s 2ms/step - loss: 0.0463 - acc: 1.0000\n",
            "Epoch 181/200\n",
            "27/27 [==============================] - 0s 2ms/step - loss: 0.0455 - acc: 1.0000\n",
            "Epoch 182/200\n",
            "27/27 [==============================] - 0s 2ms/step - loss: 0.0448 - acc: 1.0000\n",
            "Epoch 183/200\n",
            "27/27 [==============================] - 0s 2ms/step - loss: 0.0438 - acc: 1.0000\n",
            "Epoch 184/200\n",
            "27/27 [==============================] - 0s 2ms/step - loss: 0.0431 - acc: 1.0000\n",
            "Epoch 185/200\n",
            "27/27 [==============================] - 0s 2ms/step - loss: 0.0426 - acc: 1.0000\n",
            "Epoch 186/200\n",
            "27/27 [==============================] - 0s 2ms/step - loss: 0.0416 - acc: 1.0000\n",
            "Epoch 187/200\n",
            "27/27 [==============================] - 0s 2ms/step - loss: 0.0408 - acc: 1.0000\n",
            "Epoch 188/200\n",
            "27/27 [==============================] - 0s 2ms/step - loss: 0.0400 - acc: 1.0000\n",
            "Epoch 189/200\n",
            "27/27 [==============================] - 0s 2ms/step - loss: 0.0393 - acc: 1.0000\n",
            "Epoch 190/200\n",
            "27/27 [==============================] - 0s 2ms/step - loss: 0.0386 - acc: 1.0000\n",
            "Epoch 191/200\n",
            "27/27 [==============================] - 0s 2ms/step - loss: 0.0379 - acc: 1.0000\n",
            "Epoch 192/200\n",
            "27/27 [==============================] - 0s 2ms/step - loss: 0.0373 - acc: 1.0000\n",
            "Epoch 193/200\n",
            "27/27 [==============================] - 0s 2ms/step - loss: 0.0366 - acc: 1.0000\n",
            "Epoch 194/200\n",
            "27/27 [==============================] - 0s 2ms/step - loss: 0.0360 - acc: 1.0000\n",
            "Epoch 195/200\n",
            "27/27 [==============================] - 0s 2ms/step - loss: 0.0354 - acc: 1.0000\n",
            "Epoch 196/200\n",
            "27/27 [==============================] - 0s 2ms/step - loss: 0.0347 - acc: 1.0000\n",
            "Epoch 197/200\n",
            "27/27 [==============================] - 0s 2ms/step - loss: 0.0341 - acc: 1.0000\n",
            "Epoch 198/200\n",
            "27/27 [==============================] - 0s 2ms/step - loss: 0.0336 - acc: 1.0000\n",
            "Epoch 199/200\n",
            "27/27 [==============================] - 0s 2ms/step - loss: 0.0329 - acc: 1.0000\n",
            "Epoch 200/200\n",
            "27/27 [==============================] - 0s 2ms/step - loss: 0.0325 - acc: 1.0000\n",
            "Saving the Model.......\n"
          ]
        }
      ],
      "source": [
        "print(\"Melakukan training model.......\")\n",
        "# Ensure the input shape matches the number of input features\n",
        "\n",
        "model.fit(train_x, train_y, batch_size=8, epochs=200)"
      ]
    },
    {
      "cell_type": "code",
      "execution_count": null,
      "metadata": {
        "colab": {
          "base_uri": "https://localhost:8080/"
        },
        "id": "NhUjpazdDq5s",
        "outputId": "da79f087-83cb-40e8-cc35-d6a819a7c14c"
      },
      "outputs": [
        {
          "name": "stdout",
          "output_type": "stream",
          "text": [
            "Pickle is also Saved..........\n"
          ]
        }
      ],
      "source": [
        "# Menyimpan model dan pickle\n",
        "print(\"Melakukan save model.......\")\n",
        "model.save('model.h5')\n",
        "\n",
        "print(\"Melakukan save pickle..........\")\n",
        "pickle.dump( {'words':words, 'classes':classes, 'train_x':train_x, 'train_y':train_y}, open( \"training_data\", \"wb\" ) )"
      ]
    },
    {
      "cell_type": "code",
      "execution_count": null,
      "metadata": {
        "colab": {
          "base_uri": "https://localhost:8080/"
        },
        "id": "nrYSvaxNDq5s",
        "outputId": "95751b71-ddb9-4717-c617-1175086ed996"
      },
      "outputs": [
        {
          "name": "stdout",
          "output_type": "stream",
          "text": [
            "Loading Pickle.....\n",
            "Loading the Model......\n"
          ]
        }
      ],
      "source": [
        "print(\"Melakukan load pickle.....\")\n",
        "data = pickle.load( open( \"training_data\", \"rb\" ) )\n",
        "words = data['words']\n",
        "classes = data['classes']\n",
        "train_x = data['train_x']\n",
        "train_y = data['train_y']\n",
        "\n",
        "\n",
        "with open('assets/intents.json') as json_data:\n",
        "    intents = json.load(json_data)\n",
        "\n",
        "print(\"Melakukan load model......\")\n",
        "# Melakukan loading model\n",
        "model = tf.keras.models.load_model('./model.h5')"
      ]
    },
    {
      "attachments": {},
      "cell_type": "markdown",
      "metadata": {},
      "source": [
        "#Preprocessing input data dari user"
      ]
    },
    {
      "cell_type": "code",
      "execution_count": null,
      "metadata": {
        "colab": {
          "base_uri": "https://localhost:8080/"
        },
        "id": "DSUfh6xdDq5s",
        "outputId": "b4bab006-87b6-4370-b2f4-ff5902495646"
      },
      "outputs": [
        {
          "name": "stdout",
          "output_type": "stream",
          "text": [
            "ERROR_THRESHOLD = 0.25\n"
          ]
        }
      ],
      "source": [
        "def clean_up_sentence(sentence):\n",
        "    # Melakukan tokenisasi dan stemming\n",
        "    sentence_words = nltk.word_tokenize(sentence)\n",
        "    sentence_words = [stemmer.stem(word.lower()) for word in sentence_words]\n",
        "    return sentence_words\n",
        "\n",
        "# Me-return array Bag of Words: True atau False dan 0 atau 1 untuk setiap kata di Bag of Words yang ada di kalimat user\n",
        "def bow(sentence, words, show_details=False):\n",
        "    sentence_words = clean_up_sentence(sentence)\n",
        "    bag = [0] * len(words)\n",
        "    for s in sentence_words:\n",
        "        for i, w in enumerate(words):\n",
        "            if w == s:\n",
        "                bag[i] = 1\n",
        "                if show_details:\n",
        "                    print(\"found in bag: %s\" % w)\n",
        "    return np.array(bag).reshape(1, -1)  # Reshape to (1, num_features)\n",
        "\n",
        "#Probabilitas maksimum untuk dihapus dari hasil\n",
        "ERROR_THRESHOLD = 0.25\n",
        "\n",
        "def classify(sentence):\n",
        "    # Melakukan prediksi menggunakan model\n",
        "    results = model.predict([bow(sentence, words)])[0]\n",
        "    # Menghapus hasil yang dibawah treshhold\n",
        "    results = [[i,r] for i,r in enumerate(results) if r>ERROR_THRESHOLD]\n",
        "    # Mengsortir model berdasarkan probabilitas tertinggi\n",
        "    results.sort(key=lambda x: x[1], reverse=True)\n",
        "    return_list = []\n",
        "    for r in results:\n",
        "        return_list.append((classes[r[0]], r[1])) #Tuppl -> Intent and Probability\n",
        "    return return_list\n",
        "\n",
        "def response(sentence, userID='123', show_details=False):\n",
        "    results = classify(sentence)\n",
        "    # Menyesuaikan tag yang cocok\n",
        "    if results:\n",
        "        while results:\n",
        "            for i in intents['intents']:\n",
        "                if i['tag'] == results[0][0]:\n",
        "                    # Mengacak response\n",
        "                    return print(random.choice(i['responses']))\n",
        "\n",
        "            results.pop(0)"
      ]
    },
    {
      "attachments": {},
      "cell_type": "markdown",
      "metadata": {},
      "source": [
        "#Testing Model"
      ]
    },
    {
      "cell_type": "code",
      "execution_count": null,
      "metadata": {
        "colab": {
          "background_save": true,
          "base_uri": "https://localhost:8080/",
          "height": 643
        },
        "id": "RyFGkh9BDq5s",
        "outputId": "33fde856-dbff-4003-f7bc-3763eeae5745"
      },
      "outputs": [
        {
          "name": "stdout",
          "output_type": "stream",
          "text": [
            "1/1 [==============================] - 0s 89ms/step\n",
            "Halo, Selamat datang di JasaIn Chatbot!. Jika kamu mempunyai kendala, silahkan deskripsikan kendalamu ya!\n"
          ]
        }
      ],
      "source": [
        "while True:\n",
        "    input_data = input(\"You- \")\n",
        "    if input_data.lower() in ['exit', 'selamat tinggal']:\n",
        "        break\n",
        "    else:\n",
        "        answer = response(input_data)"
      ]
    },
    {
      "attachments": {},
      "cell_type": "markdown",
      "metadata": {},
      "source": [
        "#Konversi TFLite"
      ]
    },
    {
      "cell_type": "code",
      "execution_count": null,
      "metadata": {
        "colab": {
          "base_uri": "https://localhost:8080/",
          "height": 437
        },
        "id": "uh_tqHtADq5s",
        "outputId": "9d22a7fd-4a33-44b8-adf2-8e40b2187030"
      },
      "outputs": [
        {
          "name": "stderr",
          "output_type": "stream",
          "text": [
            "WARNING:absl:Found untraced functions such as _update_step_xla while saving (showing 1 of 1). These functions will not be directly callable after loading.\n",
            "WARNING:tensorflow:From /usr/local/lib/python3.10/dist-packages/tensorflow/lite/python/util.py:306: convert_variables_to_constants (from tensorflow.python.framework.convert_to_constants) is deprecated and will be removed in a future version.\n",
            "Instructions for updating:\n",
            "This API was designed for TensorFlow v1. See https://www.tensorflow.org/guide/migrate for instructions on how to migrate your code to TensorFlow v2.\n",
            "WARNING:tensorflow:From /usr/local/lib/python3.10/dist-packages/tensorflow/python/framework/convert_to_constants.py:952: extract_sub_graph (from tensorflow.python.framework.graph_util_impl) is deprecated and will be removed in a future version.\n",
            "Instructions for updating:\n",
            "This API was designed for TensorFlow v1. See https://www.tensorflow.org/guide/migrate for instructions on how to migrate your code to TensorFlow v2.\n",
            "Use '@tf.function' or '@defun' to decorate the function.\n",
            "Use '@tf.function' or '@defun' to decorate the function.\n",
            "Use '@tf.function' or '@defun' to decorate the function.\n",
            "Use '@tf.function' or '@defun' to decorate the function.\n",
            "Use '@tf.function' or '@defun' to decorate the function.\n",
            "Use '@tf.function' or '@defun' to decorate the function.\n",
            "Use '@tf.function' or '@defun' to decorate the function.\n",
            "Use '@tf.function' or '@defun' to decorate the function.\n",
            "Use '@tf.function' or '@defun' to decorate the function.\n",
            "Use '@tf.function' or '@defun' to decorate the function.\n"
          ]
        },
        {
          "data": {
            "application/vnd.google.colaboratory.intrinsic+json": {
              "type": "string"
            },
            "text/plain": [
              "\"\\nfrom flask import Flask, jsonify, request\\n# Create a Flask web application\\n\\napp = Flask(__name__)\\n\\n@app.route('/predict', methods=['POST'])\\ndef predict():\\n    # Get the data from the POST request\\n    data = request.get_json()\\n\\n    # Preprocess the data if necessary\\n    # ...\\n\\n    # Perform inference using the TFLite model\\n    interpreter = tf.lite.Interpreter(model_path='your_model.tflite')\\n    interpreter.allocate_tensors()\\n\\n    # Get input and output details\\n    input_details = interpreter.get_input_details()\\n    output_details = interpreter.get_output_details()\\n\\n    # Set the input tensor\\n    input_data = data  # Modify if preprocessing is required\\n    interpreter.set_tensor(input_details[0]['index'], input_data)\\n\\n    # Run inference\\n    interpreter.invoke()\\n\\n    # Get the output tensor\\n    output_data = interpreter.get_tensor(output_details[0]['index'])\\n\\n    # Postprocess the prediction if necessary\\n    # ...\\n\\n    # Return the prediction as a JSON response\\n    return jsonify({'prediction': output_data.tolist()})\\n\\nif __name__ == '__main__':\\n    app.run()\\n\""
            ]
          },
          "execution_count": 35,
          "metadata": {},
          "output_type": "execute_result"
        }
      ],
      "source": [
        "# Konversi .h5 model menjadi TFLite model\n",
        "converter = tf.lite.TFLiteConverter.from_keras_model('model.h5')\n",
        "tflite_model = converter.convert()\n",
        "\n",
        "# Melakukan save TFLite model\n",
        "with open('model.tflite', 'wb') as f:\n",
        "    f.write(tflite_model)"
      ]
    }
  ],
  "metadata": {
    "colab": {
      "provenance": [],
      "toc_visible": true
    },
    "kernelspec": {
      "display_name": "Python 3 (ipykernel)",
      "language": "python",
      "name": "python3"
    },
    "language_info": {
      "codemirror_mode": {
        "name": "ipython",
        "version": 3
      },
      "file_extension": ".py",
      "mimetype": "text/x-python",
      "name": "python",
      "nbconvert_exporter": "python",
      "pygments_lexer": "ipython3",
      "version": "3.10.9"
    }
  },
  "nbformat": 4,
  "nbformat_minor": 0
}
