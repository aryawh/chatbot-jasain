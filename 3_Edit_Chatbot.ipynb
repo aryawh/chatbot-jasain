{
  "cells": [
    {
      "cell_type": "code",
      "execution_count": 1,
      "metadata": {
        "colab": {
          "base_uri": "https://localhost:8080/"
        },
        "id": "2YTiUdaWb2GO",
        "outputId": "50e3a20c-1cbd-4aef-be60-f6c28af2a4e5"
      },
      "outputs": [
        {
          "name": "stderr",
          "output_type": "stream",
          "text": [
            "[nltk_data] Downloading package punkt to /root/nltk_data...\n",
            "[nltk_data]   Unzipping tokenizers/punkt.zip.\n"
          ]
        }
      ],
      "source": [
        "# Import Library\n",
        "\n",
        "\n",
        "# Model\n",
        "import numpy as np\n",
        "import tensorflow as tf\n",
        "import random\n",
        "\n",
        "# Kontekstualisasi dan Pekerjaan NLP\n",
        "import nltk\n",
        "nltk.download('punkt')\n",
        "from nltk.stem.lancaster import LancasterStemmer\n",
        "stemmer = LancasterStemmer()\n",
        "\n",
        "# Pendukung\n",
        "import json\n",
        "import pickle\n",
        "import warnings\n",
        "import curses\n",
        "\n",
        "warnings.filterwarnings('ignore')"
      ]
    },
    {
      "cell_type": "code",
      "execution_count": 2,
      "metadata": {
        "colab": {
          "base_uri": "https://localhost:8080/"
        },
        "id": "VzioSzbr7Z4P",
        "outputId": "afd784ba-e432-474e-863e-6807409aca96"
      },
      "outputs": [
        {
          "name": "stdout",
          "output_type": "stream",
          "text": [
            "2.12.0\n"
          ]
        }
      ],
      "source": [
        "print(tf.__version__)"
      ]
    },
    {
      "cell_type": "code",
      "execution_count": 4,
      "metadata": {
        "colab": {
          "base_uri": "https://localhost:8080/"
        },
        "id": "X4bZ8MjN7xxd",
        "outputId": "e0498d06-415c-440c-c827-f7bf051e1075"
      },
      "outputs": [
        {
          "name": "stdout",
          "output_type": "stream",
          "text": [
            "Processing the intents\n"
          ]
        }
      ],
      "source": [
        "# Upload Dataset\n",
        "print(\"Processing the intents\")\n",
        "with open('sample_data/intents.json') as file:\n",
        "  data = json.load(file)"
      ]
    },
    {
      "cell_type": "code",
      "execution_count": 5,
      "metadata": {
        "colab": {
          "base_uri": "https://localhost:8080/"
        },
        "id": "-vFq84zo8Fwn",
        "outputId": "3e22eb64-9a61-40f1-b80c-f9adf86f6cf4"
      },
      "outputs": [
        {
          "name": "stdout",
          "output_type": "stream",
          "text": [
            "{'intents': [{'tag': 'salam', 'patterns': ['Hai', 'Halo', 'Assalamualaikum', 'Hei', 'Selamat Pagi', 'Selamat Siang', 'Selamat Sore', 'Selamat Malam', 'Pagi', 'Siang', 'Sore', 'Malam', 'Malem', 'Hallo Admin', 'Halo Admin', 'Hai Admin'], 'responses': ['Halo, Selamat datang di JasaIn Chatbot!. Jika kamu mempunyai kendala, silahkan deskripsikan kendalamu ya!']}, {'tag': 'penutup', 'patterns': ['Terimakasih', 'Makasih', 'Thank You', 'Makasih Banyak', 'Terimakasih Banyak', 'Terimaksih atas Bantuannya', 'Makasih atas Bantuannya', 'Oke Makasih', 'Oke Terimakasih', 'Oke terimakasih atas bantuannya'], 'responses': ['Sama-sama, Senang Bisa membantu!, Terimakasih telah menghubungi kami']}, {'tag': 'hp_lcd', 'patterns': ['Saya punya kendala, LCD hp saya kadang-kadang tidak bisa dipencet', 'Hp saya tidak bisa ditekan', 'Layar saya tidak bisa dipencet', 'layar Hp sya mati tetapi masih ada suara notifikasi', 'Layar Hp saya tidak bisa disentuh', 'Layar Hp gak bisa disentuh', 'Touchscreen hp saya tidak berfungsi'], 'responses': ['Handphone kamu harus ganti LCD, jangan lupa sesuaikan mereknya ya']}, {'tag': 'hp_iccharger', 'patterns': ['Hp saya tidak bisa di cas', 'Hp saya tidak bisa di charger', 'Kenapa ya hp saya tidak bisa di cas', 'Kenapa ya hp saya tidak bisa di charger', 'Saya sudah cas hp saya tapi persentase baterainya tidak bertambah', 'Gak bisa di cas', 'Ga bisa di cas', 'Gak bisa di charger', 'Saat di cas selalu putus-putus', 'Saat di cas hp saya putus nyambung', 'Kalau di cas kenapa ya hp saya putus-putus', 'Hp saya ridak dapat mengisi daya', 'Ponsel saya tidak bisa dicas', 'Ponsel saya tidak bisa diisi daya', 'Ponsel saya tidak mau mengisi daya', 'Ponsel saya tidak mau ngecas'], 'responses': ['IC charger hp kamu rusak. Penyebabnya bisa ditimbulkan oleh berbagai macam, salah satunya adalah yang paling sering adalah menggunakan hp bermain sambil di cas,terutama main game online, chatting, download, streaming youtube dan aktivitas lain yang membutuhkan daya baterai besar. Hal ini akan membebankan IC Power sehingga harus bekerja secara terus menerus baik saat melakukan pengisian baterai dan saat dimainkan.']}, {'tag': 'hp_bootlop', 'patterns': ['Saya punya kendala,hp saya tidak bisa menyala hanya stuck di logo', 'Hp saya mati dan saat dinyalakan tidak bisa menyala hanya muncul logo saja', 'Ponsel saya stuck di logo tidak mau menyala', 'Hp saya gak mau nyala cuma stuck di logo', 'Layar hp saat dinyalakan hanya ada gambar merek hp saja'], 'responses': ['Handphone kamu mengalami bootlop, segera hubungi tukang servis andalanmu ya!']}, {'tag': 'hp_baterai', 'patterns': ['Saat hp saya dicas baterai tidak bertambah', 'baterai tidak bertambah saat dicas', 'Hp saya bisa di cas akan tetapi baterai tidak bertambah', 'Saat di cas, baterai hp saya tidak bertambah', 'Saat dicas baterai hp saya malah berkurang', 'Saat dicas baterai ponsel saya tidak bertambah', 'Saat di cas persentase baterai ponsel saya malah berkurang', 'Casan nyambung tapi baterai tidak bertambah', 'Casan nyambung tapi persenan batre gak nambah'], 'responses': ['Handphone kamu harus ganti Baterai, jangan lupa sesuaikan mereknya ya']}, {'tag': 'hp_overheat', 'patterns': ['Saya punya kendala,hp saya gampang panas', 'Hp saya mudah panas', 'hp saya sering panas'], 'responses': ['Handphone kamu mengalami overheat, jangan sering sering menggunakan hp sambil di charge. Coba kurangi kecerahan dan matikan aplikasi yang berjalan di belakang. Jika masih sering mengalami overheat segera konsultasikan dengan rangers pilihan anda ya!']}, {'tag': 'hp_wifi', 'patterns': ['Saya punya kendala,wifi hp saya tidak bisa menyala', 'Wifi hp saya tidak bisa dinyalakan', 'Ponsel saya tidak bisa menyalakan wifi', 'Wifi Hp saya gak mau nyala', 'Wifi ponsel saya tidak bisa dinyalakan', 'Koneksi wifi sering mati sendiri', 'Wifi hp saya sering mati sendiri', 'Koneksi wifi di hp saya lambat padahal di hp teman normal', 'Koneksi Wifi hp saya sering mati sendiri', 'Ponsel saya wifinya sering mati sendiri', 'Koneksi Wifi ponsel saya tiba tiba terputus sendiri'], 'responses': ['Handphone kamu mengalami kerusakan di bagian IC Wifi, segera hubungi tukang rangers andalanmu ya!']}, {'tag': 'hp_bluetooth', 'patterns': ['Saya punya kendala,bluetooth hp saya tidak bisa menyala', 'Bluetooth Hp saya gak bisa nyala', 'Ponsel saya tidak bisa menyalakan bluetooth', 'Blutut Hp saya gak bisa dinyalakan', 'Bluetooth Ponsel saya tidak bisa dinyalakan', 'Blutut HP gue gk bisa nyala', 'HP gua gak bisa nyalain bluetooth', 'Hp saya gak bisa nyalain bluetooth', 'Bluetooth hpku gak bisa dinyalain', 'Hp saya bluetoothnya gk bisa nyala'], 'responses': ['Handphone kamu mengalami kerusakan di bagian IC bluetoothnya ya, segera hubungi rangers andalanmu ya!']}, {'tag': 'ac_arti', 'patterns': ['Apa itu AC?', 'AC artinya apa?', 'AC singkatan dari?', 'AC adalah', 'AC apa', 'AC kepanjangannya apa', 'AC', 'Definisi AC', 'Pengertian AC', 'Apa AC', 'AC'], 'responses': ['AC atau Air Conditioner adalah alat yang berfungsi untuk menurunkan suhu atau temperature ruangan']}, {'tag': 'ac_merek', 'patterns': ['Merek AC ada apa saja?', 'Apa saja merek AC?', 'Merek AC', 'Merek AC yang bagus?', 'AC apa yang bagus?', 'Apa saja merek AC yang bagus?', 'Merek', 'AC Merek'], 'responses': ['Menurut Tokopedia, merek AC yang terbaik antara lain adalah Daikin, Sharp, Panasonic, Gree, LG, Samsung, AUX, Changhong, Mitshubishi, Denpoo, Midea, Akari, Polytron']}, {'tag': 'ac_rusak', 'patterns': ['AC saya rusak', 'Mengapa AC saya rusak?', 'AC rusak', 'Apa saja masalah AC?', 'AC saya bermasalah', 'AC bermasalah', 'Masalah pada AC', 'Rusak', 'AC saya perlu diperbaiki', 'Perbaikan', 'Perbaikan AC', 'AC diperbaiki', 'Kerusakan AC', 'Kerusakan', 'Rusak'], 'responses': ['Kerusakan pada AC dapat disebabkan oleh hal antara lain, part yang tidak dibersihkan, freon habis, bocor, kompresor rusak']}, {'tag': 'ac_kotor', 'patterns': ['AC kotor', 'AC saya kotor', 'Mengapa AC saya kotor?', 'AC saya tidak bersih', 'AC perlu dibersihkan', 'Kotor', 'AC tidak bersih', 'AC bau'], 'responses': ['AC yang belum dibersihkan dapat menyebabkan masalah seperti udara tidak dingin dan segar']}, {'tag': 'ac_freon', 'patterns': ['Ganti freon', 'AC saya butuh freon', 'Freon AC saya habis', 'Apa itu freon?', 'Freon AC', 'Freon'], 'responses': ['Freon membuat udara AC dingin, apabila AC kekurangan freon maka AC tidak akan bekerja dengan optimal']}, {'tag': 'ac_kompresor', 'patterns': ['Kompresor', 'AC saya kompresornya rusak', 'Kompresor AC saya rusak', 'Unit luar AC saya rusak', 'Unit luar', 'Unit outdoor'], 'responses': ['Kerusakan pada bagian kompresor yang menyebabkan AC tidak bisa dingin. Kerusakan pada penunjang kompresor seperti kapasitor, kerusakan pada kipas pembuang panas, serta kerusakan relay penyalur listrik ke outdoor unit.']}, {'tag': 'ac_bocor', 'patterns': ['AC bocor', 'AC saya bocor', 'AC saya bocor air', 'Ada air dari AC saya', 'AC berair', 'Air AC', 'Air menetes dari AC', 'Air jatuh', 'Bocor'], 'responses': ['Kebocoran air pada AC disebabkan oleh rusaknya pipa atau tabung penampung']}, {'tag': 'create_account', 'patterns': ['Aku perlu membuat akun baru', 'Bagaimana cara membuka akun baru?', 'Aku ingin membuat akun', 'Bisakah kamu membuat akun untukku?', 'Bagaimana cara membuka akun baru?'], 'responses': ['Kamu bisa dengan mudah membuat akun baru dengan klik profile dibagian bawah, kemudian pencet button sign up', 'Pergi saja ke bagian profile dan ikuti klik button sign up']}, {'tag': 'complaint', 'patterns': ['Ada keluhan', 'Aku ingin mengajukan keluhan', 'Ada keluhan tentang layanan', 'Laptop saya rusak min', 'Handphone saya rusak min', 'HP saya rusak min', 'Ac saya rusak min'], 'responses': ['Mohon berikan keluhanmu agar kami bisa membantumu', 'Silakan sebutkan keluhanmu, kami akan coba membantumu']}, {'tag': 'laptop_overheating', 'patterns': ['Laptop panas', 'Laptop terlalu panas', 'Overheating', 'Laptop suka panas', 'Laptopnya Overheat'], 'responses': ['Masalah overheating pada laptop bisa disebabkan oleh kipas yang kotor atau pendingin yang tidak efektif. Pastikan laptop Anda memiliki ventilasi yang baik dan coba bersihkan kipas dari debu secara berkala.']}, {'tag': 'laptop_keyboard_not_working', 'patterns': ['Keyboard tidak berfungsi', 'Tombol keyboard tidak merespons', 'Keyboard laptop saya rusak', 'Keyboardnya rusak', 'Tombolnya Rusak'], 'responses': ['Jika keyboard laptop tidak berfungsi, coba periksa apakah ada kotoran atau cairan yang masuk ke dalamnya. Jika tidak, kemungkinan ada masalah dengan driver keyboard atau perlu penggantian keyboard.']}, {'tag': 'laptop_blue_screen', 'patterns': ['Layar laptop biru', 'Blue screen', 'Ini layar laptopnya biru kenapa ya?'], 'responses': ['Jika Anda mengalami blue screen of death (BSOD), ini bisa menjadi indikasi adanya masalah serius pada sistem operasi atau driver. Perbarui driver dan pastikan laptop Anda terlindungi dengan pembaruan keamanan terbaru.']}, {'tag': 'laptop_battery_issues', 'patterns': ['Baterai laptop tidak bertahan lama', 'Baterai tidak terisi', 'Baterai bocor', 'batre bocor', 'Ini baterainya bocor kenapa ya?'], 'responses': ['Jika baterai laptop tidak bertahan lama atau tidak terisi dengan baik, coba kalibrasi baterai atau pertimbangkan untuk mengganti baterai jika sudah tua. Juga pastikan pengaturan daya laptop Anda sudah optimal.']}, {'tag': 'laptop_screen_problems', 'patterns': ['Layar laptop tidak menyala', 'Layar laptop blank'], 'responses': ['Jika layar laptop tidak menyala atau tetap hitam, periksa kabel konektor layar dan pastikan tidak ada masalah dengan inverter backlight. Jika masih tidak berhasil, ada kemungkinan kerusakan pada panel layar dan perlu diperbaiki oleh teknisi.']}, {'tag': 'laptop_wifi_issues', 'patterns': ['Tidak bisa terhubung ke Wi-Fi', 'Masalah koneksi Wi-Fi', 'Wifinya engga bisa', 'Wifinya gak konek'], 'responses': ['Jika Anda mengalami masalah koneksi Wi-Fi, pastikan Anda telah memasukkan password yang benar dan jarak antara laptop dan router tidak terlalu jauh. Jika masih tidak terhubung, coba restart router dan periksa pengaturan jaringan pada laptop.']}, {'tag': 'laptop_hard_drive_failure', 'patterns': ['Hard drive rusak', 'Kerusakan hard drive', 'HDD rusak min', 'Hard Disknya rusak min', 'HDD error'], 'responses': ['Jika hard drive laptop mengalami kerusakan atau kegagalan, Anda mungkin perlu mengganti hard drive tersebut. Pastikan Anda memiliki cadangan data yang penting dan konsultasikan dengan teknisi untuk melakukan penggantian hard drive yang tepat.']}, {'tag': 'laptop_usb_port_issues', 'patterns': ['Port USB rusak', 'Port USB tidak berfungsi', 'Ini USB gak bisa konek min', 'USB error'], 'responses': ['Jika port USB pada laptop rusak atau tidak berfungsi, periksa apakah ada kotoran atau kerusakan fisik di dalamnya. Jika perlu, Anda dapat mencoba membersihkan port atau menggunakan port USB tambahan seperti USB hub.']}, {'tag': 'laptop_audio_problems', 'patterns': ['Masalah suara laptop', 'Tidak ada suara dari laptop', 'Speaker laptonya gak ada suara', 'Speaker mati'], 'responses': ['Jika laptop tidak mengeluarkan suara atau mengalami suara yang terdistorsi, pastikan pengaturan suara di laptop sudah benar dan driver audio telah diinstal dengan benar. Jika masalah persisten, Anda mungkin perlu mengganti speaker laptop.']}, {'tag': 'laptop_slow_performance', 'patterns': ['Laptop lemot', 'Kinerja laptop lambat', 'Laptop nge lag', 'laptop lag'], 'responses': ['Jika laptop mengalami kinerja yang lambat, coba periksa penggunaan sumber daya seperti CPU dan RAM. Pastikan tidak ada program yang membebani laptop secara berlebihan. Anda juga dapat membersihkan file dan program yang tidak perlu atau mempertimbangkan peningkatan komponen hardware.']}, {'tag': 'laptop_virus_infection', 'patterns': ['Laptop terinfeksi virus', 'Virus di laptop', 'Laptop kenak virus'], 'responses': ['Jika laptop terinfeksi virus, pastikan Anda memiliki program antivirus yang terbaru dan lakukan pemindaian penuh. Hapus atau karantina file yang terdeteksi sebagai ancaman. Jika masalah persisten, konsultasikan dengan teknisi komputer.']}, {'tag': 'laptop_screen_flickering', 'patterns': ['Layar laptop berkedip', 'Layar laptop berkedip-kedip'], 'responses': ['Jika layar laptop berkedip atau berkedip-kedip, periksa apakah driver kartu grafis sudah terbaru. Juga, pastikan tidak ada masalah dengan kabel penghubung atau layar yang rusak. Jika diperlukan, konsultasikan dengan teknisi untuk perbaikan lebih lanjut.']}, {'tag': 'laptop_charging_issues', 'patterns': ['Laptop tidak bisa diisi daya', 'Masalah pengisian daya laptop', 'Laptonya gabisa ngecas', 'casannya error'], 'responses': ['Jika laptop tidak bisa diisi daya, periksa kabel pengisi daya dan port charging laptop. Jika mungkin, coba menggunakan kabel dan charger yang berbeda. Jika masalah persisten, kemungkinan ada masalah dengan baterai atau komponen pengisian daya. Konsultasikan dengan teknisi untuk perbaikan lebih lanjut.']}, {'tag': 'laptop_driver_errors', 'patterns': ['Kesalahan driver', 'Driver laptop rusak', 'Driver laptop error'], 'responses': ['Jika mengalami kesalahan driver, periksa apakah driver sudah diperbarui ke versi terbaru. Jika masih ada masalah, coba uninstall dan install ulang driver yang bersangkutan. Jika masalah persisten, konsultasikan dengan teknisi komputer.']}, {'tag': 'laptop_startup_issues', 'patterns': ['Laptop tidak bisa menyala', 'Masalah saat startup laptop'], 'responses': ['Jika laptop tidak bisa menyala atau mengalami masalah saat startup, coba periksa apakah baterai cukup terisi atau charger terhubung dengan baik. Juga, periksa apakah ada masalah dengan RAM atau hard drive. Jika masalah persisten, konsultasikan dengan teknisi komputer.']}]}\n"
          ]
        }
      ],
      "source": [
        "print(data)"
      ]
    },
    {
      "cell_type": "code",
      "execution_count": 6,
      "metadata": {
        "colab": {
          "base_uri": "https://localhost:8080/"
        },
        "id": "ZmUbiy7J8UYp",
        "outputId": "902cadd8-6d76-4474-8e26-8acc7df52274"
      },
      "outputs": [
        {
          "name": "stdout",
          "output_type": "stream",
          "text": [
            "\"Ulangi Niat untuk Mengonversinya menjadi kata, kelas, dokumen, dan abaikan kata....\"\n"
          ]
        }
      ],
      "source": [
        "# Mengelompokkan kata\n",
        "words = []\n",
        "classes = []\n",
        "documents = []\n",
        "ignore_words = []\n",
        "print('\"Ulangi Niat untuk Mengonversinya menjadi kata, kelas, dokumen, dan abaikan kata....\"')\n",
        "for intent in data['intents']:\n",
        "  for pattern in intent['patterns']:\n",
        "    # Tokenisasi tiap kata dalam kalimat\n",
        "    w = nltk.word_tokenize(pattern)\n",
        "    # Menambahkan hasil tokenisasi ke dalam array words\n",
        "    words.extend(w)\n",
        "    # Menambahkan dokumen ke dalam korpus(pelatihan/uji)\n",
        "    documents.append((w, intent['tag']))\n",
        "    # Menambahkan tag kedalama array class\n",
        "    if intent['tag'] not in classes:\n",
        "      classes.append(intent['tag'])"
      ]
    },
    {
      "cell_type": "code",
      "execution_count": 7,
      "metadata": {
        "colab": {
          "base_uri": "https://localhost:8080/"
        },
        "id": "XBkBfGsm9uBp",
        "outputId": "ab353994-ad42-49ae-9389-305207446f2c"
      },
      "outputs": [
        {
          "name": "stdout",
          "output_type": "stream",
          "text": [
            "['Hai' 'Halo' 'Assalamualaikum' 'Hei' 'Selamat' 'Pagi' 'Selamat' 'Siang'\n",
            " 'Selamat' 'Sore' 'Selamat' 'Malam' 'Pagi' 'Siang' 'Sore' 'Malam' 'Malem'\n",
            " 'Hallo' 'Admin' 'Halo' 'Admin' 'Hai' 'Admin' 'Terimakasih' 'Makasih'\n",
            " 'Thank' 'You' 'Makasih' 'Banyak' 'Terimakasih' 'Banyak' 'Terimaksih'\n",
            " 'atas' 'Bantuannya' 'Makasih' 'atas' 'Bantuannya' 'Oke' 'Makasih' 'Oke'\n",
            " 'Terimakasih' 'Oke' 'terimakasih' 'atas' 'bantuannya' 'Saya' 'punya'\n",
            " 'kendala' ',' 'LCD' 'hp' 'saya' 'kadang-kadang' 'tidak' 'bisa' 'dipencet'\n",
            " 'Hp' 'saya' 'tidak' 'bisa' 'ditekan' 'Layar' 'saya' 'tidak' 'bisa'\n",
            " 'dipencet' 'layar' 'Hp' 'sya' 'mati' 'tetapi' 'masih' 'ada' 'suara'\n",
            " 'notifikasi' 'Layar' 'Hp' 'saya' 'tidak' 'bisa' 'disentuh' 'Layar' 'Hp'\n",
            " 'gak' 'bisa' 'disentuh' 'Touchscreen' 'hp' 'saya' 'tidak' 'berfungsi'\n",
            " 'Hp' 'saya' 'tidak' 'bisa' 'di' 'cas' 'Hp' 'saya' 'tidak' 'bisa' 'di'\n",
            " 'charger' 'Kenapa' 'ya' 'hp' 'saya' 'tidak' 'bisa' 'di' 'cas' 'Kenapa'\n",
            " 'ya' 'hp' 'saya' 'tidak' 'bisa' 'di' 'charger' 'Saya' 'sudah' 'cas' 'hp'\n",
            " 'saya' 'tapi' 'persentase' 'baterainya' 'tidak' 'bertambah' 'Gak' 'bisa'\n",
            " 'di' 'cas' 'Ga' 'bisa' 'di' 'cas' 'Gak' 'bisa' 'di' 'charger' 'Saat' 'di'\n",
            " 'cas' 'selalu' 'putus-putus' 'Saat' 'di' 'cas' 'hp' 'saya' 'putus'\n",
            " 'nyambung' 'Kalau' 'di' 'cas' 'kenapa' 'ya' 'hp' 'saya' 'putus-putus'\n",
            " 'Hp' 'saya' 'ridak' 'dapat' 'mengisi' 'daya' 'Ponsel' 'saya' 'tidak'\n",
            " 'bisa' 'dicas' 'Ponsel' 'saya' 'tidak' 'bisa' 'diisi' 'daya' 'Ponsel'\n",
            " 'saya' 'tidak' 'mau' 'mengisi' 'daya' 'Ponsel' 'saya' 'tidak' 'mau'\n",
            " 'ngecas' 'Saya' 'punya' 'kendala' ',' 'hp' 'saya' 'tidak' 'bisa'\n",
            " 'menyala' 'hanya' 'stuck' 'di' 'logo' 'Hp' 'saya' 'mati' 'dan' 'saat'\n",
            " 'dinyalakan' 'tidak' 'bisa' 'menyala' 'hanya' 'muncul' 'logo' 'saja'\n",
            " 'Ponsel' 'saya' 'stuck' 'di' 'logo' 'tidak' 'mau' 'menyala' 'Hp' 'saya'\n",
            " 'gak' 'mau' 'nyala' 'cuma' 'stuck' 'di' 'logo' 'Layar' 'hp' 'saat'\n",
            " 'dinyalakan' 'hanya' 'ada' 'gambar' 'merek' 'hp' 'saja' 'Saat' 'hp'\n",
            " 'saya' 'dicas' 'baterai' 'tidak' 'bertambah' 'baterai' 'tidak'\n",
            " 'bertambah' 'saat' 'dicas' 'Hp' 'saya' 'bisa' 'di' 'cas' 'akan' 'tetapi'\n",
            " 'baterai' 'tidak' 'bertambah' 'Saat' 'di' 'cas' ',' 'baterai' 'hp' 'saya'\n",
            " 'tidak' 'bertambah' 'Saat' 'dicas' 'baterai' 'hp' 'saya' 'malah'\n",
            " 'berkurang' 'Saat' 'dicas' 'baterai' 'ponsel' 'saya' 'tidak' 'bertambah'\n",
            " 'Saat' 'di' 'cas' 'persentase' 'baterai' 'ponsel' 'saya' 'malah'\n",
            " 'berkurang' 'Casan' 'nyambung' 'tapi' 'baterai' 'tidak' 'bertambah'\n",
            " 'Casan' 'nyambung' 'tapi' 'persenan' 'batre' 'gak' 'nambah' 'Saya'\n",
            " 'punya' 'kendala' ',' 'hp' 'saya' 'gampang' 'panas' 'Hp' 'saya' 'mudah'\n",
            " 'panas' 'hp' 'saya' 'sering' 'panas' 'Saya' 'punya' 'kendala' ',' 'wifi'\n",
            " 'hp' 'saya' 'tidak' 'bisa' 'menyala' 'Wifi' 'hp' 'saya' 'tidak' 'bisa'\n",
            " 'dinyalakan' 'Ponsel' 'saya' 'tidak' 'bisa' 'menyalakan' 'wifi' 'Wifi'\n",
            " 'Hp' 'saya' 'gak' 'mau' 'nyala' 'Wifi' 'ponsel' 'saya' 'tidak' 'bisa'\n",
            " 'dinyalakan' 'Koneksi' 'wifi' 'sering' 'mati' 'sendiri' 'Wifi' 'hp'\n",
            " 'saya' 'sering' 'mati' 'sendiri' 'Koneksi' 'wifi' 'di' 'hp' 'saya'\n",
            " 'lambat' 'padahal' 'di' 'hp' 'teman' 'normal' 'Koneksi' 'Wifi' 'hp'\n",
            " 'saya' 'sering' 'mati' 'sendiri' 'Ponsel' 'saya' 'wifinya' 'sering'\n",
            " 'mati' 'sendiri' 'Koneksi' 'Wifi' 'ponsel' 'saya' 'tiba' 'tiba'\n",
            " 'terputus' 'sendiri' 'Saya' 'punya' 'kendala' ',' 'bluetooth' 'hp' 'saya'\n",
            " 'tidak' 'bisa' 'menyala' 'Bluetooth' 'Hp' 'saya' 'gak' 'bisa' 'nyala'\n",
            " 'Ponsel' 'saya' 'tidak' 'bisa' 'menyalakan' 'bluetooth' 'Blutut' 'Hp'\n",
            " 'saya' 'gak' 'bisa' 'dinyalakan' 'Bluetooth' 'Ponsel' 'saya' 'tidak'\n",
            " 'bisa' 'dinyalakan' 'Blutut' 'HP' 'gue' 'gk' 'bisa' 'nyala' 'HP' 'gua'\n",
            " 'gak' 'bisa' 'nyalain' 'bluetooth' 'Hp' 'saya' 'gak' 'bisa' 'nyalain'\n",
            " 'bluetooth' 'Bluetooth' 'hpku' 'gak' 'bisa' 'dinyalain' 'Hp' 'saya'\n",
            " 'bluetoothnya' 'gk' 'bisa' 'nyala' 'Apa' 'itu' 'AC' '?' 'AC' 'artinya'\n",
            " 'apa' '?' 'AC' 'singkatan' 'dari' '?' 'AC' 'adalah' 'AC' 'apa' 'AC'\n",
            " 'kepanjangannya' 'apa' 'AC' 'Definisi' 'AC' 'Pengertian' 'AC' 'Apa' 'AC'\n",
            " 'AC' 'Merek' 'AC' 'ada' 'apa' 'saja' '?' 'Apa' 'saja' 'merek' 'AC' '?'\n",
            " 'Merek' 'AC' 'Merek' 'AC' 'yang' 'bagus' '?' 'AC' 'apa' 'yang' 'bagus'\n",
            " '?' 'Apa' 'saja' 'merek' 'AC' 'yang' 'bagus' '?' 'Merek' 'AC' 'Merek'\n",
            " 'AC' 'saya' 'rusak' 'Mengapa' 'AC' 'saya' 'rusak' '?' 'AC' 'rusak' 'Apa'\n",
            " 'saja' 'masalah' 'AC' '?' 'AC' 'saya' 'bermasalah' 'AC' 'bermasalah'\n",
            " 'Masalah' 'pada' 'AC' 'Rusak' 'AC' 'saya' 'perlu' 'diperbaiki'\n",
            " 'Perbaikan' 'Perbaikan' 'AC' 'AC' 'diperbaiki' 'Kerusakan' 'AC'\n",
            " 'Kerusakan' 'Rusak' 'AC' 'kotor' 'AC' 'saya' 'kotor' 'Mengapa' 'AC'\n",
            " 'saya' 'kotor' '?' 'AC' 'saya' 'tidak' 'bersih' 'AC' 'perlu'\n",
            " 'dibersihkan' 'Kotor' 'AC' 'tidak' 'bersih' 'AC' 'bau' 'Ganti' 'freon'\n",
            " 'AC' 'saya' 'butuh' 'freon' 'Freon' 'AC' 'saya' 'habis' 'Apa' 'itu'\n",
            " 'freon' '?' 'Freon' 'AC' 'Freon' 'Kompresor' 'AC' 'saya' 'kompresornya'\n",
            " 'rusak' 'Kompresor' 'AC' 'saya' 'rusak' 'Unit' 'luar' 'AC' 'saya' 'rusak'\n",
            " 'Unit' 'luar' 'Unit' 'outdoor' 'AC' 'bocor' 'AC' 'saya' 'bocor' 'AC'\n",
            " 'saya' 'bocor' 'air' 'Ada' 'air' 'dari' 'AC' 'saya' 'AC' 'berair' 'Air'\n",
            " 'AC' 'Air' 'menetes' 'dari' 'AC' 'Air' 'jatuh' 'Bocor' 'Aku' 'perlu'\n",
            " 'membuat' 'akun' 'baru' 'Bagaimana' 'cara' 'membuka' 'akun' 'baru' '?'\n",
            " 'Aku' 'ingin' 'membuat' 'akun' 'Bisakah' 'kamu' 'membuat' 'akun'\n",
            " 'untukku' '?' 'Bagaimana' 'cara' 'membuka' 'akun' 'baru' '?' 'Ada'\n",
            " 'keluhan' 'Aku' 'ingin' 'mengajukan' 'keluhan' 'Ada' 'keluhan' 'tentang'\n",
            " 'layanan' 'Laptop' 'saya' 'rusak' 'min' 'Handphone' 'saya' 'rusak' 'min'\n",
            " 'HP' 'saya' 'rusak' 'min' 'Ac' 'saya' 'rusak' 'min' 'Laptop' 'panas'\n",
            " 'Laptop' 'terlalu' 'panas' 'Overheating' 'Laptop' 'suka' 'panas'\n",
            " 'Laptopnya' 'Overheat' 'Keyboard' 'tidak' 'berfungsi' 'Tombol' 'keyboard'\n",
            " 'tidak' 'merespons' 'Keyboard' 'laptop' 'saya' 'rusak' 'Keyboardnya'\n",
            " 'rusak' 'Tombolnya' 'Rusak' 'Layar' 'laptop' 'biru' 'Blue' 'screen' 'Ini'\n",
            " 'layar' 'laptopnya' 'biru' 'kenapa' 'ya' '?' 'Baterai' 'laptop' 'tidak'\n",
            " 'bertahan' 'lama' 'Baterai' 'tidak' 'terisi' 'Baterai' 'bocor' 'batre'\n",
            " 'bocor' 'Ini' 'baterainya' 'bocor' 'kenapa' 'ya' '?' 'Layar' 'laptop'\n",
            " 'tidak' 'menyala' 'Layar' 'laptop' 'blank' 'Tidak' 'bisa' 'terhubung'\n",
            " 'ke' 'Wi-Fi' 'Masalah' 'koneksi' 'Wi-Fi' 'Wifinya' 'engga' 'bisa'\n",
            " 'Wifinya' 'gak' 'konek' 'Hard' 'drive' 'rusak' 'Kerusakan' 'hard' 'drive'\n",
            " 'HDD' 'rusak' 'min' 'Hard' 'Disknya' 'rusak' 'min' 'HDD' 'error' 'Port'\n",
            " 'USB' 'rusak' 'Port' 'USB' 'tidak' 'berfungsi' 'Ini' 'USB' 'gak' 'bisa'\n",
            " 'konek' 'min' 'USB' 'error' 'Masalah' 'suara' 'laptop' 'Tidak' 'ada'\n",
            " 'suara' 'dari' 'laptop' 'Speaker' 'laptonya' 'gak' 'ada' 'suara'\n",
            " 'Speaker' 'mati' 'Laptop' 'lemot' 'Kinerja' 'laptop' 'lambat' 'Laptop'\n",
            " 'nge' 'lag' 'laptop' 'lag' 'Laptop' 'terinfeksi' 'virus' 'Virus' 'di'\n",
            " 'laptop' 'Laptop' 'kenak' 'virus' 'Layar' 'laptop' 'berkedip' 'Layar'\n",
            " 'laptop' 'berkedip-kedip' 'Laptop' 'tidak' 'bisa' 'diisi' 'daya'\n",
            " 'Masalah' 'pengisian' 'daya' 'laptop' 'Laptonya' 'gabisa' 'ngecas'\n",
            " 'casannya' 'error' 'Kesalahan' 'driver' 'Driver' 'laptop' 'rusak'\n",
            " 'Driver' 'laptop' 'error' 'Laptop' 'tidak' 'bisa' 'menyala' 'Masalah'\n",
            " 'saat' 'startup' 'laptop']\n"
          ]
        }
      ],
      "source": [
        "print(np.array(words))"
      ]
    },
    {
      "cell_type": "code",
      "execution_count": 8,
      "metadata": {
        "colab": {
          "base_uri": "https://localhost:8080/"
        },
        "id": "5JiPA1zJ9w6d",
        "outputId": "5ebd7af9-4050-4eb1-80e8-932f33ba86fe"
      },
      "outputs": [
        {
          "data": {
            "text/plain": [
              "array(['salam', 'penutup', 'hp_lcd', 'hp_iccharger', 'hp_bootlop',\n",
              "       'hp_baterai', 'hp_overheat', 'hp_wifi', 'hp_bluetooth', 'ac_arti',\n",
              "       'ac_merek', 'ac_rusak', 'ac_kotor', 'ac_freon', 'ac_kompresor',\n",
              "       'ac_bocor', 'create_account', 'complaint', 'laptop_overheating',\n",
              "       'laptop_keyboard_not_working', 'laptop_blue_screen',\n",
              "       'laptop_battery_issues', 'laptop_screen_problems',\n",
              "       'laptop_wifi_issues', 'laptop_hard_drive_failure',\n",
              "       'laptop_usb_port_issues', 'laptop_audio_problems',\n",
              "       'laptop_slow_performance', 'laptop_virus_infection',\n",
              "       'laptop_screen_flickering', 'laptop_charging_issues',\n",
              "       'laptop_driver_errors', 'laptop_startup_issues'], dtype='<U27')"
            ]
          },
          "execution_count": 8,
          "metadata": {},
          "output_type": "execute_result"
        }
      ],
      "source": [
        "np.array(classes)"
      ]
    },
    {
      "cell_type": "code",
      "execution_count": 9,
      "metadata": {
        "colab": {
          "base_uri": "https://localhost:8080/"
        },
        "id": "UfngaWcJ91Fj",
        "outputId": "96e95033-6ce4-417f-dd01-1c9687638ba0"
      },
      "outputs": [
        {
          "data": {
            "text/plain": [
              "array([[list(['Hai']), 'salam'],\n",
              "       [list(['Halo']), 'salam'],\n",
              "       [list(['Assalamualaikum']), 'salam'],\n",
              "       [list(['Hei']), 'salam'],\n",
              "       [list(['Selamat', 'Pagi']), 'salam'],\n",
              "       [list(['Selamat', 'Siang']), 'salam'],\n",
              "       [list(['Selamat', 'Sore']), 'salam'],\n",
              "       [list(['Selamat', 'Malam']), 'salam'],\n",
              "       [list(['Pagi']), 'salam'],\n",
              "       [list(['Siang']), 'salam'],\n",
              "       [list(['Sore']), 'salam'],\n",
              "       [list(['Malam']), 'salam'],\n",
              "       [list(['Malem']), 'salam'],\n",
              "       [list(['Hallo', 'Admin']), 'salam'],\n",
              "       [list(['Halo', 'Admin']), 'salam'],\n",
              "       [list(['Hai', 'Admin']), 'salam'],\n",
              "       [list(['Terimakasih']), 'penutup'],\n",
              "       [list(['Makasih']), 'penutup'],\n",
              "       [list(['Thank', 'You']), 'penutup'],\n",
              "       [list(['Makasih', 'Banyak']), 'penutup'],\n",
              "       [list(['Terimakasih', 'Banyak']), 'penutup'],\n",
              "       [list(['Terimaksih', 'atas', 'Bantuannya']), 'penutup'],\n",
              "       [list(['Makasih', 'atas', 'Bantuannya']), 'penutup'],\n",
              "       [list(['Oke', 'Makasih']), 'penutup'],\n",
              "       [list(['Oke', 'Terimakasih']), 'penutup'],\n",
              "       [list(['Oke', 'terimakasih', 'atas', 'bantuannya']), 'penutup'],\n",
              "       [list(['Saya', 'punya', 'kendala', ',', 'LCD', 'hp', 'saya', 'kadang-kadang', 'tidak', 'bisa', 'dipencet']),\n",
              "        'hp_lcd'],\n",
              "       [list(['Hp', 'saya', 'tidak', 'bisa', 'ditekan']), 'hp_lcd'],\n",
              "       [list(['Layar', 'saya', 'tidak', 'bisa', 'dipencet']), 'hp_lcd'],\n",
              "       [list(['layar', 'Hp', 'sya', 'mati', 'tetapi', 'masih', 'ada', 'suara', 'notifikasi']),\n",
              "        'hp_lcd'],\n",
              "       [list(['Layar', 'Hp', 'saya', 'tidak', 'bisa', 'disentuh']),\n",
              "        'hp_lcd'],\n",
              "       [list(['Layar', 'Hp', 'gak', 'bisa', 'disentuh']), 'hp_lcd'],\n",
              "       [list(['Touchscreen', 'hp', 'saya', 'tidak', 'berfungsi']),\n",
              "        'hp_lcd'],\n",
              "       [list(['Hp', 'saya', 'tidak', 'bisa', 'di', 'cas']),\n",
              "        'hp_iccharger'],\n",
              "       [list(['Hp', 'saya', 'tidak', 'bisa', 'di', 'charger']),\n",
              "        'hp_iccharger'],\n",
              "       [list(['Kenapa', 'ya', 'hp', 'saya', 'tidak', 'bisa', 'di', 'cas']),\n",
              "        'hp_iccharger'],\n",
              "       [list(['Kenapa', 'ya', 'hp', 'saya', 'tidak', 'bisa', 'di', 'charger']),\n",
              "        'hp_iccharger'],\n",
              "       [list(['Saya', 'sudah', 'cas', 'hp', 'saya', 'tapi', 'persentase', 'baterainya', 'tidak', 'bertambah']),\n",
              "        'hp_iccharger'],\n",
              "       [list(['Gak', 'bisa', 'di', 'cas']), 'hp_iccharger'],\n",
              "       [list(['Ga', 'bisa', 'di', 'cas']), 'hp_iccharger'],\n",
              "       [list(['Gak', 'bisa', 'di', 'charger']), 'hp_iccharger'],\n",
              "       [list(['Saat', 'di', 'cas', 'selalu', 'putus-putus']),\n",
              "        'hp_iccharger'],\n",
              "       [list(['Saat', 'di', 'cas', 'hp', 'saya', 'putus', 'nyambung']),\n",
              "        'hp_iccharger'],\n",
              "       [list(['Kalau', 'di', 'cas', 'kenapa', 'ya', 'hp', 'saya', 'putus-putus']),\n",
              "        'hp_iccharger'],\n",
              "       [list(['Hp', 'saya', 'ridak', 'dapat', 'mengisi', 'daya']),\n",
              "        'hp_iccharger'],\n",
              "       [list(['Ponsel', 'saya', 'tidak', 'bisa', 'dicas']),\n",
              "        'hp_iccharger'],\n",
              "       [list(['Ponsel', 'saya', 'tidak', 'bisa', 'diisi', 'daya']),\n",
              "        'hp_iccharger'],\n",
              "       [list(['Ponsel', 'saya', 'tidak', 'mau', 'mengisi', 'daya']),\n",
              "        'hp_iccharger'],\n",
              "       [list(['Ponsel', 'saya', 'tidak', 'mau', 'ngecas']),\n",
              "        'hp_iccharger'],\n",
              "       [list(['Saya', 'punya', 'kendala', ',', 'hp', 'saya', 'tidak', 'bisa', 'menyala', 'hanya', 'stuck', 'di', 'logo']),\n",
              "        'hp_bootlop'],\n",
              "       [list(['Hp', 'saya', 'mati', 'dan', 'saat', 'dinyalakan', 'tidak', 'bisa', 'menyala', 'hanya', 'muncul', 'logo', 'saja']),\n",
              "        'hp_bootlop'],\n",
              "       [list(['Ponsel', 'saya', 'stuck', 'di', 'logo', 'tidak', 'mau', 'menyala']),\n",
              "        'hp_bootlop'],\n",
              "       [list(['Hp', 'saya', 'gak', 'mau', 'nyala', 'cuma', 'stuck', 'di', 'logo']),\n",
              "        'hp_bootlop'],\n",
              "       [list(['Layar', 'hp', 'saat', 'dinyalakan', 'hanya', 'ada', 'gambar', 'merek', 'hp', 'saja']),\n",
              "        'hp_bootlop'],\n",
              "       [list(['Saat', 'hp', 'saya', 'dicas', 'baterai', 'tidak', 'bertambah']),\n",
              "        'hp_baterai'],\n",
              "       [list(['baterai', 'tidak', 'bertambah', 'saat', 'dicas']),\n",
              "        'hp_baterai'],\n",
              "       [list(['Hp', 'saya', 'bisa', 'di', 'cas', 'akan', 'tetapi', 'baterai', 'tidak', 'bertambah']),\n",
              "        'hp_baterai'],\n",
              "       [list(['Saat', 'di', 'cas', ',', 'baterai', 'hp', 'saya', 'tidak', 'bertambah']),\n",
              "        'hp_baterai'],\n",
              "       [list(['Saat', 'dicas', 'baterai', 'hp', 'saya', 'malah', 'berkurang']),\n",
              "        'hp_baterai'],\n",
              "       [list(['Saat', 'dicas', 'baterai', 'ponsel', 'saya', 'tidak', 'bertambah']),\n",
              "        'hp_baterai'],\n",
              "       [list(['Saat', 'di', 'cas', 'persentase', 'baterai', 'ponsel', 'saya', 'malah', 'berkurang']),\n",
              "        'hp_baterai'],\n",
              "       [list(['Casan', 'nyambung', 'tapi', 'baterai', 'tidak', 'bertambah']),\n",
              "        'hp_baterai'],\n",
              "       [list(['Casan', 'nyambung', 'tapi', 'persenan', 'batre', 'gak', 'nambah']),\n",
              "        'hp_baterai'],\n",
              "       [list(['Saya', 'punya', 'kendala', ',', 'hp', 'saya', 'gampang', 'panas']),\n",
              "        'hp_overheat'],\n",
              "       [list(['Hp', 'saya', 'mudah', 'panas']), 'hp_overheat'],\n",
              "       [list(['hp', 'saya', 'sering', 'panas']), 'hp_overheat'],\n",
              "       [list(['Saya', 'punya', 'kendala', ',', 'wifi', 'hp', 'saya', 'tidak', 'bisa', 'menyala']),\n",
              "        'hp_wifi'],\n",
              "       [list(['Wifi', 'hp', 'saya', 'tidak', 'bisa', 'dinyalakan']),\n",
              "        'hp_wifi'],\n",
              "       [list(['Ponsel', 'saya', 'tidak', 'bisa', 'menyalakan', 'wifi']),\n",
              "        'hp_wifi'],\n",
              "       [list(['Wifi', 'Hp', 'saya', 'gak', 'mau', 'nyala']), 'hp_wifi'],\n",
              "       [list(['Wifi', 'ponsel', 'saya', 'tidak', 'bisa', 'dinyalakan']),\n",
              "        'hp_wifi'],\n",
              "       [list(['Koneksi', 'wifi', 'sering', 'mati', 'sendiri']),\n",
              "        'hp_wifi'],\n",
              "       [list(['Wifi', 'hp', 'saya', 'sering', 'mati', 'sendiri']),\n",
              "        'hp_wifi'],\n",
              "       [list(['Koneksi', 'wifi', 'di', 'hp', 'saya', 'lambat', 'padahal', 'di', 'hp', 'teman', 'normal']),\n",
              "        'hp_wifi'],\n",
              "       [list(['Koneksi', 'Wifi', 'hp', 'saya', 'sering', 'mati', 'sendiri']),\n",
              "        'hp_wifi'],\n",
              "       [list(['Ponsel', 'saya', 'wifinya', 'sering', 'mati', 'sendiri']),\n",
              "        'hp_wifi'],\n",
              "       [list(['Koneksi', 'Wifi', 'ponsel', 'saya', 'tiba', 'tiba', 'terputus', 'sendiri']),\n",
              "        'hp_wifi'],\n",
              "       [list(['Saya', 'punya', 'kendala', ',', 'bluetooth', 'hp', 'saya', 'tidak', 'bisa', 'menyala']),\n",
              "        'hp_bluetooth'],\n",
              "       [list(['Bluetooth', 'Hp', 'saya', 'gak', 'bisa', 'nyala']),\n",
              "        'hp_bluetooth'],\n",
              "       [list(['Ponsel', 'saya', 'tidak', 'bisa', 'menyalakan', 'bluetooth']),\n",
              "        'hp_bluetooth'],\n",
              "       [list(['Blutut', 'Hp', 'saya', 'gak', 'bisa', 'dinyalakan']),\n",
              "        'hp_bluetooth'],\n",
              "       [list(['Bluetooth', 'Ponsel', 'saya', 'tidak', 'bisa', 'dinyalakan']),\n",
              "        'hp_bluetooth'],\n",
              "       [list(['Blutut', 'HP', 'gue', 'gk', 'bisa', 'nyala']),\n",
              "        'hp_bluetooth'],\n",
              "       [list(['HP', 'gua', 'gak', 'bisa', 'nyalain', 'bluetooth']),\n",
              "        'hp_bluetooth'],\n",
              "       [list(['Hp', 'saya', 'gak', 'bisa', 'nyalain', 'bluetooth']),\n",
              "        'hp_bluetooth'],\n",
              "       [list(['Bluetooth', 'hpku', 'gak', 'bisa', 'dinyalain']),\n",
              "        'hp_bluetooth'],\n",
              "       [list(['Hp', 'saya', 'bluetoothnya', 'gk', 'bisa', 'nyala']),\n",
              "        'hp_bluetooth'],\n",
              "       [list(['Apa', 'itu', 'AC', '?']), 'ac_arti'],\n",
              "       [list(['AC', 'artinya', 'apa', '?']), 'ac_arti'],\n",
              "       [list(['AC', 'singkatan', 'dari', '?']), 'ac_arti'],\n",
              "       [list(['AC', 'adalah']), 'ac_arti'],\n",
              "       [list(['AC', 'apa']), 'ac_arti'],\n",
              "       [list(['AC', 'kepanjangannya', 'apa']), 'ac_arti'],\n",
              "       [list(['AC']), 'ac_arti'],\n",
              "       [list(['Definisi', 'AC']), 'ac_arti'],\n",
              "       [list(['Pengertian', 'AC']), 'ac_arti'],\n",
              "       [list(['Apa', 'AC']), 'ac_arti'],\n",
              "       [list(['AC']), 'ac_arti'],\n",
              "       [list(['Merek', 'AC', 'ada', 'apa', 'saja', '?']), 'ac_merek'],\n",
              "       [list(['Apa', 'saja', 'merek', 'AC', '?']), 'ac_merek'],\n",
              "       [list(['Merek', 'AC']), 'ac_merek'],\n",
              "       [list(['Merek', 'AC', 'yang', 'bagus', '?']), 'ac_merek'],\n",
              "       [list(['AC', 'apa', 'yang', 'bagus', '?']), 'ac_merek'],\n",
              "       [list(['Apa', 'saja', 'merek', 'AC', 'yang', 'bagus', '?']),\n",
              "        'ac_merek'],\n",
              "       [list(['Merek']), 'ac_merek'],\n",
              "       [list(['AC', 'Merek']), 'ac_merek'],\n",
              "       [list(['AC', 'saya', 'rusak']), 'ac_rusak'],\n",
              "       [list(['Mengapa', 'AC', 'saya', 'rusak', '?']), 'ac_rusak'],\n",
              "       [list(['AC', 'rusak']), 'ac_rusak'],\n",
              "       [list(['Apa', 'saja', 'masalah', 'AC', '?']), 'ac_rusak'],\n",
              "       [list(['AC', 'saya', 'bermasalah']), 'ac_rusak'],\n",
              "       [list(['AC', 'bermasalah']), 'ac_rusak'],\n",
              "       [list(['Masalah', 'pada', 'AC']), 'ac_rusak'],\n",
              "       [list(['Rusak']), 'ac_rusak'],\n",
              "       [list(['AC', 'saya', 'perlu', 'diperbaiki']), 'ac_rusak'],\n",
              "       [list(['Perbaikan']), 'ac_rusak'],\n",
              "       [list(['Perbaikan', 'AC']), 'ac_rusak'],\n",
              "       [list(['AC', 'diperbaiki']), 'ac_rusak'],\n",
              "       [list(['Kerusakan', 'AC']), 'ac_rusak'],\n",
              "       [list(['Kerusakan']), 'ac_rusak'],\n",
              "       [list(['Rusak']), 'ac_rusak'],\n",
              "       [list(['AC', 'kotor']), 'ac_kotor'],\n",
              "       [list(['AC', 'saya', 'kotor']), 'ac_kotor'],\n",
              "       [list(['Mengapa', 'AC', 'saya', 'kotor', '?']), 'ac_kotor'],\n",
              "       [list(['AC', 'saya', 'tidak', 'bersih']), 'ac_kotor'],\n",
              "       [list(['AC', 'perlu', 'dibersihkan']), 'ac_kotor'],\n",
              "       [list(['Kotor']), 'ac_kotor'],\n",
              "       [list(['AC', 'tidak', 'bersih']), 'ac_kotor'],\n",
              "       [list(['AC', 'bau']), 'ac_kotor'],\n",
              "       [list(['Ganti', 'freon']), 'ac_freon'],\n",
              "       [list(['AC', 'saya', 'butuh', 'freon']), 'ac_freon'],\n",
              "       [list(['Freon', 'AC', 'saya', 'habis']), 'ac_freon'],\n",
              "       [list(['Apa', 'itu', 'freon', '?']), 'ac_freon'],\n",
              "       [list(['Freon', 'AC']), 'ac_freon'],\n",
              "       [list(['Freon']), 'ac_freon'],\n",
              "       [list(['Kompresor']), 'ac_kompresor'],\n",
              "       [list(['AC', 'saya', 'kompresornya', 'rusak']), 'ac_kompresor'],\n",
              "       [list(['Kompresor', 'AC', 'saya', 'rusak']), 'ac_kompresor'],\n",
              "       [list(['Unit', 'luar', 'AC', 'saya', 'rusak']), 'ac_kompresor'],\n",
              "       [list(['Unit', 'luar']), 'ac_kompresor'],\n",
              "       [list(['Unit', 'outdoor']), 'ac_kompresor'],\n",
              "       [list(['AC', 'bocor']), 'ac_bocor'],\n",
              "       [list(['AC', 'saya', 'bocor']), 'ac_bocor'],\n",
              "       [list(['AC', 'saya', 'bocor', 'air']), 'ac_bocor'],\n",
              "       [list(['Ada', 'air', 'dari', 'AC', 'saya']), 'ac_bocor'],\n",
              "       [list(['AC', 'berair']), 'ac_bocor'],\n",
              "       [list(['Air', 'AC']), 'ac_bocor'],\n",
              "       [list(['Air', 'menetes', 'dari', 'AC']), 'ac_bocor'],\n",
              "       [list(['Air', 'jatuh']), 'ac_bocor'],\n",
              "       [list(['Bocor']), 'ac_bocor'],\n",
              "       [list(['Aku', 'perlu', 'membuat', 'akun', 'baru']),\n",
              "        'create_account'],\n",
              "       [list(['Bagaimana', 'cara', 'membuka', 'akun', 'baru', '?']),\n",
              "        'create_account'],\n",
              "       [list(['Aku', 'ingin', 'membuat', 'akun']), 'create_account'],\n",
              "       [list(['Bisakah', 'kamu', 'membuat', 'akun', 'untukku', '?']),\n",
              "        'create_account'],\n",
              "       [list(['Bagaimana', 'cara', 'membuka', 'akun', 'baru', '?']),\n",
              "        'create_account'],\n",
              "       [list(['Ada', 'keluhan']), 'complaint'],\n",
              "       [list(['Aku', 'ingin', 'mengajukan', 'keluhan']), 'complaint'],\n",
              "       [list(['Ada', 'keluhan', 'tentang', 'layanan']), 'complaint'],\n",
              "       [list(['Laptop', 'saya', 'rusak', 'min']), 'complaint'],\n",
              "       [list(['Handphone', 'saya', 'rusak', 'min']), 'complaint'],\n",
              "       [list(['HP', 'saya', 'rusak', 'min']), 'complaint'],\n",
              "       [list(['Ac', 'saya', 'rusak', 'min']), 'complaint'],\n",
              "       [list(['Laptop', 'panas']), 'laptop_overheating'],\n",
              "       [list(['Laptop', 'terlalu', 'panas']), 'laptop_overheating'],\n",
              "       [list(['Overheating']), 'laptop_overheating'],\n",
              "       [list(['Laptop', 'suka', 'panas']), 'laptop_overheating'],\n",
              "       [list(['Laptopnya', 'Overheat']), 'laptop_overheating'],\n",
              "       [list(['Keyboard', 'tidak', 'berfungsi']),\n",
              "        'laptop_keyboard_not_working'],\n",
              "       [list(['Tombol', 'keyboard', 'tidak', 'merespons']),\n",
              "        'laptop_keyboard_not_working'],\n",
              "       [list(['Keyboard', 'laptop', 'saya', 'rusak']),\n",
              "        'laptop_keyboard_not_working'],\n",
              "       [list(['Keyboardnya', 'rusak']), 'laptop_keyboard_not_working'],\n",
              "       [list(['Tombolnya', 'Rusak']), 'laptop_keyboard_not_working'],\n",
              "       [list(['Layar', 'laptop', 'biru']), 'laptop_blue_screen'],\n",
              "       [list(['Blue', 'screen']), 'laptop_blue_screen'],\n",
              "       [list(['Ini', 'layar', 'laptopnya', 'biru', 'kenapa', 'ya', '?']),\n",
              "        'laptop_blue_screen'],\n",
              "       [list(['Baterai', 'laptop', 'tidak', 'bertahan', 'lama']),\n",
              "        'laptop_battery_issues'],\n",
              "       [list(['Baterai', 'tidak', 'terisi']), 'laptop_battery_issues'],\n",
              "       [list(['Baterai', 'bocor']), 'laptop_battery_issues'],\n",
              "       [list(['batre', 'bocor']), 'laptop_battery_issues'],\n",
              "       [list(['Ini', 'baterainya', 'bocor', 'kenapa', 'ya', '?']),\n",
              "        'laptop_battery_issues'],\n",
              "       [list(['Layar', 'laptop', 'tidak', 'menyala']),\n",
              "        'laptop_screen_problems'],\n",
              "       [list(['Layar', 'laptop', 'blank']), 'laptop_screen_problems'],\n",
              "       [list(['Tidak', 'bisa', 'terhubung', 'ke', 'Wi-Fi']),\n",
              "        'laptop_wifi_issues'],\n",
              "       [list(['Masalah', 'koneksi', 'Wi-Fi']), 'laptop_wifi_issues'],\n",
              "       [list(['Wifinya', 'engga', 'bisa']), 'laptop_wifi_issues'],\n",
              "       [list(['Wifinya', 'gak', 'konek']), 'laptop_wifi_issues'],\n",
              "       [list(['Hard', 'drive', 'rusak']), 'laptop_hard_drive_failure'],\n",
              "       [list(['Kerusakan', 'hard', 'drive']),\n",
              "        'laptop_hard_drive_failure'],\n",
              "       [list(['HDD', 'rusak', 'min']), 'laptop_hard_drive_failure'],\n",
              "       [list(['Hard', 'Disknya', 'rusak', 'min']),\n",
              "        'laptop_hard_drive_failure'],\n",
              "       [list(['HDD', 'error']), 'laptop_hard_drive_failure'],\n",
              "       [list(['Port', 'USB', 'rusak']), 'laptop_usb_port_issues'],\n",
              "       [list(['Port', 'USB', 'tidak', 'berfungsi']),\n",
              "        'laptop_usb_port_issues'],\n",
              "       [list(['Ini', 'USB', 'gak', 'bisa', 'konek', 'min']),\n",
              "        'laptop_usb_port_issues'],\n",
              "       [list(['USB', 'error']), 'laptop_usb_port_issues'],\n",
              "       [list(['Masalah', 'suara', 'laptop']), 'laptop_audio_problems'],\n",
              "       [list(['Tidak', 'ada', 'suara', 'dari', 'laptop']),\n",
              "        'laptop_audio_problems'],\n",
              "       [list(['Speaker', 'laptonya', 'gak', 'ada', 'suara']),\n",
              "        'laptop_audio_problems'],\n",
              "       [list(['Speaker', 'mati']), 'laptop_audio_problems'],\n",
              "       [list(['Laptop', 'lemot']), 'laptop_slow_performance'],\n",
              "       [list(['Kinerja', 'laptop', 'lambat']), 'laptop_slow_performance'],\n",
              "       [list(['Laptop', 'nge', 'lag']), 'laptop_slow_performance'],\n",
              "       [list(['laptop', 'lag']), 'laptop_slow_performance'],\n",
              "       [list(['Laptop', 'terinfeksi', 'virus']),\n",
              "        'laptop_virus_infection'],\n",
              "       [list(['Virus', 'di', 'laptop']), 'laptop_virus_infection'],\n",
              "       [list(['Laptop', 'kenak', 'virus']), 'laptop_virus_infection'],\n",
              "       [list(['Layar', 'laptop', 'berkedip']),\n",
              "        'laptop_screen_flickering'],\n",
              "       [list(['Layar', 'laptop', 'berkedip-kedip']),\n",
              "        'laptop_screen_flickering'],\n",
              "       [list(['Laptop', 'tidak', 'bisa', 'diisi', 'daya']),\n",
              "        'laptop_charging_issues'],\n",
              "       [list(['Masalah', 'pengisian', 'daya', 'laptop']),\n",
              "        'laptop_charging_issues'],\n",
              "       [list(['Laptonya', 'gabisa', 'ngecas']), 'laptop_charging_issues'],\n",
              "       [list(['casannya', 'error']), 'laptop_charging_issues'],\n",
              "       [list(['Kesalahan', 'driver']), 'laptop_driver_errors'],\n",
              "       [list(['Driver', 'laptop', 'rusak']), 'laptop_driver_errors'],\n",
              "       [list(['Driver', 'laptop', 'error']), 'laptop_driver_errors'],\n",
              "       [list(['Laptop', 'tidak', 'bisa', 'menyala']),\n",
              "        'laptop_startup_issues'],\n",
              "       [list(['Masalah', 'saat', 'startup', 'laptop']),\n",
              "        'laptop_startup_issues']], dtype=object)"
            ]
          },
          "execution_count": 9,
          "metadata": {},
          "output_type": "execute_result"
        }
      ],
      "source": [
        "np.array(documents)"
      ]
    },
    {
      "cell_type": "code",
      "execution_count": 10,
      "metadata": {
        "colab": {
          "base_uri": "https://localhost:8080/"
        },
        "id": "X6YAi6z993ad",
        "outputId": "12d7a7ad-b8a8-4bfa-910e-24e4ce4d43b4"
      },
      "outputs": [
        {
          "data": {
            "text/plain": [
              "array([], dtype=float64)"
            ]
          },
          "execution_count": 10,
          "metadata": {},
          "output_type": "execute_result"
        }
      ],
      "source": [
        "np.array(ignore_words)"
      ]
    },
    {
      "cell_type": "code",
      "execution_count": 11,
      "metadata": {
        "colab": {
          "base_uri": "https://localhost:8080/"
        },
        "id": "WzKs9tFT97jy",
        "outputId": "7d2ac68c-fd82-4996-dd0b-17ce4e1769db"
      },
      "outputs": [
        {
          "name": "stdout",
          "output_type": "stream",
          "text": [
            "Stemming, Downgrade dan Menghapus Duplikat\n",
            "217 documents\n"
          ]
        }
      ],
      "source": [
        "print('Stemming, Downgrade dan Menghapus Duplikat')\n",
        "words = [stemmer.stem(w.lower()) for w in words if w not in ignore_words]\n",
        "words = sorted(list(set(words)))\n",
        "\n",
        "# Menghapus Duplikat\n",
        "classes = sorted(list(set(classes)))\n",
        "\n",
        "print(len(documents), \"documents\")"
      ]
    },
    {
      "cell_type": "code",
      "execution_count": 12,
      "metadata": {
        "colab": {
          "base_uri": "https://localhost:8080/"
        },
        "id": "qUF0dXdR36O8",
        "outputId": "c0787655-6364-4fe3-9028-638dc518e631"
      },
      "outputs": [
        {
          "name": "stdout",
          "output_type": "stream",
          "text": [
            "33 classes\n",
            "['ac_arti' 'ac_bocor' 'ac_freon' 'ac_kompresor' 'ac_kotor' 'ac_merek'\n",
            " 'ac_rusak' 'complaint' 'create_account' 'hp_baterai' 'hp_bluetooth'\n",
            " 'hp_bootlop' 'hp_iccharger' 'hp_lcd' 'hp_overheat' 'hp_wifi'\n",
            " 'laptop_audio_problems' 'laptop_battery_issues' 'laptop_blue_screen'\n",
            " 'laptop_charging_issues' 'laptop_driver_errors'\n",
            " 'laptop_hard_drive_failure' 'laptop_keyboard_not_working'\n",
            " 'laptop_overheating' 'laptop_screen_flickering' 'laptop_screen_problems'\n",
            " 'laptop_slow_performance' 'laptop_startup_issues'\n",
            " 'laptop_usb_port_issues' 'laptop_virus_infection' 'laptop_wifi_issues'\n",
            " 'penutup' 'salam']\n"
          ]
        }
      ],
      "source": [
        "print(len(classes), 'classes')\n",
        "print(np.array(classes))"
      ]
    },
    {
      "cell_type": "code",
      "execution_count": 13,
      "metadata": {
        "colab": {
          "base_uri": "https://localhost:8080/"
        },
        "id": "mexnhL8d4Kxr",
        "outputId": "69da1870-806b-4843-a459-4c3ae0225cf7"
      },
      "outputs": [
        {
          "name": "stdout",
          "output_type": "stream",
          "text": [
            "215 kata unik\n",
            "[',', '?', 'ac', 'ad', 'adalah', 'admin', 'air', 'ak', 'aku', 'akun', 'ap', 'artiny', 'assalamualaik', 'ata', 'bag', 'bagaiman', 'bantuanny', 'banyak', 'baru', 'bat', 'batera', 'baterainy', 'bau', 'berair', 'berfungs', 'berkedip', 'berkedip-kedip', 'berkurang', 'bermasalah', 'bersih', 'bertah', 'bertambah', 'biru', 'bis', 'bisakah', 'blank', 'blu', 'bluetoo', 'bluetoothny', 'blutut', 'boc', 'butuh', 'car', 'cas', 'casanny', 'charg', 'cum', 'dan', 'dap', 'dar', 'day', 'definis', 'di', 'dibersihk', 'dica', 'diis', 'dinyalain', 'dinyalak', 'dipencet', 'diperbaik', 'disentuh', 'diskny', 'ditek', 'driv', 'engg', 'er', 'freon', 'ga', 'gabis', 'gak', 'gamb', 'gampang', 'gant', 'gk', 'gua', 'gue', 'hab', 'hai', 'hallo', 'halo', 'handphon', 'hany', 'hard', 'hdd', 'hei', 'hp', 'hpku', 'in', 'ingin', 'itu', 'jatuh', 'kadang-kadang', 'kalau', 'kamu', 'ke', 'keluh', 'kenak', 'kenap', 'kendal', 'kepanjanganny', 'kerusak', 'kesalah', 'keyboard', 'keyboardny', 'kinerj', 'kompres', 'kompresorny', 'konek', 'koneks', 'kot', 'lag', 'lam', 'lamb', 'laptony', 'laptop', 'laptopny', 'lay', 'lcd', 'lemot', 'logo', 'luar', 'makasih', 'malah', 'malam', 'malem', 'masalah', 'masih', 'mat', 'mau', 'membu', 'membuk', 'menet', 'mengajuk', 'mengap', 'mengis', 'menyal', 'menyalak', 'merek', 'merespon', 'min', 'mudah', 'munc', 'nambah', 'nge', 'ngeca', 'norm', 'notifikas', 'nyal', 'nyalain', 'nyambung', 'ok', 'outdo', 'overh', 'pad', 'padah', 'pag', 'pana', 'peng', 'pengert', 'perbaik', 'perlu', 'pers', 'persentas', 'ponsel', 'port', 'puny', 'put', 'putus-put', 'ridak', 'rusak', 'saat', 'saj', 'say', 'screen', 'selalu', 'selam', 'sendir', 'ser', 'siang', 'singk', 'sor', 'speak', 'startup', 'stuck', 'suar', 'sudah', 'suk', 'sya', 'tap', 'tem', 'tentang', 'terhubung', 'terimakasih', 'terimaksih', 'terinfeks', 'teris', 'terlalu', 'terput', 'tetap', 'thank', 'tib', 'tidak', 'tombol', 'tombolny', 'touchscreen', 'unit', 'untukku', 'usb', 'vir', 'wi-f', 'wif', 'wifiny', 'ya', 'yang', 'you']\n"
          ]
        }
      ],
      "source": [
        "print(len(words), 'kata unik')\n",
        "print(words)"
      ]
    },
    {
      "cell_type": "code",
      "execution_count": 14,
      "metadata": {
        "colab": {
          "base_uri": "https://localhost:8080/"
        },
        "id": "nrTH1cvv4MVR",
        "outputId": "4f7d1950-fc2b-432d-d39d-0c011b79bd42"
      },
      "outputs": [
        {
          "name": "stdout",
          "output_type": "stream",
          "text": [
            "Membuat data untuk model kita\n",
            "Membuat sebuah list kosong untuk output\n",
            "[0, 0, 0, 0, 0, 0, 0, 0, 0, 0, 0, 0, 0, 0, 0, 0, 0, 0, 0, 0, 0, 0, 0, 0, 0, 0, 0, 0, 0, 0, 0, 0, 0]\n"
          ]
        }
      ],
      "source": [
        "print('Membuat data untuk model kita')\n",
        "training = []\n",
        "output = []\n",
        "\n",
        "print('Membuat sebuah list kosong untuk output')\n",
        "output_empty = [0] * len(classes)\n",
        "print(output_empty)"
      ]
    },
    {
      "cell_type": "code",
      "execution_count": 15,
      "metadata": {
        "colab": {
          "base_uri": "https://localhost:8080/"
        },
        "id": "5kl02ixI4kZ0",
        "outputId": "9b3858a1-2da7-4dc8-8834-8afc03ef0208"
      },
      "outputs": [
        {
          "name": "stdout",
          "output_type": "stream",
          "text": [
            "Membuat Training Set, Bag of Words untuk Model kita\n"
          ]
        }
      ],
      "source": [
        "print('Membuat Training Set, Bag of Words untuk Model kita')\n",
        "for doc in documents:\n",
        "  # Inisialisasi Bow kita\n",
        "  bag = []\n",
        "  # daftar kata-kata yang diberi token untuk pola tersebut\n",
        "  pattern_words = doc[0]\n",
        "  # stem tiap kata\n",
        "  pattern_words = [stemmer.stem(w.lower()) for w in pattern_words]\n",
        "  # membuat BoW array\n",
        "  for w in words:\n",
        "    bag.append(1) if w in pattern_words else bag.append(0)\n",
        "\n",
        "    # output adalah '0' untuk setiap tag dan '1' untuk tag saat ini\n",
        "    output_row = list(output_empty)\n",
        "    output_row[classes.index(doc[1])] = 1\n",
        "\n",
        "    training.append([bag, output_row])"
      ]
    },
    {
      "cell_type": "code",
      "execution_count": 16,
      "metadata": {
        "colab": {
          "base_uri": "https://localhost:8080/"
        },
        "id": "ARRCjcT07ohz",
        "outputId": "80e89ecb-3308-4fc5-9440-47e09d87b217"
      },
      "outputs": [
        {
          "name": "stdout",
          "output_type": "stream",
          "text": [
            "[0 0 0 0 0 0 0 0 0 0 0 0 0 0 0 0 0 0 0 0 0 0 0 0 0 0 0 0 0 0 0 0 0 0 0 0 0\n",
            " 0 0 0 0 0 0 0 0 0 0 0 0 0 0 0 0 0 0 0 0 0 0 0 0 0 0 0 0 0 0 0 0 0 0 0 0 0\n",
            " 0 0 0 0 0 0 0 0 0 0 0 0 0 0 0 0 0 0 0 0 0 0 0 0 0 0 0 0 0 0 0 0 0 0 0 0 0\n",
            " 0 0 0 1 0 0 0 0 0 0 0 0 0 0 1 0 0 0 0 0 0 0 0 0 0 0 0 0 0 0 0 0 0 0 0 0 0\n",
            " 0 0 0 0 0 0 0 0 0 0 0 0 0 0 0 0 0 0 0 0 0 0 1 0 0 0 0 0 0 0 0 0 0 0 1 0 0\n",
            " 0 0 0 0 0 0 0 0 0 0 0 0 0 0 0 0 0 0 0 0 0 0 0 0 0 0 0 0 0 0]\n",
            "\n",
            "[0 0 0 0 0 0 0 0 0 0 0 0 0 0 0 0 0 0 0 0 0 0 0 0 0 0 0 1 0 0 0 0 0]\n"
          ]
        }
      ],
      "source": [
        "print(np.array(bag))\n",
        "print()\n",
        "print(np.array(output_row))"
      ]
    },
    {
      "cell_type": "code",
      "execution_count": 17,
      "metadata": {
        "colab": {
          "base_uri": "https://localhost:8080/"
        },
        "id": "adTN6kzl7W-C",
        "outputId": "fb9c5827-e9c4-4064-c633-c34ef60ec765"
      },
      "outputs": [
        {
          "name": "stdout",
          "output_type": "stream",
          "text": [
            "[[list([0, 0, 0, 0, 0, 0, 0, 0, 0, 0, 0, 0, 0, 0, 0, 0, 0, 0, 0, 0, 0, 0, 0, 0, 0, 0, 0, 0, 0, 0, 0, 0, 0, 0, 0, 0, 0, 0, 0, 0, 0, 0, 0, 0, 0, 0, 0, 0, 0, 0, 0, 0, 0, 0, 0, 0, 0, 0, 0, 0, 0, 0, 0, 0, 0, 0, 0, 0, 0, 0, 0, 0, 0, 0, 0, 0, 0, 1, 0, 0, 0, 0, 0, 0, 0, 0, 0, 0, 0, 0, 0, 0, 0, 0, 0, 0, 0, 0, 0, 0, 0, 0, 0, 0, 0, 0, 0, 0, 0, 0, 0, 0, 0, 0, 0, 0, 0, 0, 0, 0, 0, 0, 0, 0, 0, 0, 0, 0, 0, 0, 0, 0, 0, 0, 0, 0, 0, 0, 0, 0, 0, 0, 0, 0, 0, 0, 0, 0, 0, 0, 0, 0, 0, 0, 0, 0, 0, 0, 0, 0, 0, 0, 0, 0, 0, 0, 0, 0, 0, 0, 0, 0, 0, 0, 0, 0, 0, 0, 0, 0, 0, 0, 0, 0, 0, 0, 0, 0, 0, 0, 0, 0, 0, 0, 0, 0, 0, 0, 0, 0, 0, 0, 0, 0, 0, 0, 0, 0, 0, 0, 0, 0, 0, 0, 0])\n",
            "  list([0, 0, 0, 0, 0, 0, 0, 0, 0, 0, 0, 0, 0, 0, 0, 0, 0, 0, 0, 0, 0, 0, 0, 0, 0, 0, 0, 0, 0, 0, 0, 0, 1])]\n",
            " [list([0, 0, 0, 0, 0, 0, 0, 0, 0, 0, 0, 0, 0, 0, 0, 0, 0, 0, 0, 0, 0, 0, 0, 0, 0, 0, 0, 0, 0, 0, 0, 0, 0, 0, 0, 0, 0, 0, 0, 0, 0, 0, 0, 0, 0, 0, 0, 0, 0, 0, 0, 0, 0, 0, 0, 0, 0, 0, 0, 0, 0, 0, 0, 0, 0, 0, 0, 0, 0, 0, 0, 0, 0, 0, 0, 0, 0, 1, 0, 0, 0, 0, 0, 0, 0, 0, 0, 0, 0, 0, 0, 0, 0, 0, 0, 0, 0, 0, 0, 0, 0, 0, 0, 0, 0, 0, 0, 0, 0, 0, 0, 0, 0, 0, 0, 0, 0, 0, 0, 0, 0, 0, 0, 0, 0, 0, 0, 0, 0, 0, 0, 0, 0, 0, 0, 0, 0, 0, 0, 0, 0, 0, 0, 0, 0, 0, 0, 0, 0, 0, 0, 0, 0, 0, 0, 0, 0, 0, 0, 0, 0, 0, 0, 0, 0, 0, 0, 0, 0, 0, 0, 0, 0, 0, 0, 0, 0, 0, 0, 0, 0, 0, 0, 0, 0, 0, 0, 0, 0, 0, 0, 0, 0, 0, 0, 0, 0, 0, 0, 0, 0, 0, 0, 0, 0, 0, 0, 0, 0, 0, 0, 0, 0, 0, 0])\n",
            "  list([0, 0, 0, 0, 0, 0, 0, 0, 0, 0, 0, 0, 0, 0, 0, 0, 0, 0, 0, 0, 0, 0, 0, 0, 0, 0, 0, 0, 0, 0, 0, 0, 1])]\n",
            " [list([0, 0, 0, 0, 0, 0, 0, 0, 0, 0, 0, 0, 0, 0, 0, 0, 0, 0, 0, 0, 0, 0, 0, 0, 0, 0, 0, 0, 0, 0, 0, 0, 0, 0, 0, 0, 0, 0, 0, 0, 0, 0, 0, 0, 0, 0, 0, 0, 0, 0, 0, 0, 0, 0, 0, 0, 0, 0, 0, 0, 0, 0, 0, 0, 0, 0, 0, 0, 0, 0, 0, 0, 0, 0, 0, 0, 0, 1, 0, 0, 0, 0, 0, 0, 0, 0, 0, 0, 0, 0, 0, 0, 0, 0, 0, 0, 0, 0, 0, 0, 0, 0, 0, 0, 0, 0, 0, 0, 0, 0, 0, 0, 0, 0, 0, 0, 0, 0, 0, 0, 0, 0, 0, 0, 0, 0, 0, 0, 0, 0, 0, 0, 0, 0, 0, 0, 0, 0, 0, 0, 0, 0, 0, 0, 0, 0, 0, 0, 0, 0, 0, 0, 0, 0, 0, 0, 0, 0, 0, 0, 0, 0, 0, 0, 0, 0, 0, 0, 0, 0, 0, 0, 0, 0, 0, 0, 0, 0, 0, 0, 0, 0, 0, 0, 0, 0, 0, 0, 0, 0, 0, 0, 0, 0, 0, 0, 0, 0, 0, 0, 0, 0, 0, 0, 0, 0, 0, 0, 0, 0, 0, 0, 0, 0, 0])\n",
            "  list([0, 0, 0, 0, 0, 0, 0, 0, 0, 0, 0, 0, 0, 0, 0, 0, 0, 0, 0, 0, 0, 0, 0, 0, 0, 0, 0, 0, 0, 0, 0, 0, 1])]\n",
            " ...\n",
            " [list([0, 0, 0, 0, 0, 0, 0, 0, 0, 0, 0, 0, 0, 0, 0, 0, 0, 0, 0, 0, 0, 0, 0, 0, 0, 0, 0, 0, 0, 0, 0, 0, 0, 0, 0, 0, 0, 0, 0, 0, 0, 0, 0, 0, 0, 0, 0, 0, 0, 0, 0, 0, 0, 0, 0, 0, 0, 0, 0, 0, 0, 0, 0, 0, 0, 0, 0, 0, 0, 0, 0, 0, 0, 0, 0, 0, 0, 0, 0, 0, 0, 0, 0, 0, 0, 0, 0, 0, 0, 0, 0, 0, 0, 0, 0, 0, 0, 0, 0, 0, 0, 0, 0, 0, 0, 0, 0, 0, 0, 0, 0, 0, 0, 0, 1, 0, 0, 0, 0, 0, 0, 0, 0, 0, 0, 1, 0, 0, 0, 0, 0, 0, 0, 0, 0, 0, 0, 0, 0, 0, 0, 0, 0, 0, 0, 0, 0, 0, 0, 0, 0, 0, 0, 0, 0, 0, 0, 0, 0, 0, 0, 0, 0, 0, 0, 0, 0, 0, 0, 0, 1, 0, 0, 0, 0, 0, 0, 0, 0, 0, 0, 0, 1, 0, 0, 0, 0, 0, 0, 0, 0, 0, 0, 0, 0, 0, 0, 0, 0, 0, 0, 0, 0, 0, 0, 0, 0, 0, 0, 0, 0, 0, 0, 0, 0])\n",
            "  list([0, 0, 0, 0, 0, 0, 0, 0, 0, 0, 0, 0, 0, 0, 0, 0, 0, 0, 0, 0, 0, 0, 0, 0, 0, 0, 0, 1, 0, 0, 0, 0, 0])]\n",
            " [list([0, 0, 0, 0, 0, 0, 0, 0, 0, 0, 0, 0, 0, 0, 0, 0, 0, 0, 0, 0, 0, 0, 0, 0, 0, 0, 0, 0, 0, 0, 0, 0, 0, 0, 0, 0, 0, 0, 0, 0, 0, 0, 0, 0, 0, 0, 0, 0, 0, 0, 0, 0, 0, 0, 0, 0, 0, 0, 0, 0, 0, 0, 0, 0, 0, 0, 0, 0, 0, 0, 0, 0, 0, 0, 0, 0, 0, 0, 0, 0, 0, 0, 0, 0, 0, 0, 0, 0, 0, 0, 0, 0, 0, 0, 0, 0, 0, 0, 0, 0, 0, 0, 0, 0, 0, 0, 0, 0, 0, 0, 0, 0, 0, 0, 1, 0, 0, 0, 0, 0, 0, 0, 0, 0, 0, 1, 0, 0, 0, 0, 0, 0, 0, 0, 0, 0, 0, 0, 0, 0, 0, 0, 0, 0, 0, 0, 0, 0, 0, 0, 0, 0, 0, 0, 0, 0, 0, 0, 0, 0, 0, 0, 0, 0, 0, 0, 0, 0, 0, 0, 1, 0, 0, 0, 0, 0, 0, 0, 0, 0, 0, 0, 1, 0, 0, 0, 0, 0, 0, 0, 0, 0, 0, 0, 0, 0, 0, 0, 0, 0, 0, 0, 0, 0, 0, 0, 0, 0, 0, 0, 0, 0, 0, 0, 0])\n",
            "  list([0, 0, 0, 0, 0, 0, 0, 0, 0, 0, 0, 0, 0, 0, 0, 0, 0, 0, 0, 0, 0, 0, 0, 0, 0, 0, 0, 1, 0, 0, 0, 0, 0])]\n",
            " [list([0, 0, 0, 0, 0, 0, 0, 0, 0, 0, 0, 0, 0, 0, 0, 0, 0, 0, 0, 0, 0, 0, 0, 0, 0, 0, 0, 0, 0, 0, 0, 0, 0, 0, 0, 0, 0, 0, 0, 0, 0, 0, 0, 0, 0, 0, 0, 0, 0, 0, 0, 0, 0, 0, 0, 0, 0, 0, 0, 0, 0, 0, 0, 0, 0, 0, 0, 0, 0, 0, 0, 0, 0, 0, 0, 0, 0, 0, 0, 0, 0, 0, 0, 0, 0, 0, 0, 0, 0, 0, 0, 0, 0, 0, 0, 0, 0, 0, 0, 0, 0, 0, 0, 0, 0, 0, 0, 0, 0, 0, 0, 0, 0, 0, 1, 0, 0, 0, 0, 0, 0, 0, 0, 0, 0, 1, 0, 0, 0, 0, 0, 0, 0, 0, 0, 0, 0, 0, 0, 0, 0, 0, 0, 0, 0, 0, 0, 0, 0, 0, 0, 0, 0, 0, 0, 0, 0, 0, 0, 0, 0, 0, 0, 0, 0, 0, 0, 0, 0, 0, 1, 0, 0, 0, 0, 0, 0, 0, 0, 0, 0, 0, 1, 0, 0, 0, 0, 0, 0, 0, 0, 0, 0, 0, 0, 0, 0, 0, 0, 0, 0, 0, 0, 0, 0, 0, 0, 0, 0, 0, 0, 0, 0, 0, 0])\n",
            "  list([0, 0, 0, 0, 0, 0, 0, 0, 0, 0, 0, 0, 0, 0, 0, 0, 0, 0, 0, 0, 0, 0, 0, 0, 0, 0, 0, 1, 0, 0, 0, 0, 0])]]\n"
          ]
        }
      ],
      "source": [
        "# Cetak training dan BoW\n",
        "print(np.array(training))"
      ]
    },
    {
      "cell_type": "code",
      "execution_count": 18,
      "metadata": {
        "colab": {
          "base_uri": "https://localhost:8080/"
        },
        "id": "98vfZyTH7mgD",
        "outputId": "3e0cf1a5-dc8b-4db5-985a-23ade2eb9d8e"
      },
      "outputs": [
        {
          "name": "stdout",
          "output_type": "stream",
          "text": [
            "Mengacak Secara Acak dan Mengonversi ke Numpy Array untuk Pemrosesan Lebih Cepat\n"
          ]
        }
      ],
      "source": [
        "print('Mengacak Secara Acak dan Mengonversi ke Numpy Array untuk Pemrosesan Lebih Cepat')\n",
        "random.shuffle(training)\n",
        "training = np.array(training)"
      ]
    },
    {
      "cell_type": "code",
      "execution_count": 19,
      "metadata": {
        "colab": {
          "base_uri": "https://localhost:8080/"
        },
        "id": "fjJXY9vc8tuW",
        "outputId": "c23cc1dd-0025-46ad-cf10-a43fda37329e"
      },
      "outputs": [
        {
          "name": "stdout",
          "output_type": "stream",
          "text": [
            "[[list([0, 0, 0, 0, 0, 0, 0, 0, 0, 0, 0, 0, 0, 0, 0, 0, 0, 0, 0, 0, 0, 0, 0, 0, 0, 0, 0, 0, 0, 0, 0, 0, 0, 0, 0, 0, 0, 0, 0, 0, 0, 0, 0, 0, 0, 0, 0, 0, 0, 0, 0, 0, 0, 0, 0, 0, 0, 0, 0, 0, 0, 0, 0, 1, 0, 1, 0, 0, 0, 0, 0, 0, 0, 0, 0, 0, 0, 0, 0, 0, 0, 0, 0, 0, 0, 0, 0, 0, 0, 0, 0, 0, 0, 0, 0, 0, 0, 0, 0, 0, 0, 0, 0, 0, 0, 0, 0, 0, 0, 0, 0, 0, 0, 0, 1, 0, 0, 0, 0, 0, 0, 0, 0, 0, 0, 0, 0, 0, 0, 0, 0, 0, 0, 0, 0, 0, 0, 0, 0, 0, 0, 0, 0, 0, 0, 0, 0, 0, 0, 0, 0, 0, 0, 0, 0, 0, 0, 0, 0, 0, 0, 0, 0, 0, 0, 0, 0, 0, 0, 0, 0, 0, 0, 0, 0, 0, 0, 0, 0, 0, 0, 0, 0, 0, 0, 0, 0, 0, 0, 0, 0, 0, 0, 0, 0, 0, 0, 0, 0, 0, 0, 0, 0, 0, 0, 0, 0, 0, 0, 0, 0, 0, 0, 0, 0])\n",
            "  list([0, 0, 0, 0, 0, 0, 0, 0, 0, 0, 0, 0, 0, 0, 0, 0, 0, 0, 0, 0, 1, 0, 0, 0, 0, 0, 0, 0, 0, 0, 0, 0, 0])]\n",
            " [list([0, 1, 0, 0, 0, 0, 0, 0, 0, 1, 0, 0, 0, 0, 0, 1, 0, 0, 1, 0, 0, 0, 0, 0, 0, 0, 0, 0, 0, 0, 0, 0, 0, 0, 0, 0, 0, 0, 0, 0, 0, 0, 1, 0, 0, 0, 0, 0, 0, 0, 0, 0, 0, 0, 0, 0, 0, 0, 0, 0, 0, 0, 0, 0, 0, 0, 0, 0, 0, 0, 0, 0, 0, 0, 0, 0, 0, 0, 0, 0, 0, 0, 0, 0, 0, 0, 0, 0, 0, 0, 0, 0, 0, 0, 0, 0, 0, 0, 0, 0, 0, 0, 0, 0, 0, 0, 0, 0, 0, 0, 0, 0, 0, 0, 0, 0, 0, 0, 0, 0, 0, 0, 0, 0, 0, 0, 0, 0, 0, 0, 1, 0, 0, 0, 0, 0, 0, 0, 0, 0, 0, 0, 0, 0, 0, 0, 0, 0, 0, 0, 0, 0, 0, 0, 0, 0, 0, 0, 0, 0, 0, 0, 0, 0, 0, 0, 0, 0, 0, 0, 0, 0, 0, 0, 0, 0, 0, 0, 0, 0, 0, 0, 0, 0, 0, 0, 0, 0, 0, 0, 0, 0, 0, 0, 0, 0, 0, 0, 0, 0, 0, 0, 0, 0, 0, 0, 0, 0, 0, 0, 0, 0, 0, 0, 0])\n",
            "  list([0, 0, 0, 0, 0, 0, 0, 0, 1, 0, 0, 0, 0, 0, 0, 0, 0, 0, 0, 0, 0, 0, 0, 0, 0, 0, 0, 0, 0, 0, 0, 0, 0])]\n",
            " [list([0, 0, 0, 0, 0, 0, 0, 0, 0, 0, 0, 0, 0, 0, 0, 0, 0, 0, 0, 0, 0, 0, 0, 0, 0, 0, 0, 0, 0, 0, 0, 0, 0, 0, 0, 0, 0, 0, 0, 0, 0, 0, 0, 0, 0, 0, 0, 0, 0, 0, 0, 0, 0, 0, 0, 0, 0, 0, 0, 0, 0, 0, 0, 0, 0, 0, 0, 0, 0, 0, 0, 0, 0, 0, 0, 0, 0, 0, 0, 0, 0, 0, 0, 0, 0, 0, 0, 0, 0, 0, 0, 0, 0, 0, 0, 0, 0, 0, 0, 0, 0, 0, 0, 0, 0, 0, 0, 0, 0, 0, 0, 0, 0, 0, 1, 0, 0, 0, 0, 0, 0, 0, 0, 0, 0, 1, 0, 0, 0, 0, 0, 0, 0, 0, 0, 0, 0, 0, 0, 0, 0, 0, 0, 0, 0, 0, 0, 0, 0, 0, 0, 0, 0, 0, 0, 0, 0, 0, 0, 0, 0, 0, 0, 0, 0, 0, 0, 0, 0, 0, 1, 0, 0, 0, 0, 0, 0, 0, 0, 0, 0, 0, 1, 0, 0, 0, 0, 0, 0, 0, 0, 0, 0, 0, 0, 0, 0, 0, 0, 0, 0, 0, 0, 0, 0, 0, 0, 0, 0, 0, 0, 0, 0, 0, 0])\n",
            "  list([0, 0, 0, 0, 0, 0, 0, 0, 0, 0, 0, 0, 0, 0, 0, 0, 0, 0, 0, 0, 0, 0, 0, 0, 0, 0, 0, 1, 0, 0, 0, 0, 0])]\n",
            " ...\n",
            " [list([0, 0, 0, 0, 0, 0, 0, 0, 0, 0, 0, 0, 0, 0, 0, 0, 0, 0, 0, 0, 0, 0, 0, 0, 0, 0, 0, 0, 0, 0, 0, 0, 0, 1, 0, 0, 0, 0, 0, 0, 0, 0, 0, 0, 0, 0, 0, 1, 0, 0, 0, 0, 0, 0, 0, 0, 0, 1, 0, 0, 0, 0, 0, 0, 0, 0, 0, 0, 0, 0, 0, 0, 0, 0, 0, 0, 0, 0, 0, 0, 0, 1, 0, 0, 0, 1, 0, 0, 0, 0, 0, 0, 0, 0, 0, 0, 0, 0, 0, 0, 0, 0, 0, 0, 0, 0, 0, 0, 0, 0, 0, 0, 0, 0, 0, 0, 0, 0, 0, 1, 0, 0, 0, 0, 0, 0, 0, 1, 0, 0, 0, 0, 0, 0, 0, 1, 0, 0, 0, 0, 0, 1, 0, 0, 0, 0, 0, 0, 0, 0, 0, 0, 0, 0, 0, 0, 0, 0, 0, 0, 0, 0, 0, 0, 0, 0, 0, 0, 0, 0, 1, 1, 1, 0, 0, 0, 0, 0, 0, 0, 0, 0, 0, 0, 0, 0, 0, 0, 0, 0, 0, 0, 0, 0, 0, 0, 0, 0, 0, 0, 0, 1, 0, 0, 0, 0, 0, 0, 0, 0, 0, 0, 0, 0, 0])\n",
            "  list([0, 0, 0, 0, 0, 0, 0, 0, 0, 0, 0, 1, 0, 0, 0, 0, 0, 0, 0, 0, 0, 0, 0, 0, 0, 0, 0, 0, 0, 0, 0, 0, 0])]\n",
            " [list([0, 0, 0, 0, 0, 0, 0, 0, 0, 0, 0, 0, 0, 0, 0, 0, 0, 0, 0, 1, 0, 0, 0, 0, 0, 0, 0, 0, 0, 0, 0, 0, 0, 0, 0, 0, 0, 0, 0, 0, 1, 0, 0, 0, 0, 0, 0, 0, 0, 0, 0, 0, 0, 0, 0, 0, 0, 0, 0, 0, 0, 0, 0, 0, 0, 0, 0, 0, 0, 0, 0, 0, 0, 0, 0, 0, 0, 0, 0, 0, 0, 0, 0, 0, 0, 0, 0, 0, 0, 0, 0, 0, 0, 0, 0, 0, 0, 0, 0, 0, 0, 0, 0, 0, 0, 0, 0, 0, 0, 0, 0, 0, 0, 0, 0, 0, 0, 0, 0, 0, 0, 0, 0, 0, 0, 0, 0, 0, 0, 0, 0, 0, 0, 0, 0, 0, 0, 0, 0, 0, 0, 0, 0, 0, 0, 0, 0, 0, 0, 0, 0, 0, 0, 0, 0, 0, 0, 0, 0, 0, 0, 0, 0, 0, 0, 0, 0, 0, 0, 0, 0, 0, 0, 0, 0, 0, 0, 0, 0, 0, 0, 0, 0, 0, 0, 0, 0, 0, 0, 0, 0, 0, 0, 0, 0, 0, 0, 0, 0, 0, 0, 0, 0, 0, 0, 0, 0, 0, 0, 0, 0, 0, 0, 0, 0])\n",
            "  list([0, 0, 0, 0, 0, 0, 0, 0, 0, 0, 0, 0, 0, 0, 0, 0, 0, 1, 0, 0, 0, 0, 0, 0, 0, 0, 0, 0, 0, 0, 0, 0, 0])]\n",
            " [list([0, 0, 0, 0, 0, 0, 0, 0, 0, 0, 0, 0, 0, 0, 0, 0, 0, 0, 0, 0, 0, 0, 0, 0, 0, 0, 0, 0, 0, 0, 0, 0, 0, 0, 0, 0, 0, 0, 0, 0, 0, 0, 0, 0, 0, 0, 0, 0, 0, 0, 0, 0, 0, 0, 0, 0, 0, 0, 0, 0, 0, 0, 0, 0, 0, 0, 0, 0, 0, 0, 0, 0, 0, 0, 0, 0, 0, 0, 0, 0, 0, 0, 0, 0, 0, 0, 0, 0, 0, 0, 0, 0, 0, 0, 0, 0, 0, 0, 0, 0, 0, 0, 0, 0, 0, 0, 0, 0, 0, 0, 0, 0, 0, 0, 1, 0, 0, 0, 0, 0, 0, 0, 0, 0, 0, 1, 0, 0, 0, 0, 0, 0, 0, 0, 0, 0, 0, 0, 0, 0, 0, 0, 0, 0, 0, 0, 0, 0, 0, 0, 0, 0, 0, 0, 0, 0, 0, 0, 0, 0, 0, 0, 0, 0, 0, 0, 0, 0, 0, 0, 1, 0, 0, 0, 0, 0, 0, 0, 0, 0, 0, 0, 1, 0, 0, 0, 0, 0, 0, 0, 0, 0, 0, 0, 0, 0, 0, 0, 0, 0, 0, 0, 0, 0, 0, 0, 0, 0, 0, 0, 0, 0, 0, 0, 0])\n",
            "  list([0, 0, 0, 0, 0, 0, 0, 0, 0, 0, 0, 0, 0, 0, 0, 0, 0, 0, 0, 0, 0, 0, 0, 0, 0, 0, 0, 1, 0, 0, 0, 0, 0])]]\n"
          ]
        }
      ],
      "source": [
        "print(training)"
      ]
    },
    {
      "cell_type": "code",
      "execution_count": 20,
      "metadata": {
        "colab": {
          "base_uri": "https://localhost:8080/"
        },
        "id": "BS57VvFL8whB",
        "outputId": "e0a38bdc-b29d-47a3-b3c4-e4aa4be5d401"
      },
      "outputs": [
        {
          "name": "stdout",
          "output_type": "stream",
          "text": [
            "Membuat train dan test list\n"
          ]
        }
      ],
      "source": [
        "print('Membuat train dan test list')\n",
        "train_x = np.array(list(training[:,0]))\n",
        "train_y = np.array(list(training[:,1]))"
      ]
    },
    {
      "cell_type": "code",
      "execution_count": 21,
      "metadata": {
        "colab": {
          "base_uri": "https://localhost:8080/"
        },
        "id": "bJZrAaGe90RF",
        "outputId": "b3af7cc3-afa7-4b2c-c1b9-efd5e2c00171"
      },
      "outputs": [
        {
          "name": "stdout",
          "output_type": "stream",
          "text": [
            "Ukuran train_x (46655, 215)\n",
            "Ukuran train_y (46655, 33)\n"
          ]
        }
      ],
      "source": [
        "print('Ukuran train_x', np.shape(train_x))\n",
        "print('Ukuran train_y', np.shape(train_y))"
      ]
    },
    {
      "cell_type": "code",
      "execution_count": 22,
      "metadata": {
        "colab": {
          "base_uri": "https://localhost:8080/"
        },
        "id": "vfmyhMuH9_9C",
        "outputId": "bd0f0af1-6694-48da-f924-2a52dfe5fe58"
      },
      "outputs": [
        {
          "name": "stdout",
          "output_type": "stream",
          "text": [
            "Model: \"sequential\"\n",
            "_________________________________________________________________\n",
            " Layer (type)                Output Shape              Param #   \n",
            "=================================================================\n",
            " dense (Dense)               (None, 8)                 1728      \n",
            "                                                                 \n",
            " dense_1 (Dense)             (None, 33)                297       \n",
            "                                                                 \n",
            "=================================================================\n",
            "Total params: 2,025\n",
            "Trainable params: 2,025\n",
            "Non-trainable params: 0\n",
            "_________________________________________________________________\n"
          ]
        }
      ],
      "source": [
        "# Membuat model\n",
        "from tensorflow.keras import layers\n",
        "from tensorflow.keras.initializers import TruncatedNormal\n",
        "initializer = TruncatedNormal()\n",
        "\n",
        "model = tf.keras.models.Sequential()\n",
        "model.add(layers.Dense(8, input_shape=(len(train_x[0]),), activation='relu', kernel_initializer=initializer))\n",
        "model.add(layers.Dense(len(train_y[0]), activation='softmax', kernel_initializer=initializer))\n",
        "\n",
        "model.compile(loss='categorical_crossentropy', optimizer='adam', metrics=['acc'])\n",
        "model.summary()"
      ]
    },
    {
      "cell_type": "code",
      "execution_count": 31,
      "metadata": {
        "colab": {
          "base_uri": "https://localhost:8080/"
        },
        "id": "32arYsqkufyp",
        "outputId": "6037f2b5-56b3-45fd-939c-3c4c00e8f168"
      },
      "outputs": [
        {
          "name": "stdout",
          "output_type": "stream",
          "text": [
            "33\n"
          ]
        }
      ],
      "source": [
        "print(len(train_y[0]))"
      ]
    },
    {
      "cell_type": "code",
      "execution_count": 30,
      "metadata": {
        "colab": {
          "base_uri": "https://localhost:8080/"
        },
        "id": "64lqStVp_Vix",
        "outputId": "645b2dfe-022c-410f-d649-dce3adc288f5"
      },
      "outputs": [
        {
          "name": "stdout",
          "output_type": "stream",
          "text": [
            "Training model\n",
            "Epoch 1/3\n",
            "5832/5832 [==============================] - 12s 2ms/step - loss: 7.6649e-08 - acc: 1.0000\n",
            "Epoch 2/3\n",
            "5832/5832 [==============================] - 12s 2ms/step - loss: 2.7077e-08 - acc: 1.0000\n",
            "Epoch 3/3\n",
            "5832/5832 [==============================] - 11s 2ms/step - loss: 2.5771e-08 - acc: 1.0000\n"
          ]
        },
        {
          "data": {
            "text/plain": [
              "<keras.callbacks.History at 0x7fad308bffa0>"
            ]
          },
          "execution_count": 30,
          "metadata": {},
          "output_type": "execute_result"
        }
      ],
      "source": [
        "print('Training model')\n",
        "# Pastikan bentuk masukan cocok dengan jumlah fitur masukan\n",
        "\n",
        "model.fit(train_x, train_y, batch_size=8, epochs=3)"
      ]
    },
    {
      "cell_type": "code",
      "execution_count": 24,
      "metadata": {
        "colab": {
          "base_uri": "https://localhost:8080/"
        },
        "id": "EacQkCzWBcgk",
        "outputId": "70060d5b-8a92-4dbc-ba32-57788a7f8e5a"
      },
      "outputs": [
        {
          "name": "stdout",
          "output_type": "stream",
          "text": [
            "Simpan Model\n"
          ]
        }
      ],
      "source": [
        "print('Simpan Model')\n",
        "model.save('model.h5')"
      ]
    },
    {
      "cell_type": "code",
      "execution_count": 25,
      "metadata": {
        "colab": {
          "base_uri": "https://localhost:8080/"
        },
        "id": "n7ZhxSuOCKLW",
        "outputId": "e83a5a0d-dcd4-49c1-b14e-140e871e401f"
      },
      "outputs": [
        {
          "name": "stdout",
          "output_type": "stream",
          "text": [
            "Pickle is also Saved..........\n"
          ]
        }
      ],
      "source": [
        "print(\"Pickle is also Saved..........\")\n",
        "pickle.dump( {'words':words, 'classes':classes, 'train_x':train_x, 'train_y':train_y}, open( \"training_data\", \"wb\" ) )"
      ]
    },
    {
      "cell_type": "code",
      "execution_count": 26,
      "metadata": {
        "colab": {
          "base_uri": "https://localhost:8080/"
        },
        "id": "XWScIlidCLxg",
        "outputId": "23932060-3db0-4564-a077-e9d5986fc94e"
      },
      "outputs": [
        {
          "name": "stdout",
          "output_type": "stream",
          "text": [
            "Loading Pickle.....\n",
            "Loading the Model......\n"
          ]
        }
      ],
      "source": [
        "print(\"Loading Pickle.....\")\n",
        "data = pickle.load( open( \"training_data\", \"rb\" ) )\n",
        "words = data['words']\n",
        "classes = data['classes']\n",
        "train_x = data['train_x']\n",
        "train_y = data['train_y']\n",
        "\n",
        "\n",
        "with open('sample_data/intents.json') as json_data:\n",
        "    intents = json.load(json_data)\n",
        "    \n",
        "print(\"Loading the Model......\")\n",
        "# load our saved model\n",
        "model = tf.keras.models.load_model('./model.h5')"
      ]
    },
    {
      "cell_type": "code",
      "execution_count": 27,
      "metadata": {
        "colab": {
          "base_uri": "https://localhost:8080/"
        },
        "id": "Ao2Tlny3CUFy",
        "outputId": "522594d1-3117-4837-8298-7a3048ab9fe0"
      },
      "outputs": [
        {
          "name": "stdout",
          "output_type": "stream",
          "text": [
            "ERROR_THRESHOLD = 0.25\n"
          ]
        }
      ],
      "source": [
        "def clean_up_sentence(sentence):\n",
        "    # It Tokenize or Break it into the constituents parts of Sentense.\n",
        "    sentence_words = nltk.word_tokenize(sentence)\n",
        "    # Stemming means to find the root of the word.\n",
        "    sentence_words = [stemmer.stem(word.lower()) for word in sentence_words]\n",
        "    return sentence_words\n",
        "\n",
        "# Return the Array of Bag of Words: True or False and 0 or 1 for each word of bag that exists in the Sentence\n",
        "def bow(sentence, words, show_details=False):\n",
        "    sentence_words = clean_up_sentence(sentence)\n",
        "    bag = [0] * len(words)\n",
        "    for s in sentence_words:\n",
        "        for i, w in enumerate(words):\n",
        "            if w == s:\n",
        "                bag[i] = 1\n",
        "                if show_details:\n",
        "                    print(\"found in bag: %s\" % w)\n",
        "    return np.array(bag).reshape(1, -1)  # Reshape to (1, num_features)\n",
        "\n",
        "\n",
        "ERROR_THRESHOLD = 0.25\n",
        "print(\"ERROR_THRESHOLD = 0.25\")\n",
        "\n",
        "def classify(sentence):\n",
        "    # Prediction or To Get the Posibility or Probability from the Model\n",
        "    results = model.predict([bow(sentence, words)])[0]\n",
        "    # Exclude those results which are Below Threshold\n",
        "    results = [[i,r] for i,r in enumerate(results) if r>ERROR_THRESHOLD]\n",
        "    # Sorting is Done because heigher Confidence Answer comes first.\n",
        "    results.sort(key=lambda x: x[1], reverse=True)\n",
        "    return_list = []\n",
        "    for r in results:\n",
        "        return_list.append((classes[r[0]], r[1])) #Tuppl -> Intent and Probability\n",
        "    return return_list\n",
        "\n",
        "def response(sentence, userID='123', show_details=False):\n",
        "    results = classify(sentence)\n",
        "    # That Means if Classification is Done then Find the Matching Tag.\n",
        "    if results:\n",
        "        # Long Loop to get the Result.\n",
        "        while results:\n",
        "            for i in intents['intents']:\n",
        "                # Tag Finding\n",
        "                if i['tag'] == results[0][0]:\n",
        "                    # Random Response from High Order Probabilities\n",
        "                    return print(random.choice(i['responses']))\n",
        "\n",
        "            results.pop(0)"
      ]
    },
    {
      "cell_type": "code",
      "execution_count": 28,
      "metadata": {
        "colab": {
          "base_uri": "https://localhost:8080/",
          "height": 608
        },
        "id": "4UfuMQ9RCVq-",
        "outputId": "46ef67be-994d-4003-e3a2-7db205faa151"
      },
      "outputs": [
        {
          "name": "stdout",
          "output_type": "stream",
          "text": [
            "You- halo\n",
            "1/1 [==============================] - 0s 123ms/step\n",
            "Halo, Selamat datang di JasaIn Chatbot!. Jika kamu mempunyai kendala, silahkan deskripsikan kendalamu ya!\n",
            "You- laptop saya rusak min\n",
            "1/1 [==============================] - 0s 21ms/step\n",
            "Silakan sebutkan keluhanmu, kami akan coba membantumu\n",
            "You- ac saya rusak min\n",
            "1/1 [==============================] - 0s 24ms/step\n",
            "Mohon berikan keluhanmu agar kami bisa membantumu\n",
            "You- laptop saya suka overheat \n",
            "1/1 [==============================] - 0s 21ms/step\n",
            "Masalah overheating pada laptop bisa disebabkan oleh kipas yang kotor atau pendingin yang tidak efektif. Pastikan laptop Anda memiliki ventilasi yang baik dan coba bersihkan kipas dari debu secara berkala.\n"
          ]
        },
        {
          "ename": "KeyboardInterrupt",
          "evalue": "ignored",
          "output_type": "error",
          "traceback": [
            "\u001b[0;31m---------------------------------------------------------------------------\u001b[0m",
            "\u001b[0;31mKeyboardInterrupt\u001b[0m                         Traceback (most recent call last)",
            "\u001b[0;32m<ipython-input-28-b154cd173fb0>\u001b[0m in \u001b[0;36m<cell line: 1>\u001b[0;34m()\u001b[0m\n\u001b[1;32m      1\u001b[0m \u001b[0;32mwhile\u001b[0m \u001b[0;32mTrue\u001b[0m\u001b[0;34m:\u001b[0m\u001b[0;34m\u001b[0m\u001b[0;34m\u001b[0m\u001b[0m\n\u001b[0;32m----> 2\u001b[0;31m     \u001b[0minput_data\u001b[0m \u001b[0;34m=\u001b[0m \u001b[0minput\u001b[0m\u001b[0;34m(\u001b[0m\u001b[0;34m\"You- \"\u001b[0m\u001b[0;34m)\u001b[0m\u001b[0;34m\u001b[0m\u001b[0;34m\u001b[0m\u001b[0m\n\u001b[0m\u001b[1;32m      3\u001b[0m     \u001b[0manswer\u001b[0m \u001b[0;34m=\u001b[0m \u001b[0mresponse\u001b[0m\u001b[0;34m(\u001b[0m\u001b[0minput_data\u001b[0m\u001b[0;34m)\u001b[0m\u001b[0;34m\u001b[0m\u001b[0;34m\u001b[0m\u001b[0m\n\u001b[1;32m      4\u001b[0m     \u001b[0manswer\u001b[0m\u001b[0;34m\u001b[0m\u001b[0;34m\u001b[0m\u001b[0m\n",
            "\u001b[0;32m/usr/local/lib/python3.10/dist-packages/ipykernel/kernelbase.py\u001b[0m in \u001b[0;36mraw_input\u001b[0;34m(self, prompt)\u001b[0m\n\u001b[1;32m    849\u001b[0m                 \u001b[0;34m\"raw_input was called, but this frontend does not support input requests.\"\u001b[0m\u001b[0;34m\u001b[0m\u001b[0;34m\u001b[0m\u001b[0m\n\u001b[1;32m    850\u001b[0m             )\n\u001b[0;32m--> 851\u001b[0;31m         return self._input_request(str(prompt),\n\u001b[0m\u001b[1;32m    852\u001b[0m             \u001b[0mself\u001b[0m\u001b[0;34m.\u001b[0m\u001b[0m_parent_ident\u001b[0m\u001b[0;34m,\u001b[0m\u001b[0;34m\u001b[0m\u001b[0;34m\u001b[0m\u001b[0m\n\u001b[1;32m    853\u001b[0m             \u001b[0mself\u001b[0m\u001b[0;34m.\u001b[0m\u001b[0m_parent_header\u001b[0m\u001b[0;34m,\u001b[0m\u001b[0;34m\u001b[0m\u001b[0;34m\u001b[0m\u001b[0m\n",
            "\u001b[0;32m/usr/local/lib/python3.10/dist-packages/ipykernel/kernelbase.py\u001b[0m in \u001b[0;36m_input_request\u001b[0;34m(self, prompt, ident, parent, password)\u001b[0m\n\u001b[1;32m    893\u001b[0m             \u001b[0;32mexcept\u001b[0m \u001b[0mKeyboardInterrupt\u001b[0m\u001b[0;34m:\u001b[0m\u001b[0;34m\u001b[0m\u001b[0;34m\u001b[0m\u001b[0m\n\u001b[1;32m    894\u001b[0m                 \u001b[0;31m# re-raise KeyboardInterrupt, to truncate traceback\u001b[0m\u001b[0;34m\u001b[0m\u001b[0;34m\u001b[0m\u001b[0m\n\u001b[0;32m--> 895\u001b[0;31m                 \u001b[0;32mraise\u001b[0m \u001b[0mKeyboardInterrupt\u001b[0m\u001b[0;34m(\u001b[0m\u001b[0;34m\"Interrupted by user\"\u001b[0m\u001b[0;34m)\u001b[0m \u001b[0;32mfrom\u001b[0m \u001b[0;32mNone\u001b[0m\u001b[0;34m\u001b[0m\u001b[0;34m\u001b[0m\u001b[0m\n\u001b[0m\u001b[1;32m    896\u001b[0m             \u001b[0;32mexcept\u001b[0m \u001b[0mException\u001b[0m \u001b[0;32mas\u001b[0m \u001b[0me\u001b[0m\u001b[0;34m:\u001b[0m\u001b[0;34m\u001b[0m\u001b[0;34m\u001b[0m\u001b[0m\n\u001b[1;32m    897\u001b[0m                 \u001b[0mself\u001b[0m\u001b[0;34m.\u001b[0m\u001b[0mlog\u001b[0m\u001b[0;34m.\u001b[0m\u001b[0mwarning\u001b[0m\u001b[0;34m(\u001b[0m\u001b[0;34m\"Invalid Message:\"\u001b[0m\u001b[0;34m,\u001b[0m \u001b[0mexc_info\u001b[0m\u001b[0;34m=\u001b[0m\u001b[0;32mTrue\u001b[0m\u001b[0;34m)\u001b[0m\u001b[0;34m\u001b[0m\u001b[0;34m\u001b[0m\u001b[0m\n",
            "\u001b[0;31mKeyboardInterrupt\u001b[0m: Interrupted by user"
          ]
        }
      ],
      "source": [
        "while True:\n",
        "    input_data = input(\"You- \")\n",
        "    if input_data.lower() in ['exit', 'selamat tinggal']:\n",
        "        break\n",
        "    else:\n",
        "        answer = response(input_data)"
      ]
    },
    {
      "cell_type": "code",
      "execution_count": 29,
      "metadata": {
        "colab": {
          "base_uri": "https://localhost:8080/"
        },
        "id": "96hO9Gs9CXVd",
        "outputId": "c66774a9-75e8-4f63-af98-47473a3196a8"
      },
      "outputs": [
        {
          "name": "stderr",
          "output_type": "stream",
          "text": [
            "WARNING:absl:Found untraced functions such as _update_step_xla while saving (showing 1 of 1). These functions will not be directly callable after loading.\n"
          ]
        }
      ],
      "source": [
        "converter = tf.lite.TFLiteConverter.from_keras_model(model)\n",
        "tflite_model = converter.convert()\n",
        "\n",
        "with open(\"model.tflite\", 'wb') as f:\n",
        "  f.write(tflite_model)"
      ]
    },
    {
      "cell_type": "code",
      "execution_count": null,
      "metadata": {
        "id": "Of4LjwDloja1"
      },
      "outputs": [],
      "source": []
    }
  ],
  "metadata": {
    "colab": {
      "provenance": []
    },
    "kernelspec": {
      "display_name": "Python 3",
      "name": "python3"
    },
    "language_info": {
      "name": "python"
    }
  },
  "nbformat": 4,
  "nbformat_minor": 0
}
