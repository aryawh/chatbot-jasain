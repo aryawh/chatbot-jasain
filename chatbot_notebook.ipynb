{
  "cells": [
    {
      "cell_type": "markdown",
      "metadata": {
        "id": "L-v8I07ttbT_"
      },
      "source": [
        "#Mengimpor Library"
      ]
    },
    {
      "cell_type": "code",
      "execution_count": 1,
      "metadata": {
        "colab": {
          "base_uri": "https://localhost:8080/"
        },
        "id": "zA5AOIYgEcOz",
        "outputId": "b16713cb-d9d9-4b79-ae2b-61dc99585a4d"
      },
      "outputs": [
        {
          "output_type": "stream",
          "name": "stderr",
          "text": [
            "[nltk_data] Downloading package punkt to /root/nltk_data...\n",
            "[nltk_data]   Unzipping tokenizers/punkt.zip.\n"
          ]
        }
      ],
      "source": [
        "# Library untuk Model\n",
        "import numpy as np\n",
        "import tensorflow as tf\n",
        "import random\n",
        "\n",
        "# Kontekstualisasi dan pekerjaan NLP\n",
        "import nltk\n",
        "nltk.download('punkt')\n",
        "from nltk.stem.lancaster import LancasterStemmer\n",
        "stemmer = LancasterStemmer()\n",
        "\n",
        "# Library pendukung\n",
        "import json\n",
        "import pickle\n",
        "import warnings\n",
        "import curses\n",
        "\n",
        "warnings.filterwarnings(\"ignore\")"
      ]
    },
    {
      "cell_type": "code",
      "execution_count": 2,
      "metadata": {
        "colab": {
          "base_uri": "https://localhost:8080/"
        },
        "id": "Omynb_miDq5q",
        "outputId": "7c24e6c1-6543-4ffc-8347-b4c36f5bda14"
      },
      "outputs": [
        {
          "output_type": "stream",
          "name": "stdout",
          "text": [
            "2.12.0\n"
          ]
        }
      ],
      "source": [
        "# Mengecek versi Tensorflow\n",
        "print(tf. __version__)"
      ]
    },
    {
      "cell_type": "markdown",
      "metadata": {
        "id": "oj_cu8RbtbUC"
      },
      "source": [
        "#Pengolahan Dataset"
      ]
    },
    {
      "cell_type": "code",
      "execution_count": 3,
      "metadata": {
        "colab": {
          "base_uri": "https://localhost:8080/"
        },
        "id": "Zf6gQvaIDq5q",
        "outputId": "4d76713f-ecb3-4e4a-ba5d-911e6715a876"
      },
      "outputs": [
        {
          "output_type": "stream",
          "name": "stdout",
          "text": [
            "Memproses dataset intents.....\n"
          ]
        }
      ],
      "source": [
        "print(\"Memproses dataset intents.....\")\n",
        "with open('./dataset/intents.json') as json_data:\n",
        "    intents = json.load(json_data)"
      ]
    },
    {
      "cell_type": "code",
      "execution_count": 4,
      "metadata": {
        "colab": {
          "base_uri": "https://localhost:8080/"
        },
        "id": "_pLvzIE9Dq5q",
        "outputId": "f1330fa1-45c9-4442-91d4-61de19d15ffa"
      },
      "outputs": [
        {
          "output_type": "stream",
          "name": "stdout",
          "text": [
            "Mengiterasi isi dataset untuk mengubahnya menjadi words, class, documents, dan ignore_words.......\n"
          ]
        }
      ],
      "source": [
        "words = []\n",
        "classes = []\n",
        "documents = []\n",
        "ignore_words = ['?']\n",
        "print(\"Mengiterasi isi dataset untuk mengubahnya menjadi words, class, documents, dan ignore_words.......\")\n",
        "for intent in intents['intents']:\n",
        "    for pattern in intent['patterns']:\n",
        "        # Tokenisasi tiap kata dalam kalimat\n",
        "        w = nltk.word_tokenize(pattern)\n",
        "        # Menambah kata ke dalam array words\n",
        "        words.extend(w)\n",
        "        # Menambah dokumen ke dalam korpus (pelatihan/uji)\n",
        "        documents.append((w, intent['tag']))\n",
        "        # Menambah tag ke dalam array class\n",
        "        if intent['tag'] not in classes:\n",
        "            classes.append(intent['tag'])"
      ]
    },
    {
      "cell_type": "code",
      "execution_count": 5,
      "metadata": {
        "colab": {
          "base_uri": "https://localhost:8080/"
        },
        "id": "aNsucHOlDq5q",
        "outputId": "2a9e5aed-8d2e-4b29-9d8e-9895813c210d"
      },
      "outputs": [
        {
          "output_type": "stream",
          "name": "stdout",
          "text": [
            "Meng-stemming, menggunakan huruf kecil dan menghapus duplikat kata.......\n",
            "291 documents\n",
            "33 classes ['ac_arti', 'ac_bocor', 'ac_freon', 'ac_kompresor', 'ac_kotor', 'ac_merek', 'ac_rusak', 'complaint', 'create_account', 'hp_baterai', 'hp_bluetooth', 'hp_bootlop', 'hp_iccharger', 'hp_lcd', 'hp_overheat', 'hp_wifi', 'laptop_audio_problems', 'laptop_battery_issues', 'laptop_blue_screen', 'laptop_charging_issues', 'laptop_driver_errors', 'laptop_hard_drive_failure', 'laptop_keyboard_not_working', 'laptop_overheating', 'laptop_screen_flickering', 'laptop_screen_problems', 'laptop_slow_performance', 'laptop_startup_issues', 'laptop_usb_port_issues', 'laptop_virus_infection', 'laptop_wifi_issues', 'penutup', 'salam']\n",
            "296 unique stemmed words [',', 'ac', 'ad', 'adalah', 'adapt', 'admin', 'air', 'ak', 'aku', 'akun', 'ap', 'aplikas', 'artiny', 'assalamualaik', 'ata', 'bag', 'bagaiman', 'bantuanny', 'banyak', 'baru', 'bat', 'batera', 'baterainy', 'bau', 'beberap', 'bengkak', 'berair', 'berfungs', 'berkedip', 'berkedip-kedip', 'berkurang', 'bermasalah', 'bersih', 'bertah', 'bertambah', 'berubah', 'biru', 'bis', 'bisakah', 'blank', 'blu', 'bluetoo', 'bluetoothny', 'blutut', 'boc', 'boot', 'butuh', 'bye', 'car', 'cas', 'casanny', 'cep', 'charg', 'chatbot', 'colok', 'cum', 'dan', 'dap', 'dar', 'day', 'definis', 'deng', 'di', 'dibersihk', 'dica', 'dicharg', 'digunak', 'dihidupk', 'dihubungk', 'diis', 'dinyalain', 'dinyalak', 'dipencet', 'diperbaik', 'disentuh', 'diskny', 'ditek', 'drast', 'driv', 'engg', 'er', 'freon', 'ga', 'gabis', 'gak', 'gamb', 'gampang', 'gant', 'gelap', 'gk', 'gua', 'gue', 'hab', 'hai', 'hallo', 'halo', 'handphon', 'hang', 'hany', 'hard', 'hdd', 'hei', 'hitam', 'hp', 'hpku', 'in', 'indik', 'ingin', 'internet', 'itu', 'jar', 'jatuh', 'kadang-kadang', 'kalau', 'kamu', 'karen', 'kasih', 'ke', 'kelu', 'keluh', 'kenak', 'kenap', 'kendal', 'kepanas', 'kepanjanganny', 'kerusak', 'kesalah', 'keyboard', 'keyboardny', 'kinerj', 'kompres', 'kompresorny', 'konek', 'koneks', 'kot', 'kualitasny', 'lag', 'lalu', 'lam', 'lamb', 'laptony', 'laptop', 'laptopku', 'laptopny', 'lay', 'lcd', 'lemot', 'logo', 'luar', 'makas', 'makasih', 'malah', 'malam', 'malem', 'malw', 'masalah', 'masih', 'masuk', 'mat', 'mau', 'membu', 'membuk', 'menampilk', 'mendapatk', 'mendeteks', 'menemuk', 'menet', 'mengajuk', 'mengaks', 'mengalam', 'mengap', 'mengeluark', 'menghap', 'menghidupk', 'menghubungk', 'menginst', 'mengis', 'meningkatk', 'menjad', 'menurun', 'menyal', 'menyalak', 'merek', 'merespon', 'min', 'mudah', 'munc', 'nambah', 'nge', 'ngeca', 'norm', 'notifikas', 'nyal', 'nyalain', 'nyambung', 'ok', 'oleh', 'operas', 'outdo', 'overh', 'pad', 'padah', 'pag', 'pana', 'pemaka', 'pembaru', 'peng', 'pengert', 'perangk', 'perbaik', 'perform', 'perlu', 'pers', 'persentas', 'pes', 'ponsel', 'port', 'puny', 'put', 'putus-put', 'respons', 'ridak', 'rusak', 'saat', 'saj', 'sam', 'sang', 'say', 'screen', 'sekal', 'selalu', 'selam', 'sendir', 'ser', 'serang', 'setelah', 'siang', 'singk', 'siny', 'sistem', 'sor', 'speak', 'startup', 'stuck', 'suar', 'sudah', 'suhu', 'suk', 'sulit', 'sya', 'tampil', 'tap', 'tem', 'tenkyu', 'tentang', 'ter', 'terdeng', 'terdeteks', 'terdistors', 'terhubung', 'terim', 'terimakasih', 'terimaksih', 'terinfeks', 'teris', 'terken', 'terlalu', 'terput', 'tetap', 'thank', 'thx', 'tib', 'tiba-tib', 'tidak', 'tingg', 'tombol', 'tombolny', 'tot', 'touchscreen', 'trim', 'ty', 'tysm', 'ui', 'unit', 'untukku', 'usb', 'uyy', 'vir', 'warn', 'wi-f', 'wif', 'wifiny', 'window', 'ya', 'yang', 'you']\n"
          ]
        }
      ],
      "source": [
        "print(\"Meng-stemming, menggunakan huruf kecil dan menghapus duplikat kata.......\")\n",
        "words = [stemmer.stem(w.lower()) for w in words if w not in ignore_words]\n",
        "words = sorted(list(set(words)))\n",
        "\n",
        "classes = sorted(list(set(classes)))\n",
        "\n",
        "print (len(documents), \"documents\")\n",
        "print (len(classes), \"classes\", classes)\n",
        "print (len(words), \"unique stemmed words\", words)"
      ]
    },
    {
      "cell_type": "code",
      "execution_count": 6,
      "metadata": {
        "colab": {
          "base_uri": "https://localhost:8080/"
        },
        "id": "6xuMAP5HDq5r",
        "outputId": "39538bc5-8ace-4e55-f349-c0fde813a488"
      },
      "outputs": [
        {
          "output_type": "stream",
          "name": "stdout",
          "text": [
            "Membuat data untuk model.....\n",
            "Membuat list kosong untuk output.....\n",
            "Membuat training set dan Bag of Words ....\n"
          ]
        }
      ],
      "source": [
        "print(\"Membuat data untuk model.....\")\n",
        "training = []\n",
        "output = []\n",
        "print(\"Membuat list kosong untuk output.....\")\n",
        "output_empty = [0] * len(classes)\n",
        "\n",
        "print(\"Membuat training set dan Bag of Words ....\")\n",
        "for doc in documents:\n",
        "    # Inisialisasi Bag of Words\n",
        "    bag = []\n",
        "    # Daftar kata-kata yang ditokenisasi untuk pattern\n",
        "    pattern_words = doc[0]\n",
        "    # Stem setiap kata\n",
        "    pattern_words = [stemmer.stem(word.lower()) for word in pattern_words]\n",
        "    # Membuat array Bag of Words\n",
        "    for w in words:\n",
        "        bag.append(1) if w in pattern_words else bag.append(0)\n",
        "\n",
        "    # Outputnya '0' untuk setiap tag dan '1' untuk tag saat ini\n",
        "    output_row = list(output_empty)\n",
        "    output_row[classes.index(doc[1])] = 1\n",
        "\n",
        "    training.append([bag, output_row])"
      ]
    },
    {
      "cell_type": "markdown",
      "metadata": {
        "id": "b2T7gOkTtbUD"
      },
      "source": [
        "#Membuat Training dan Test Set"
      ]
    },
    {
      "cell_type": "code",
      "execution_count": 7,
      "metadata": {
        "colab": {
          "base_uri": "https://localhost:8080/"
        },
        "id": "tkA6Za2qDq5r",
        "outputId": "d3b9bce6-cd58-4d7d-febe-adb66336c247"
      },
      "outputs": [
        {
          "output_type": "stream",
          "name": "stdout",
          "text": [
            "Mengacak dan mengubah menjadi numpy array untuk pemrosesan yang lebih cepat......\n",
            "Membuat list train dan test.....\n",
            "Shape train_x: (291, 296)\n",
            "Shape train_y: (291, 33)\n"
          ]
        }
      ],
      "source": [
        "print(\"Mengacak dan mengubah menjadi numpy array untuk pemrosesan yang lebih cepat......\")\n",
        "random.shuffle(training)\n",
        "training = np.array(training)\n",
        "\n",
        "print(\"Membuat list train dan test.....\")\n",
        "train_x = np.array(list(training[:, 0]))\n",
        "train_y = np.array(list(training[:, 1]))\n",
        "\n",
        "print(\"Shape train_x:\", np.shape(train_x))\n",
        "print(\"Shape train_y:\", np.shape(train_y))"
      ]
    },
    {
      "cell_type": "markdown",
      "metadata": {
        "id": "lv7OynRPtbUD"
      },
      "source": [
        "#Membuat Model Sequential"
      ]
    },
    {
      "cell_type": "code",
      "execution_count": 8,
      "metadata": {
        "colab": {
          "base_uri": "https://localhost:8080/"
        },
        "id": "vL6faz2jDq5r",
        "outputId": "8c45ff54-f5d5-4b4c-a0b5-3e479e023d04"
      },
      "outputs": [
        {
          "output_type": "stream",
          "name": "stdout",
          "text": [
            "Model: \"sequential\"\n",
            "_________________________________________________________________\n",
            " Layer (type)                Output Shape              Param #   \n",
            "=================================================================\n",
            " dense (Dense)               (None, 8)                 2376      \n",
            "                                                                 \n",
            " dense_1 (Dense)             (None, 33)                297       \n",
            "                                                                 \n",
            "=================================================================\n",
            "Total params: 2,673\n",
            "Trainable params: 2,673\n",
            "Non-trainable params: 0\n",
            "_________________________________________________________________\n"
          ]
        }
      ],
      "source": [
        "from tensorflow.keras.initializers import TruncatedNormal\n",
        "\n",
        "model = tf.keras.models.Sequential()\n",
        "model.add(tf.keras.layers.Dense(8, input_shape=(len(train_x[0]),), activation='relu', kernel_initializer=TruncatedNormal()))\n",
        "model.add(tf.keras.layers.Dense(len(train_y[0]), activation='softmax', kernel_initializer=TruncatedNormal()))\n",
        "\n",
        "# Kompilasi dan summary model\n",
        "model.compile(loss='categorical_crossentropy', optimizer='adam', metrics=['acc'])\n",
        "model.summary()"
      ]
    },
    {
      "cell_type": "code",
      "execution_count": 9,
      "metadata": {
        "colab": {
          "base_uri": "https://localhost:8080/"
        },
        "id": "geNK3KqwDq5s",
        "outputId": "94f44115-298c-41ed-d9d6-3ba407fe243d"
      },
      "outputs": [
        {
          "output_type": "stream",
          "name": "stdout",
          "text": [
            "Melakukan training model.......\n",
            "Epoch 1/200\n",
            "37/37 [==============================] - 1s 2ms/step - loss: 3.4945 - acc: 0.0275\n",
            "Epoch 2/200\n",
            "37/37 [==============================] - 0s 2ms/step - loss: 3.4838 - acc: 0.0962\n",
            "Epoch 3/200\n",
            "37/37 [==============================] - 0s 2ms/step - loss: 3.4668 - acc: 0.1271\n",
            "Epoch 4/200\n",
            "37/37 [==============================] - 0s 2ms/step - loss: 3.4375 - acc: 0.1787\n",
            "Epoch 5/200\n",
            "37/37 [==============================] - 0s 2ms/step - loss: 3.3927 - acc: 0.1924\n",
            "Epoch 6/200\n",
            "37/37 [==============================] - 0s 2ms/step - loss: 3.3322 - acc: 0.2131\n",
            "Epoch 7/200\n",
            "37/37 [==============================] - 0s 2ms/step - loss: 3.2577 - acc: 0.2268\n",
            "Epoch 8/200\n",
            "37/37 [==============================] - 0s 2ms/step - loss: 3.1743 - acc: 0.2234\n",
            "Epoch 9/200\n",
            "37/37 [==============================] - 0s 2ms/step - loss: 3.0859 - acc: 0.2371\n",
            "Epoch 10/200\n",
            "37/37 [==============================] - 0s 2ms/step - loss: 2.9947 - acc: 0.2440\n",
            "Epoch 11/200\n",
            "37/37 [==============================] - 0s 2ms/step - loss: 2.9026 - acc: 0.2612\n",
            "Epoch 12/200\n",
            "37/37 [==============================] - 0s 2ms/step - loss: 2.8092 - acc: 0.2990\n",
            "Epoch 13/200\n",
            "37/37 [==============================] - 0s 2ms/step - loss: 2.7142 - acc: 0.3677\n",
            "Epoch 14/200\n",
            "37/37 [==============================] - 0s 2ms/step - loss: 2.6205 - acc: 0.4124\n",
            "Epoch 15/200\n",
            "37/37 [==============================] - 0s 2ms/step - loss: 2.5246 - acc: 0.4777\n",
            "Epoch 16/200\n",
            "37/37 [==============================] - 0s 2ms/step - loss: 2.4314 - acc: 0.4811\n",
            "Epoch 17/200\n",
            "37/37 [==============================] - 0s 2ms/step - loss: 2.3362 - acc: 0.5189\n",
            "Epoch 18/200\n",
            "37/37 [==============================] - 0s 2ms/step - loss: 2.2450 - acc: 0.5464\n",
            "Epoch 19/200\n",
            "37/37 [==============================] - 0s 2ms/step - loss: 2.1538 - acc: 0.5808\n",
            "Epoch 20/200\n",
            "37/37 [==============================] - 0s 2ms/step - loss: 2.0667 - acc: 0.6117\n",
            "Epoch 21/200\n",
            "37/37 [==============================] - 0s 2ms/step - loss: 1.9814 - acc: 0.6564\n",
            "Epoch 22/200\n",
            "37/37 [==============================] - 0s 2ms/step - loss: 1.9003 - acc: 0.6873\n",
            "Epoch 23/200\n",
            "37/37 [==============================] - 0s 2ms/step - loss: 1.8206 - acc: 0.7216\n",
            "Epoch 24/200\n",
            "37/37 [==============================] - 0s 2ms/step - loss: 1.7450 - acc: 0.7354\n",
            "Epoch 25/200\n",
            "37/37 [==============================] - 0s 2ms/step - loss: 1.6736 - acc: 0.7595\n",
            "Epoch 26/200\n",
            "37/37 [==============================] - 0s 2ms/step - loss: 1.6029 - acc: 0.7766\n",
            "Epoch 27/200\n",
            "37/37 [==============================] - 0s 2ms/step - loss: 1.5375 - acc: 0.7766\n",
            "Epoch 28/200\n",
            "37/37 [==============================] - 0s 2ms/step - loss: 1.4729 - acc: 0.7869\n",
            "Epoch 29/200\n",
            "37/37 [==============================] - 0s 2ms/step - loss: 1.4108 - acc: 0.8007\n",
            "Epoch 30/200\n",
            "37/37 [==============================] - 0s 2ms/step - loss: 1.3542 - acc: 0.8110\n",
            "Epoch 31/200\n",
            "37/37 [==============================] - 0s 2ms/step - loss: 1.2976 - acc: 0.8041\n",
            "Epoch 32/200\n",
            "37/37 [==============================] - 0s 2ms/step - loss: 1.2470 - acc: 0.8179\n",
            "Epoch 33/200\n",
            "37/37 [==============================] - 0s 2ms/step - loss: 1.1960 - acc: 0.8213\n",
            "Epoch 34/200\n",
            "37/37 [==============================] - 0s 2ms/step - loss: 1.1480 - acc: 0.8454\n",
            "Epoch 35/200\n",
            "37/37 [==============================] - 0s 2ms/step - loss: 1.1029 - acc: 0.8488\n",
            "Epoch 36/200\n",
            "37/37 [==============================] - 0s 2ms/step - loss: 1.0584 - acc: 0.8625\n",
            "Epoch 37/200\n",
            "37/37 [==============================] - 0s 2ms/step - loss: 1.0173 - acc: 0.8625\n",
            "Epoch 38/200\n",
            "37/37 [==============================] - 0s 2ms/step - loss: 0.9767 - acc: 0.8763\n",
            "Epoch 39/200\n",
            "37/37 [==============================] - 0s 2ms/step - loss: 0.9397 - acc: 0.8866\n",
            "Epoch 40/200\n",
            "37/37 [==============================] - 0s 2ms/step - loss: 0.9027 - acc: 0.8935\n",
            "Epoch 41/200\n",
            "37/37 [==============================] - 0s 2ms/step - loss: 0.8690 - acc: 0.9003\n",
            "Epoch 42/200\n",
            "37/37 [==============================] - 0s 2ms/step - loss: 0.8356 - acc: 0.9072\n",
            "Epoch 43/200\n",
            "37/37 [==============================] - 0s 2ms/step - loss: 0.8029 - acc: 0.9072\n",
            "Epoch 44/200\n",
            "37/37 [==============================] - 0s 2ms/step - loss: 0.7740 - acc: 0.9141\n",
            "Epoch 45/200\n",
            "37/37 [==============================] - 0s 2ms/step - loss: 0.7447 - acc: 0.9175\n",
            "Epoch 46/200\n",
            "37/37 [==============================] - 0s 2ms/step - loss: 0.7181 - acc: 0.9175\n",
            "Epoch 47/200\n",
            "37/37 [==============================] - 0s 2ms/step - loss: 0.6915 - acc: 0.9175\n",
            "Epoch 48/200\n",
            "37/37 [==============================] - 0s 2ms/step - loss: 0.6659 - acc: 0.9244\n",
            "Epoch 49/200\n",
            "37/37 [==============================] - 0s 2ms/step - loss: 0.6416 - acc: 0.9347\n",
            "Epoch 50/200\n",
            "37/37 [==============================] - 0s 2ms/step - loss: 0.6193 - acc: 0.9416\n",
            "Epoch 51/200\n",
            "37/37 [==============================] - 0s 2ms/step - loss: 0.5960 - acc: 0.9450\n",
            "Epoch 52/200\n",
            "37/37 [==============================] - 0s 2ms/step - loss: 0.5746 - acc: 0.9519\n",
            "Epoch 53/200\n",
            "37/37 [==============================] - 0s 2ms/step - loss: 0.5542 - acc: 0.9519\n",
            "Epoch 54/200\n",
            "37/37 [==============================] - 0s 2ms/step - loss: 0.5342 - acc: 0.9622\n",
            "Epoch 55/200\n",
            "37/37 [==============================] - 0s 2ms/step - loss: 0.5161 - acc: 0.9622\n",
            "Epoch 56/200\n",
            "37/37 [==============================] - 0s 2ms/step - loss: 0.4971 - acc: 0.9656\n",
            "Epoch 57/200\n",
            "37/37 [==============================] - 0s 2ms/step - loss: 0.4802 - acc: 0.9725\n",
            "Epoch 58/200\n",
            "37/37 [==============================] - 0s 2ms/step - loss: 0.4629 - acc: 0.9759\n",
            "Epoch 59/200\n",
            "37/37 [==============================] - 0s 2ms/step - loss: 0.4477 - acc: 0.9828\n",
            "Epoch 60/200\n",
            "37/37 [==============================] - 0s 2ms/step - loss: 0.4321 - acc: 0.9828\n",
            "Epoch 61/200\n",
            "37/37 [==============================] - 0s 2ms/step - loss: 0.4176 - acc: 0.9828\n",
            "Epoch 62/200\n",
            "37/37 [==============================] - 0s 2ms/step - loss: 0.4028 - acc: 0.9794\n",
            "Epoch 63/200\n",
            "37/37 [==============================] - 0s 2ms/step - loss: 0.3905 - acc: 0.9863\n",
            "Epoch 64/200\n",
            "37/37 [==============================] - 0s 2ms/step - loss: 0.3762 - acc: 0.9863\n",
            "Epoch 65/200\n",
            "37/37 [==============================] - 0s 2ms/step - loss: 0.3638 - acc: 0.9828\n",
            "Epoch 66/200\n",
            "37/37 [==============================] - 0s 2ms/step - loss: 0.3525 - acc: 0.9828\n",
            "Epoch 67/200\n",
            "37/37 [==============================] - 0s 2ms/step - loss: 0.3404 - acc: 0.9828\n",
            "Epoch 68/200\n",
            "37/37 [==============================] - 0s 2ms/step - loss: 0.3296 - acc: 0.9828\n",
            "Epoch 69/200\n",
            "37/37 [==============================] - 0s 2ms/step - loss: 0.3191 - acc: 0.9863\n",
            "Epoch 70/200\n",
            "37/37 [==============================] - 0s 2ms/step - loss: 0.3085 - acc: 0.9897\n",
            "Epoch 71/200\n",
            "37/37 [==============================] - 0s 2ms/step - loss: 0.2990 - acc: 0.9931\n",
            "Epoch 72/200\n",
            "37/37 [==============================] - 0s 2ms/step - loss: 0.2894 - acc: 0.9931\n",
            "Epoch 73/200\n",
            "37/37 [==============================] - 0s 2ms/step - loss: 0.2805 - acc: 0.9897\n",
            "Epoch 74/200\n",
            "37/37 [==============================] - 0s 2ms/step - loss: 0.2716 - acc: 0.9897\n",
            "Epoch 75/200\n",
            "37/37 [==============================] - 0s 2ms/step - loss: 0.2633 - acc: 0.9931\n",
            "Epoch 76/200\n",
            "37/37 [==============================] - 0s 2ms/step - loss: 0.2552 - acc: 0.9931\n",
            "Epoch 77/200\n",
            "37/37 [==============================] - 0s 2ms/step - loss: 0.2476 - acc: 0.9931\n",
            "Epoch 78/200\n",
            "37/37 [==============================] - 0s 2ms/step - loss: 0.2399 - acc: 0.9931\n",
            "Epoch 79/200\n",
            "37/37 [==============================] - 0s 2ms/step - loss: 0.2329 - acc: 0.9966\n",
            "Epoch 80/200\n",
            "37/37 [==============================] - 0s 2ms/step - loss: 0.2257 - acc: 0.9966\n",
            "Epoch 81/200\n",
            "37/37 [==============================] - 0s 2ms/step - loss: 0.2191 - acc: 0.9931\n",
            "Epoch 82/200\n",
            "37/37 [==============================] - 0s 2ms/step - loss: 0.2125 - acc: 0.9931\n",
            "Epoch 83/200\n",
            "37/37 [==============================] - 0s 2ms/step - loss: 0.2057 - acc: 0.9931\n",
            "Epoch 84/200\n",
            "37/37 [==============================] - 0s 2ms/step - loss: 0.2001 - acc: 0.9931\n",
            "Epoch 85/200\n",
            "37/37 [==============================] - 0s 2ms/step - loss: 0.1946 - acc: 0.9931\n",
            "Epoch 86/200\n",
            "37/37 [==============================] - 0s 2ms/step - loss: 0.1885 - acc: 0.9931\n",
            "Epoch 87/200\n",
            "37/37 [==============================] - 0s 2ms/step - loss: 0.1832 - acc: 0.9931\n",
            "Epoch 88/200\n",
            "37/37 [==============================] - 0s 2ms/step - loss: 0.1779 - acc: 0.9931\n",
            "Epoch 89/200\n",
            "37/37 [==============================] - 0s 2ms/step - loss: 0.1727 - acc: 0.9931\n",
            "Epoch 90/200\n",
            "37/37 [==============================] - 0s 2ms/step - loss: 0.1680 - acc: 0.9931\n",
            "Epoch 91/200\n",
            "37/37 [==============================] - 0s 2ms/step - loss: 0.1634 - acc: 0.9931\n",
            "Epoch 92/200\n",
            "37/37 [==============================] - 0s 2ms/step - loss: 0.1584 - acc: 0.9931\n",
            "Epoch 93/200\n",
            "37/37 [==============================] - 0s 2ms/step - loss: 0.1541 - acc: 0.9931\n",
            "Epoch 94/200\n",
            "37/37 [==============================] - 0s 2ms/step - loss: 0.1498 - acc: 0.9931\n",
            "Epoch 95/200\n",
            "37/37 [==============================] - 0s 2ms/step - loss: 0.1455 - acc: 0.9931\n",
            "Epoch 96/200\n",
            "37/37 [==============================] - 0s 2ms/step - loss: 0.1416 - acc: 0.9966\n",
            "Epoch 97/200\n",
            "37/37 [==============================] - 0s 2ms/step - loss: 0.1374 - acc: 0.9966\n",
            "Epoch 98/200\n",
            "37/37 [==============================] - 0s 2ms/step - loss: 0.1339 - acc: 0.9966\n",
            "Epoch 99/200\n",
            "37/37 [==============================] - 0s 2ms/step - loss: 0.1305 - acc: 0.9966\n",
            "Epoch 100/200\n",
            "37/37 [==============================] - 0s 2ms/step - loss: 0.1266 - acc: 0.9966\n",
            "Epoch 101/200\n",
            "37/37 [==============================] - 0s 2ms/step - loss: 0.1234 - acc: 0.9966\n",
            "Epoch 102/200\n",
            "37/37 [==============================] - 0s 2ms/step - loss: 0.1199 - acc: 0.9966\n",
            "Epoch 103/200\n",
            "37/37 [==============================] - 0s 2ms/step - loss: 0.1170 - acc: 0.9966\n",
            "Epoch 104/200\n",
            "37/37 [==============================] - 0s 2ms/step - loss: 0.1138 - acc: 0.9966\n",
            "Epoch 105/200\n",
            "37/37 [==============================] - 0s 2ms/step - loss: 0.1108 - acc: 0.9966\n",
            "Epoch 106/200\n",
            "37/37 [==============================] - 0s 2ms/step - loss: 0.1078 - acc: 0.9966\n",
            "Epoch 107/200\n",
            "37/37 [==============================] - 0s 2ms/step - loss: 0.1052 - acc: 0.9966\n",
            "Epoch 108/200\n",
            "37/37 [==============================] - 0s 2ms/step - loss: 0.1025 - acc: 0.9966\n",
            "Epoch 109/200\n",
            "37/37 [==============================] - 0s 2ms/step - loss: 0.0998 - acc: 0.9966\n",
            "Epoch 110/200\n",
            "37/37 [==============================] - 0s 2ms/step - loss: 0.0974 - acc: 0.9966\n",
            "Epoch 111/200\n",
            "37/37 [==============================] - 0s 2ms/step - loss: 0.0949 - acc: 0.9966\n",
            "Epoch 112/200\n",
            "37/37 [==============================] - 0s 2ms/step - loss: 0.0929 - acc: 0.9966\n",
            "Epoch 113/200\n",
            "37/37 [==============================] - 0s 2ms/step - loss: 0.0901 - acc: 0.9966\n",
            "Epoch 114/200\n",
            "37/37 [==============================] - 0s 2ms/step - loss: 0.0877 - acc: 0.9966\n",
            "Epoch 115/200\n",
            "37/37 [==============================] - 0s 2ms/step - loss: 0.0859 - acc: 0.9966\n",
            "Epoch 116/200\n",
            "37/37 [==============================] - 0s 2ms/step - loss: 0.0834 - acc: 0.9966\n",
            "Epoch 117/200\n",
            "37/37 [==============================] - 0s 3ms/step - loss: 0.0815 - acc: 0.9966\n",
            "Epoch 118/200\n",
            "37/37 [==============================] - 0s 3ms/step - loss: 0.0793 - acc: 0.9966\n",
            "Epoch 119/200\n",
            "37/37 [==============================] - 0s 2ms/step - loss: 0.0776 - acc: 0.9966\n",
            "Epoch 120/200\n",
            "37/37 [==============================] - 0s 3ms/step - loss: 0.0756 - acc: 0.9966\n",
            "Epoch 121/200\n",
            "37/37 [==============================] - 0s 3ms/step - loss: 0.0739 - acc: 0.9966\n",
            "Epoch 122/200\n",
            "37/37 [==============================] - 0s 3ms/step - loss: 0.0720 - acc: 0.9966\n",
            "Epoch 123/200\n",
            "37/37 [==============================] - 0s 3ms/step - loss: 0.0701 - acc: 0.9966\n",
            "Epoch 124/200\n",
            "37/37 [==============================] - 0s 3ms/step - loss: 0.0686 - acc: 0.9966\n",
            "Epoch 125/200\n",
            "37/37 [==============================] - 0s 2ms/step - loss: 0.0668 - acc: 0.9966\n",
            "Epoch 126/200\n",
            "37/37 [==============================] - 0s 3ms/step - loss: 0.0654 - acc: 0.9966\n",
            "Epoch 127/200\n",
            "37/37 [==============================] - 0s 3ms/step - loss: 0.0639 - acc: 0.9966\n",
            "Epoch 128/200\n",
            "37/37 [==============================] - 0s 3ms/step - loss: 0.0623 - acc: 0.9966\n",
            "Epoch 129/200\n",
            "37/37 [==============================] - 0s 3ms/step - loss: 0.0612 - acc: 0.9966\n",
            "Epoch 130/200\n",
            "37/37 [==============================] - 0s 2ms/step - loss: 0.0595 - acc: 0.9966\n",
            "Epoch 131/200\n",
            "37/37 [==============================] - 0s 2ms/step - loss: 0.0582 - acc: 0.9966\n",
            "Epoch 132/200\n",
            "37/37 [==============================] - 0s 3ms/step - loss: 0.0569 - acc: 0.9966\n",
            "Epoch 133/200\n",
            "37/37 [==============================] - 0s 2ms/step - loss: 0.0556 - acc: 0.9966\n",
            "Epoch 134/200\n",
            "37/37 [==============================] - 0s 3ms/step - loss: 0.0544 - acc: 0.9966\n",
            "Epoch 135/200\n",
            "37/37 [==============================] - 0s 2ms/step - loss: 0.0533 - acc: 0.9966\n",
            "Epoch 136/200\n",
            "37/37 [==============================] - 0s 2ms/step - loss: 0.0519 - acc: 0.9966\n",
            "Epoch 137/200\n",
            "37/37 [==============================] - 0s 2ms/step - loss: 0.0507 - acc: 0.9966\n",
            "Epoch 138/200\n",
            "37/37 [==============================] - 0s 2ms/step - loss: 0.0497 - acc: 0.9966\n",
            "Epoch 139/200\n",
            "37/37 [==============================] - 0s 3ms/step - loss: 0.0486 - acc: 0.9966\n",
            "Epoch 140/200\n",
            "37/37 [==============================] - 0s 3ms/step - loss: 0.0475 - acc: 0.9966\n",
            "Epoch 141/200\n",
            "37/37 [==============================] - 0s 3ms/step - loss: 0.0464 - acc: 0.9966\n",
            "Epoch 142/200\n",
            "37/37 [==============================] - 0s 3ms/step - loss: 0.0454 - acc: 0.9966\n",
            "Epoch 143/200\n",
            "37/37 [==============================] - 0s 2ms/step - loss: 0.0445 - acc: 0.9966\n",
            "Epoch 144/200\n",
            "37/37 [==============================] - 0s 3ms/step - loss: 0.0434 - acc: 0.9966\n",
            "Epoch 145/200\n",
            "37/37 [==============================] - 0s 3ms/step - loss: 0.0425 - acc: 0.9966\n",
            "Epoch 146/200\n",
            "37/37 [==============================] - 0s 3ms/step - loss: 0.0415 - acc: 0.9966\n",
            "Epoch 147/200\n",
            "37/37 [==============================] - 0s 3ms/step - loss: 0.0408 - acc: 0.9966\n",
            "Epoch 148/200\n",
            "37/37 [==============================] - 0s 2ms/step - loss: 0.0398 - acc: 0.9966\n",
            "Epoch 149/200\n",
            "37/37 [==============================] - 0s 2ms/step - loss: 0.0389 - acc: 0.9966\n",
            "Epoch 150/200\n",
            "37/37 [==============================] - 0s 2ms/step - loss: 0.0381 - acc: 0.9966\n",
            "Epoch 151/200\n",
            "37/37 [==============================] - 0s 2ms/step - loss: 0.0375 - acc: 0.9966\n",
            "Epoch 152/200\n",
            "37/37 [==============================] - 0s 2ms/step - loss: 0.0368 - acc: 0.9966\n",
            "Epoch 153/200\n",
            "37/37 [==============================] - 0s 2ms/step - loss: 0.0358 - acc: 0.9966\n",
            "Epoch 154/200\n",
            "37/37 [==============================] - 0s 2ms/step - loss: 0.0351 - acc: 0.9966\n",
            "Epoch 155/200\n",
            "37/37 [==============================] - 0s 2ms/step - loss: 0.0342 - acc: 0.9966\n",
            "Epoch 156/200\n",
            "37/37 [==============================] - 0s 2ms/step - loss: 0.0337 - acc: 0.9966\n",
            "Epoch 157/200\n",
            "37/37 [==============================] - 0s 2ms/step - loss: 0.0329 - acc: 0.9966\n",
            "Epoch 158/200\n",
            "37/37 [==============================] - 0s 2ms/step - loss: 0.0322 - acc: 0.9966\n",
            "Epoch 159/200\n",
            "37/37 [==============================] - 0s 2ms/step - loss: 0.0315 - acc: 0.9966\n",
            "Epoch 160/200\n",
            "37/37 [==============================] - 0s 2ms/step - loss: 0.0309 - acc: 0.9966\n",
            "Epoch 161/200\n",
            "37/37 [==============================] - 0s 2ms/step - loss: 0.0302 - acc: 0.9966\n",
            "Epoch 162/200\n",
            "37/37 [==============================] - 0s 2ms/step - loss: 0.0297 - acc: 0.9966\n",
            "Epoch 163/200\n",
            "37/37 [==============================] - 0s 2ms/step - loss: 0.0289 - acc: 0.9966\n",
            "Epoch 164/200\n",
            "37/37 [==============================] - 0s 2ms/step - loss: 0.0285 - acc: 0.9966\n",
            "Epoch 165/200\n",
            "37/37 [==============================] - 0s 2ms/step - loss: 0.0277 - acc: 0.9966\n",
            "Epoch 166/200\n",
            "37/37 [==============================] - 0s 2ms/step - loss: 0.0272 - acc: 1.0000\n",
            "Epoch 167/200\n",
            "37/37 [==============================] - 0s 2ms/step - loss: 0.0267 - acc: 0.9966\n",
            "Epoch 168/200\n",
            "37/37 [==============================] - 0s 2ms/step - loss: 0.0263 - acc: 1.0000\n",
            "Epoch 169/200\n",
            "37/37 [==============================] - 0s 2ms/step - loss: 0.0255 - acc: 1.0000\n",
            "Epoch 170/200\n",
            "37/37 [==============================] - 0s 2ms/step - loss: 0.0250 - acc: 1.0000\n",
            "Epoch 171/200\n",
            "37/37 [==============================] - 0s 2ms/step - loss: 0.0246 - acc: 1.0000\n",
            "Epoch 172/200\n",
            "37/37 [==============================] - 0s 2ms/step - loss: 0.0241 - acc: 1.0000\n",
            "Epoch 173/200\n",
            "37/37 [==============================] - 0s 2ms/step - loss: 0.0237 - acc: 1.0000\n",
            "Epoch 174/200\n",
            "37/37 [==============================] - 0s 2ms/step - loss: 0.0231 - acc: 1.0000\n",
            "Epoch 175/200\n",
            "37/37 [==============================] - 0s 2ms/step - loss: 0.0227 - acc: 1.0000\n",
            "Epoch 176/200\n",
            "37/37 [==============================] - 0s 2ms/step - loss: 0.0222 - acc: 1.0000\n",
            "Epoch 177/200\n",
            "37/37 [==============================] - 0s 2ms/step - loss: 0.0218 - acc: 1.0000\n",
            "Epoch 178/200\n",
            "37/37 [==============================] - 0s 2ms/step - loss: 0.0214 - acc: 1.0000\n",
            "Epoch 179/200\n",
            "37/37 [==============================] - 0s 2ms/step - loss: 0.0208 - acc: 1.0000\n",
            "Epoch 180/200\n",
            "37/37 [==============================] - 0s 2ms/step - loss: 0.0205 - acc: 1.0000\n",
            "Epoch 181/200\n",
            "37/37 [==============================] - 0s 2ms/step - loss: 0.0201 - acc: 1.0000\n",
            "Epoch 182/200\n",
            "37/37 [==============================] - 0s 2ms/step - loss: 0.0197 - acc: 1.0000\n",
            "Epoch 183/200\n",
            "37/37 [==============================] - 0s 2ms/step - loss: 0.0193 - acc: 1.0000\n",
            "Epoch 184/200\n",
            "37/37 [==============================] - 0s 2ms/step - loss: 0.0189 - acc: 1.0000\n",
            "Epoch 185/200\n",
            "37/37 [==============================] - 0s 2ms/step - loss: 0.0185 - acc: 1.0000\n",
            "Epoch 186/200\n",
            "37/37 [==============================] - 0s 2ms/step - loss: 0.0182 - acc: 1.0000\n",
            "Epoch 187/200\n",
            "37/37 [==============================] - 0s 2ms/step - loss: 0.0178 - acc: 1.0000\n",
            "Epoch 188/200\n",
            "37/37 [==============================] - 0s 2ms/step - loss: 0.0178 - acc: 1.0000\n",
            "Epoch 189/200\n",
            "37/37 [==============================] - 0s 2ms/step - loss: 0.0171 - acc: 1.0000\n",
            "Epoch 190/200\n",
            "37/37 [==============================] - 0s 2ms/step - loss: 0.0167 - acc: 1.0000\n",
            "Epoch 191/200\n",
            "37/37 [==============================] - 0s 2ms/step - loss: 0.0164 - acc: 1.0000\n",
            "Epoch 192/200\n",
            "37/37 [==============================] - 0s 2ms/step - loss: 0.0161 - acc: 1.0000\n",
            "Epoch 193/200\n",
            "37/37 [==============================] - 0s 2ms/step - loss: 0.0158 - acc: 1.0000\n",
            "Epoch 194/200\n",
            "37/37 [==============================] - 0s 2ms/step - loss: 0.0155 - acc: 1.0000\n",
            "Epoch 195/200\n",
            "37/37 [==============================] - 0s 2ms/step - loss: 0.0151 - acc: 1.0000\n",
            "Epoch 196/200\n",
            "37/37 [==============================] - 0s 2ms/step - loss: 0.0149 - acc: 1.0000\n",
            "Epoch 197/200\n",
            "37/37 [==============================] - 0s 2ms/step - loss: 0.0146 - acc: 1.0000\n",
            "Epoch 198/200\n",
            "37/37 [==============================] - 0s 2ms/step - loss: 0.0143 - acc: 1.0000\n",
            "Epoch 199/200\n",
            "37/37 [==============================] - 0s 2ms/step - loss: 0.0140 - acc: 1.0000\n",
            "Epoch 200/200\n",
            "37/37 [==============================] - 0s 2ms/step - loss: 0.0138 - acc: 1.0000\n"
          ]
        },
        {
          "output_type": "execute_result",
          "data": {
            "text/plain": [
              "<keras.callbacks.History at 0x7f6b69b5afe0>"
            ]
          },
          "metadata": {},
          "execution_count": 9
        }
      ],
      "source": [
        "print(\"Melakukan training model.......\")\n",
        "# Ensure the input shape matches the number of input features\n",
        "\n",
        "model.fit(train_x, train_y, batch_size=8, epochs=200)"
      ]
    },
    {
      "cell_type": "code",
      "execution_count": 10,
      "metadata": {
        "colab": {
          "base_uri": "https://localhost:8080/"
        },
        "id": "NhUjpazdDq5s",
        "outputId": "10f668a0-951c-4602-cd66-50c051fd03a4"
      },
      "outputs": [
        {
          "output_type": "stream",
          "name": "stdout",
          "text": [
            "Melakukan save model.......\n",
            "Melakukan save pickle..........\n"
          ]
        }
      ],
      "source": [
        "# Menyimpan model dan pickle\n",
        "print(\"Melakukan save model.......\")\n",
        "model.save('model.h5')\n",
        "\n",
        "print(\"Melakukan save pickle..........\")\n",
        "pickle.dump( {'words':words, 'classes':classes, 'train_x':train_x, 'train_y':train_y}, open( \"training_data\", \"wb\" ) )"
      ]
    },
    {
      "cell_type": "markdown",
      "metadata": {
        "id": "CTxwkrtPtbUE"
      },
      "source": [
        "#Preprocessing input data dari user"
      ]
    },
    {
      "cell_type": "code",
      "execution_count": 11,
      "metadata": {
        "colab": {
          "base_uri": "https://localhost:8080/"
        },
        "id": "nrYSvaxNDq5s",
        "outputId": "2afdba9a-0b09-46a0-9f86-86a504cf018c"
      },
      "outputs": [
        {
          "output_type": "stream",
          "name": "stdout",
          "text": [
            "Melakukan load pickle.....\n",
            "Melakukan load model......\n"
          ]
        }
      ],
      "source": [
        "# Melakukan loading pickle\n",
        "print(\"Melakukan load pickle.....\")\n",
        "data = pickle.load( open( \"training_data\", \"rb\" ) )\n",
        "words = data['words']\n",
        "classes = data['classes']\n",
        "train_x = data['train_x']\n",
        "train_y = data['train_y']\n",
        "\n",
        "\n",
        "with open('dataset/intents.json') as json_data:\n",
        "    intents = json.load(json_data)\n",
        "\n",
        "print(\"Melakukan load model......\")\n",
        "# Melakukan loading model\n",
        "model = tf.keras.models.load_model('./model.h5')"
      ]
    },
    {
      "cell_type": "code",
      "execution_count": 12,
      "metadata": {
        "id": "DSUfh6xdDq5s"
      },
      "outputs": [],
      "source": [
        "def clean_up_sentence(sentence):\n",
        "    # Melakukan tokenisasi dan stemming\n",
        "    sentence_words = nltk.word_tokenize(sentence)\n",
        "    sentence_words = [stemmer.stem(word.lower()) for word in sentence_words]\n",
        "    return sentence_words\n",
        "\n",
        "# Me-return array Bag of Words: True atau False dan 0 atau 1 untuk setiap kata di Bag of Words yang ada di kalimat user\n",
        "def bow(sentence, words, show_details=False):\n",
        "    sentence_words = clean_up_sentence(sentence)\n",
        "    bag = [0] * len(words)\n",
        "    for s in sentence_words:\n",
        "        for i, w in enumerate(words):\n",
        "            if w == s:\n",
        "                bag[i] = 1\n",
        "                if show_details:\n",
        "                    print(\"found in bag: %s\" % w)\n",
        "    return np.array(bag).reshape(1, -1)  # Reshape to (1, num_features)\n",
        "\n",
        "#Probabilitas maksimum untuk dihapus dari hasil\n",
        "ERROR_THRESHOLD = 0.25\n",
        "\n",
        "def classify(sentence):\n",
        "    # Melakukan prediksi menggunakan model\n",
        "    results = model.predict([bow(sentence, words)])[0]\n",
        "    # Menghapus hasil yang dibawah treshhold\n",
        "    results = [[i,r] for i,r in enumerate(results) if r>ERROR_THRESHOLD]\n",
        "    # Mengsortir model berdasarkan probabilitas tertinggi\n",
        "    results.sort(key=lambda x: x[1], reverse=True)\n",
        "    return_list = []\n",
        "    for r in results:\n",
        "        return_list.append((classes[r[0]], r[1])) #Tuppl -> Intent and Probability\n",
        "    return return_list\n",
        "\n",
        "def response(sentence, userID='123', show_details=False):\n",
        "    results = classify(sentence)\n",
        "    # Menyesuaikan tag yang cocok\n",
        "    if results:\n",
        "        while results:\n",
        "            for i in intents['intents']:\n",
        "                if i['tag'] == results[0][0]:\n",
        "                    # Mengacak response\n",
        "                    return print(random.choice(i['responses']))\n",
        "\n",
        "            results.pop(0)"
      ]
    },
    {
      "cell_type": "markdown",
      "metadata": {
        "id": "R784CgTqtbUE"
      },
      "source": [
        "#Pengujian Model"
      ]
    },
    {
      "cell_type": "code",
      "execution_count": 13,
      "metadata": {
        "colab": {
          "base_uri": "https://localhost:8080/"
        },
        "id": "RyFGkh9BDq5s",
        "outputId": "9ba96973-e65d-4e4d-c658-8007d0751dc6"
      },
      "outputs": [
        {
          "name": "stdout",
          "output_type": "stream",
          "text": [
            "You- Hai\n",
            "1/1 [==============================] - 0s 80ms/step\n",
            "Halo, Selamat datang di JasaIn Chatbot!. Jika kamu mempunyai kendala, silahkan deskripsikan kendalamu ya!\n",
            "You- Bye\n",
            "1/1 [==============================] - 0s 24ms/step\n",
            "Sama-sama, Senang Bisa membantu!, Terimakasih telah menghubungi kami\n",
            "You- AC rusak\n",
            "1/1 [==============================] - 0s 20ms/step\n",
            "Kerusakan pada AC dapat disebabkan oleh hal antara lain, part yang tidak dibersihkan, freon habis, bocor, kompresor rusak.\n",
            "You- Laptop layar\n",
            "1/1 [==============================] - 0s 21ms/step\n",
            "Jika layar laptop tidak menyala atau tetap hitam, periksa kabel konektor layar dan pastikan tidak ada masalah dengan inverter backlight. Jika masih tidak berhasil, ada kemungkinan kerusakan pada panel layar dan perlu diperbaiki oleh teknisi.\n",
            "You- Merek AC\n",
            "1/1 [==============================] - 0s 36ms/step\n",
            "Menurut Tokopedia, merek AC yang terbaik antara lain adalah Daikin, Sharp, Panasonic, Gree, LG, Samsung, AUX, Changhong, Mitshubishi, Denpoo, Midea, Akari, Polytron.\n",
            "You- Bye\n",
            "1/1 [==============================] - 0s 21ms/step\n",
            "Sama-sama, Senang Bisa membantu!, Terimakasih telah menghubungi kami\n",
            "You- exit\n"
          ]
        }
      ],
      "source": [
        "while True:\n",
        "    input_data = input(\"You- \")\n",
        "    if input_data.lower() in ['exit', 'selamat tinggal']:\n",
        "        break\n",
        "    else:\n",
        "        answer = response(input_data)"
      ]
    },
    {
      "cell_type": "markdown",
      "metadata": {
        "id": "o0Z_NpJptbUE"
      },
      "source": [
        "#Konversi TFLite"
      ]
    },
    {
      "cell_type": "code",
      "execution_count": 16,
      "metadata": {
        "colab": {
          "base_uri": "https://localhost:8080/"
        },
        "id": "uh_tqHtADq5s",
        "outputId": "8043c216-6778-45e4-d6ca-10ab9a9c5f9a"
      },
      "outputs": [
        {
          "output_type": "stream",
          "name": "stderr",
          "text": [
            "WARNING:absl:Found untraced functions such as _update_step_xla while saving (showing 1 of 1). These functions will not be directly callable after loading.\n"
          ]
        }
      ],
      "source": [
        "# Konversi .h5 model menjadi TFLite model\n",
        "converter = tf.lite.TFLiteConverter.from_keras_model(model)\n",
        "tflite_model = converter.convert()\n",
        "\n",
        "# Melakukan save TFLite model\n",
        "with open('model.tflite', 'wb') as f:\n",
        "    f.write(tflite_model)"
      ]
    }
  ],
  "metadata": {
    "colab": {
      "provenance": []
    },
    "kernelspec": {
      "display_name": "Python 3 (ipykernel)",
      "language": "python",
      "name": "python3"
    },
    "language_info": {
      "codemirror_mode": {
        "name": "ipython",
        "version": 3
      },
      "file_extension": ".py",
      "mimetype": "text/x-python",
      "name": "python",
      "nbconvert_exporter": "python",
      "pygments_lexer": "ipython3",
      "version": "3.10.9"
    }
  },
  "nbformat": 4,
  "nbformat_minor": 0
}