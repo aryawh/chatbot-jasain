{
  "cells": [
    {
      "cell_type": "markdown",
      "metadata": {
        "id": "L-v8I07ttbT_"
      },
      "source": [
        "#Mengimpor Library"
      ]
    },
    {
      "cell_type": "markdown",
      "metadata": {
        "id": "F-CpPcTbieOK"
      },
      "source": [
        "Library yang digunakan untuk pembuatan model NLP (Natural Language Processing) adalah Numpy, Tensorflow, Random dan NTLK.\n",
        "\n",
        "NLTK merupakan salah satu library tokenizer yang memiliki function 'stemming', yang dapat mengolah kata berimbuhan dan kompleks menjadi kata dasar.\n",
        "\n",
        "Library pendukung lainnya adalah JSON, Pickle, Warnings dan Curses."
      ]
    },
    {
      "cell_type": "code",
      "execution_count": 1,
      "metadata": {
        "colab": {
          "base_uri": "https://localhost:8080/"
        },
        "id": "zA5AOIYgEcOz",
        "outputId": "8e352c60-4800-484c-a9d4-a6cf92549edd"
      },
      "outputs": [
        {
          "output_type": "stream",
          "name": "stderr",
          "text": [
            "[nltk_data] Downloading package punkt to /root/nltk_data...\n",
            "[nltk_data]   Unzipping tokenizers/punkt.zip.\n"
          ]
        }
      ],
      "source": [
        "# Library untuk Model\n",
        "import numpy as np\n",
        "import tensorflow as tf\n",
        "import random\n",
        "\n",
        "# Kontekstualisasi dan pekerjaan NLP\n",
        "import nltk\n",
        "nltk.download('punkt')\n",
        "from nltk.stem.lancaster import LancasterStemmer\n",
        "stemmer = LancasterStemmer()\n",
        "\n",
        "# Library pendukung\n",
        "import json\n",
        "import pickle\n",
        "import warnings\n",
        "import curses\n",
        "\n",
        "warnings.filterwarnings(\"ignore\")"
      ]
    },
    {
      "cell_type": "code",
      "execution_count": 2,
      "metadata": {
        "colab": {
          "base_uri": "https://localhost:8080/"
        },
        "id": "Omynb_miDq5q",
        "outputId": "9f6bfa81-973d-4c2d-fd8a-1c6f120280ac"
      },
      "outputs": [
        {
          "output_type": "stream",
          "name": "stdout",
          "text": [
            "2.12.0\n"
          ]
        }
      ],
      "source": [
        "# Mengecek versi Tensorflow\n",
        "print(tf. __version__)"
      ]
    },
    {
      "cell_type": "markdown",
      "metadata": {
        "id": "oj_cu8RbtbUC"
      },
      "source": [
        "#Pengolahan Dataset"
      ]
    },
    {
      "cell_type": "markdown",
      "metadata": {
        "id": "Nw1sNFb2ieOM"
      },
      "source": [
        "Dataset yang digunakan bernama 'intents.json' karena dataset tersebut memiliki data-data yang sudah dilabel (supervised) dengan tagnya masing-masing.\n",
        "Di dalam 'intents.json' terdapat array 'tag', 'patterns', dan 'responses'.\n",
        "\n",
        "'tag' merupakan label dari suatu percakapan.\n",
        "'patterns' merupakan contoh kalimat yang digunakan untuk memprediksi percakapan tersebut.\n",
        "'responses' merupakan kalimat jadi yang dikirim oleh Chatbot JasaIn secara acak. (Bila terdapat lebih dari satu response)\n",
        "\n",
        "Setelah diload, dataset response tersebut diolah ke tokenizer sesuai tagnya masing-masing.\n",
        "Kemudian, kata-kata diubah menjadi kata dasar, huruf kecil, dan dihapus duplikatnya."
      ]
    },
    {
      "cell_type": "code",
      "execution_count": 3,
      "metadata": {
        "colab": {
          "base_uri": "https://localhost:8080/"
        },
        "id": "Zf6gQvaIDq5q",
        "outputId": "83fbc64f-14a3-4f1c-f581-6ce5d2ff2d2f"
      },
      "outputs": [
        {
          "output_type": "stream",
          "name": "stdout",
          "text": [
            "Memproses dataset intents.....\n"
          ]
        }
      ],
      "source": [
        "print(\"Memproses dataset intents.....\")\n",
        "with open('./dataset/intents.json') as json_data:\n",
        "    intents = json.load(json_data)"
      ]
    },
    {
      "cell_type": "code",
      "execution_count": 4,
      "metadata": {
        "colab": {
          "base_uri": "https://localhost:8080/"
        },
        "id": "_pLvzIE9Dq5q",
        "outputId": "409472b2-ae4e-4113-e47b-ed60ffcf0cff"
      },
      "outputs": [
        {
          "output_type": "stream",
          "name": "stdout",
          "text": [
            "Mengiterasi isi dataset untuk mengubahnya menjadi words, class, documents, dan ignore_words.......\n"
          ]
        }
      ],
      "source": [
        "words = []\n",
        "classes = []\n",
        "documents = []\n",
        "ignore_words = ['?']\n",
        "print(\"Mengiterasi isi dataset untuk mengubahnya menjadi words, class, documents, dan ignore_words.......\")\n",
        "for intent in intents['intents']:\n",
        "    for pattern in intent['patterns']:\n",
        "        # Tokenisasi tiap kata dalam kalimat\n",
        "        w = nltk.word_tokenize(pattern)\n",
        "        # Menambah kata ke dalam array words\n",
        "        words.extend(w)\n",
        "        # Menambah dokumen ke dalam korpus (pelatihan/uji)\n",
        "        documents.append((w, intent['tag']))\n",
        "        # Menambah tag ke dalam array class\n",
        "        if intent['tag'] not in classes:\n",
        "            classes.append(intent['tag'])"
      ]
    },
    {
      "cell_type": "code",
      "execution_count": 5,
      "metadata": {
        "colab": {
          "base_uri": "https://localhost:8080/"
        },
        "id": "aNsucHOlDq5q",
        "outputId": "0630cdf7-a845-42e4-d270-b077df6f7234"
      },
      "outputs": [
        {
          "output_type": "stream",
          "name": "stdout",
          "text": [
            "Meng-stemming, menggunakan huruf kecil dan menghapus duplikat kata.......\n",
            "291 documents\n",
            "33 classes ['ac_arti', 'ac_bocor', 'ac_freon', 'ac_kompresor', 'ac_kotor', 'ac_merek', 'ac_rusak', 'complaint', 'create_account', 'hp_baterai', 'hp_bluetooth', 'hp_bootlop', 'hp_iccharger', 'hp_lcd', 'hp_overheat', 'hp_wifi', 'laptop_audio_problems', 'laptop_battery_issues', 'laptop_blue_screen', 'laptop_charging_issues', 'laptop_driver_errors', 'laptop_hard_drive_failure', 'laptop_keyboard_not_working', 'laptop_overheating', 'laptop_screen_flickering', 'laptop_screen_problems', 'laptop_slow_performance', 'laptop_startup_issues', 'laptop_usb_port_issues', 'laptop_virus_infection', 'laptop_wifi_issues', 'penutup', 'salam']\n",
            "296 unique stemmed words [',', 'ac', 'ad', 'adalah', 'adapt', 'admin', 'air', 'ak', 'aku', 'akun', 'ap', 'aplikas', 'artiny', 'assalamualaik', 'ata', 'bag', 'bagaiman', 'bantuanny', 'banyak', 'baru', 'bat', 'batera', 'baterainy', 'bau', 'beberap', 'bengkak', 'berair', 'berfungs', 'berkedip', 'berkedip-kedip', 'berkurang', 'bermasalah', 'bersih', 'bertah', 'bertambah', 'berubah', 'biru', 'bis', 'bisakah', 'blank', 'blu', 'bluetoo', 'bluetoothny', 'blutut', 'boc', 'boot', 'butuh', 'bye', 'car', 'cas', 'casanny', 'cep', 'charg', 'chatbot', 'colok', 'cum', 'dan', 'dap', 'dar', 'day', 'definis', 'deng', 'di', 'dibersihk', 'dica', 'dicharg', 'digunak', 'dihidupk', 'dihubungk', 'diis', 'dinyalain', 'dinyalak', 'dipencet', 'diperbaik', 'disentuh', 'diskny', 'ditek', 'drast', 'driv', 'engg', 'er', 'freon', 'ga', 'gabis', 'gak', 'gamb', 'gampang', 'gant', 'gelap', 'gk', 'gua', 'gue', 'hab', 'hai', 'hallo', 'halo', 'handphon', 'hang', 'hany', 'hard', 'hdd', 'hei', 'hitam', 'hp', 'hpku', 'in', 'indik', 'ingin', 'internet', 'itu', 'jar', 'jatuh', 'kadang-kadang', 'kalau', 'kamu', 'karen', 'kasih', 'ke', 'kelu', 'keluh', 'kenak', 'kenap', 'kendal', 'kepanas', 'kepanjanganny', 'kerusak', 'kesalah', 'keyboard', 'keyboardny', 'kinerj', 'kompres', 'kompresorny', 'konek', 'koneks', 'kot', 'kualitasny', 'lag', 'lalu', 'lam', 'lamb', 'laptony', 'laptop', 'laptopku', 'laptopny', 'lay', 'lcd', 'lemot', 'logo', 'luar', 'makas', 'makasih', 'malah', 'malam', 'malem', 'malw', 'masalah', 'masih', 'masuk', 'mat', 'mau', 'membu', 'membuk', 'menampilk', 'mendapatk', 'mendeteks', 'menemuk', 'menet', 'mengajuk', 'mengaks', 'mengalam', 'mengap', 'mengeluark', 'menghap', 'menghidupk', 'menghubungk', 'menginst', 'mengis', 'meningkatk', 'menjad', 'menurun', 'menyal', 'menyalak', 'merek', 'merespon', 'min', 'mudah', 'munc', 'nambah', 'nge', 'ngeca', 'norm', 'notifikas', 'nyal', 'nyalain', 'nyambung', 'ok', 'oleh', 'operas', 'outdo', 'overh', 'pad', 'padah', 'pag', 'pana', 'pemaka', 'pembaru', 'peng', 'pengert', 'perangk', 'perbaik', 'perform', 'perlu', 'pers', 'persentas', 'pes', 'ponsel', 'port', 'puny', 'put', 'putus-put', 'respons', 'ridak', 'rusak', 'saat', 'saj', 'sam', 'sang', 'say', 'screen', 'sekal', 'selalu', 'selam', 'sendir', 'ser', 'serang', 'setelah', 'siang', 'singk', 'siny', 'sistem', 'sor', 'speak', 'startup', 'stuck', 'suar', 'sudah', 'suhu', 'suk', 'sulit', 'sya', 'tampil', 'tap', 'tem', 'tenkyu', 'tentang', 'ter', 'terdeng', 'terdeteks', 'terdistors', 'terhubung', 'terim', 'terimakasih', 'terimaksih', 'terinfeks', 'teris', 'terken', 'terlalu', 'terput', 'tetap', 'thank', 'thx', 'tib', 'tiba-tib', 'tidak', 'tingg', 'tombol', 'tombolny', 'tot', 'touchscreen', 'trim', 'ty', 'tysm', 'ui', 'unit', 'untukku', 'usb', 'uyy', 'vir', 'warn', 'wi-f', 'wif', 'wifiny', 'window', 'ya', 'yang', 'you']\n"
          ]
        }
      ],
      "source": [
        "print(\"Meng-stemming, menggunakan huruf kecil dan menghapus duplikat kata.......\")\n",
        "words = [stemmer.stem(w.lower()) for w in words if w not in ignore_words]\n",
        "words = sorted(list(set(words)))\n",
        "\n",
        "classes = sorted(list(set(classes)))\n",
        "\n",
        "print (len(documents), \"documents\")\n",
        "print (len(classes), \"classes\", classes)\n",
        "print (len(words), \"unique stemmed words\", words)"
      ]
    },
    {
      "cell_type": "markdown",
      "metadata": {
        "id": "jKq_jyZJieON"
      },
      "source": [
        "Bag of Words merupakan transformasi teks menjadi bilangan biner yang dapat digunakan oleh model training."
      ]
    },
    {
      "cell_type": "code",
      "execution_count": 6,
      "metadata": {
        "colab": {
          "base_uri": "https://localhost:8080/"
        },
        "id": "6xuMAP5HDq5r",
        "outputId": "9ca92af0-f707-4d18-ed83-e8c1cb454ae1"
      },
      "outputs": [
        {
          "output_type": "stream",
          "name": "stdout",
          "text": [
            "Membuat data untuk model.....\n",
            "Membuat list kosong untuk output.....\n",
            "Membuat training set dan Bag of Words ....\n"
          ]
        }
      ],
      "source": [
        "print(\"Membuat data untuk model.....\")\n",
        "training = []\n",
        "output = []\n",
        "print(\"Membuat list kosong untuk output.....\")\n",
        "output_empty = [0] * len(classes)\n",
        "\n",
        "print(\"Membuat training set dan Bag of Words ....\")\n",
        "for doc in documents:\n",
        "    # Inisialisasi Bag of Words\n",
        "    bag = []\n",
        "    # Daftar kata-kata yang ditokenisasi untuk pattern\n",
        "    pattern_words = doc[0]\n",
        "    # Stem setiap kata\n",
        "    pattern_words = [stemmer.stem(word.lower()) for word in pattern_words]\n",
        "    # Membuat array Bag of Words\n",
        "    for w in words:\n",
        "        bag.append(1) if w in pattern_words else bag.append(0)\n",
        "\n",
        "    # Outputnya '0' untuk setiap tag dan '1' untuk tag saat ini\n",
        "    output_row = list(output_empty)\n",
        "    output_row[classes.index(doc[1])] = 1\n",
        "\n",
        "    training.append([bag, output_row])"
      ]
    },
    {
      "cell_type": "markdown",
      "metadata": {
        "id": "b2T7gOkTtbUD"
      },
      "source": [
        "#Membuat Training Set"
      ]
    },
    {
      "cell_type": "markdown",
      "metadata": {
        "id": "wC_OZTluieOO"
      },
      "source": [
        "Sebelum menggunakan dataset untuk training, dataset diacak terlebih dahulu dan diubah menjadi numpy array agar training lebih cepat."
      ]
    },
    {
      "cell_type": "code",
      "execution_count": 7,
      "metadata": {
        "colab": {
          "base_uri": "https://localhost:8080/"
        },
        "id": "tkA6Za2qDq5r",
        "outputId": "f9860be5-93a0-43ee-bb82-2107a3c7e6f6"
      },
      "outputs": [
        {
          "output_type": "stream",
          "name": "stdout",
          "text": [
            "Mengacak dan mengubah menjadi numpy array untuk pemrosesan yang lebih cepat......\n",
            "Membuat list train.....\n",
            "Shape train_x: (291, 296)\n",
            "Shape train_y: (291, 33)\n"
          ]
        }
      ],
      "source": [
        "print(\"Mengacak dan mengubah menjadi numpy array untuk pemrosesan yang lebih cepat......\")\n",
        "random.shuffle(training)\n",
        "training = np.array(training)\n",
        "\n",
        "print(\"Membuat list train.....\")\n",
        "train_x = np.array(list(training[:, 0]))\n",
        "train_y = np.array(list(training[:, 1]))\n",
        "\n",
        "print(\"Shape train_x:\", np.shape(train_x))\n",
        "print(\"Shape train_y:\", np.shape(train_y))"
      ]
    },
    {
      "cell_type": "markdown",
      "metadata": {
        "id": "lv7OynRPtbUD"
      },
      "source": [
        "#Membuat Model Sequential"
      ]
    },
    {
      "cell_type": "markdown",
      "metadata": {
        "id": "tqcoxbF5ieOO"
      },
      "source": [
        "Model NLP menggunakan Sequential dengan hidden layer yang shape input dan outputnya sesuai dengan shape dataset.\n",
        "\n",
        "Adakalanya plotting dilakukan untuk memantau model.\n",
        "\n",
        "Setelah model berhasil dibuat, model dan dataset disimpan."
      ]
    },
    {
      "cell_type": "code",
      "execution_count": 8,
      "metadata": {
        "colab": {
          "base_uri": "https://localhost:8080/"
        },
        "id": "vL6faz2jDq5r",
        "outputId": "b4d4f40b-0b6a-40c1-cdbb-244ff0e166b4"
      },
      "outputs": [
        {
          "output_type": "stream",
          "name": "stdout",
          "text": [
            "Model: \"sequential\"\n",
            "_________________________________________________________________\n",
            " Layer (type)                Output Shape              Param #   \n",
            "=================================================================\n",
            " dense (Dense)               (None, 8)                 2376      \n",
            "                                                                 \n",
            " dense_1 (Dense)             (None, 33)                297       \n",
            "                                                                 \n",
            "=================================================================\n",
            "Total params: 2,673\n",
            "Trainable params: 2,673\n",
            "Non-trainable params: 0\n",
            "_________________________________________________________________\n"
          ]
        }
      ],
      "source": [
        "from tensorflow.keras.initializers import TruncatedNormal\n",
        "\n",
        "model = tf.keras.models.Sequential()\n",
        "model.add(tf.keras.layers.Dense(8, input_shape=(len(train_x[0]),), activation='relu', kernel_initializer=TruncatedNormal()))\n",
        "model.add(tf.keras.layers.Dense(len(train_y[0]), activation='softmax', kernel_initializer=TruncatedNormal()))\n",
        "\n",
        "# Kompilasi dan summary model\n",
        "model.compile(loss='categorical_crossentropy', optimizer='adam', metrics=['acc'])\n",
        "model.summary()"
      ]
    },
    {
      "cell_type": "code",
      "execution_count": 9,
      "metadata": {
        "colab": {
          "base_uri": "https://localhost:8080/"
        },
        "id": "geNK3KqwDq5s",
        "outputId": "bdd8d3c0-9f10-44f7-fb03-969b30113295"
      },
      "outputs": [
        {
          "output_type": "stream",
          "name": "stdout",
          "text": [
            "Melakukan training model.......\n",
            "Epoch 1/200\n",
            "37/37 [==============================] - 1s 1ms/step - loss: 3.4940 - acc: 0.0515 \n",
            "Epoch 2/200\n",
            "37/37 [==============================] - 0s 1ms/step - loss: 3.4808 - acc: 0.1271\n",
            "Epoch 3/200\n",
            "37/37 [==============================] - 0s 2ms/step - loss: 3.4584 - acc: 0.1409\n",
            "Epoch 4/200\n",
            "37/37 [==============================] - 0s 2ms/step - loss: 3.4199 - acc: 0.1512\n",
            "Epoch 5/200\n",
            "37/37 [==============================] - 0s 1ms/step - loss: 3.3641 - acc: 0.1684\n",
            "Epoch 6/200\n",
            "37/37 [==============================] - 0s 1ms/step - loss: 3.2911 - acc: 0.1546\n",
            "Epoch 7/200\n",
            "37/37 [==============================] - 0s 2ms/step - loss: 3.2047 - acc: 0.1753\n",
            "Epoch 8/200\n",
            "37/37 [==============================] - 0s 1ms/step - loss: 3.1077 - acc: 0.1959\n",
            "Epoch 9/200\n",
            "37/37 [==============================] - 0s 1ms/step - loss: 3.0055 - acc: 0.2234\n",
            "Epoch 10/200\n",
            "37/37 [==============================] - 0s 2ms/step - loss: 2.9013 - acc: 0.2440\n",
            "Epoch 11/200\n",
            "37/37 [==============================] - 0s 1ms/step - loss: 2.7972 - acc: 0.2474\n",
            "Epoch 12/200\n",
            "37/37 [==============================] - 0s 1ms/step - loss: 2.6928 - acc: 0.2749\n",
            "Epoch 13/200\n",
            "37/37 [==============================] - 0s 2ms/step - loss: 2.5931 - acc: 0.3058\n",
            "Epoch 14/200\n",
            "37/37 [==============================] - 0s 1ms/step - loss: 2.4950 - acc: 0.3436\n",
            "Epoch 15/200\n",
            "37/37 [==============================] - 0s 1ms/step - loss: 2.4001 - acc: 0.3952\n",
            "Epoch 16/200\n",
            "37/37 [==============================] - 0s 1ms/step - loss: 2.3067 - acc: 0.4467\n",
            "Epoch 17/200\n",
            "37/37 [==============================] - 0s 2ms/step - loss: 2.2177 - acc: 0.4811\n",
            "Epoch 18/200\n",
            "37/37 [==============================] - 0s 2ms/step - loss: 2.1316 - acc: 0.5223\n",
            "Epoch 19/200\n",
            "37/37 [==============================] - 0s 2ms/step - loss: 2.0508 - acc: 0.5395\n",
            "Epoch 20/200\n",
            "37/37 [==============================] - 0s 2ms/step - loss: 1.9725 - acc: 0.5567\n",
            "Epoch 21/200\n",
            "37/37 [==============================] - 0s 2ms/step - loss: 1.8967 - acc: 0.5636\n",
            "Epoch 22/200\n",
            "37/37 [==============================] - 0s 1ms/step - loss: 1.8242 - acc: 0.5739\n",
            "Epoch 23/200\n",
            "37/37 [==============================] - 0s 1ms/step - loss: 1.7563 - acc: 0.5945\n",
            "Epoch 24/200\n",
            "37/37 [==============================] - 0s 1ms/step - loss: 1.6915 - acc: 0.6082\n",
            "Epoch 25/200\n",
            "37/37 [==============================] - 0s 1ms/step - loss: 1.6273 - acc: 0.6289\n",
            "Epoch 26/200\n",
            "37/37 [==============================] - 0s 1ms/step - loss: 1.5686 - acc: 0.6564\n",
            "Epoch 27/200\n",
            "37/37 [==============================] - 0s 1ms/step - loss: 1.5117 - acc: 0.6735\n",
            "Epoch 28/200\n",
            "37/37 [==============================] - 0s 1ms/step - loss: 1.4568 - acc: 0.6770\n",
            "Epoch 29/200\n",
            "37/37 [==============================] - 0s 1ms/step - loss: 1.4056 - acc: 0.6976\n",
            "Epoch 30/200\n",
            "37/37 [==============================] - 0s 2ms/step - loss: 1.3543 - acc: 0.7388\n",
            "Epoch 31/200\n",
            "37/37 [==============================] - 0s 2ms/step - loss: 1.3082 - acc: 0.7491\n",
            "Epoch 32/200\n",
            "37/37 [==============================] - 0s 2ms/step - loss: 1.2633 - acc: 0.7629\n",
            "Epoch 33/200\n",
            "37/37 [==============================] - 0s 2ms/step - loss: 1.2183 - acc: 0.7732\n",
            "Epoch 34/200\n",
            "37/37 [==============================] - 0s 1ms/step - loss: 1.1771 - acc: 0.7904\n",
            "Epoch 35/200\n",
            "37/37 [==============================] - 0s 2ms/step - loss: 1.1375 - acc: 0.7973\n",
            "Epoch 36/200\n",
            "37/37 [==============================] - 0s 1ms/step - loss: 1.0968 - acc: 0.8144\n",
            "Epoch 37/200\n",
            "37/37 [==============================] - 0s 1ms/step - loss: 1.0612 - acc: 0.8213\n",
            "Epoch 38/200\n",
            "37/37 [==============================] - 0s 1ms/step - loss: 1.0233 - acc: 0.8316\n",
            "Epoch 39/200\n",
            "37/37 [==============================] - 0s 995us/step - loss: 0.9889 - acc: 0.8591\n",
            "Epoch 40/200\n",
            "37/37 [==============================] - 0s 1ms/step - loss: 0.9552 - acc: 0.8660\n",
            "Epoch 41/200\n",
            "37/37 [==============================] - 0s 1ms/step - loss: 0.9234 - acc: 0.8729\n",
            "Epoch 42/200\n",
            "37/37 [==============================] - 0s 976us/step - loss: 0.8923 - acc: 0.8763\n",
            "Epoch 43/200\n",
            "37/37 [==============================] - 0s 1ms/step - loss: 0.8616 - acc: 0.8935\n",
            "Epoch 44/200\n",
            "37/37 [==============================] - 0s 1ms/step - loss: 0.8321 - acc: 0.8935\n",
            "Epoch 45/200\n",
            "37/37 [==============================] - 0s 1ms/step - loss: 0.8042 - acc: 0.8866\n",
            "Epoch 46/200\n",
            "37/37 [==============================] - 0s 964us/step - loss: 0.7762 - acc: 0.9038\n",
            "Epoch 47/200\n",
            "37/37 [==============================] - 0s 5ms/step - loss: 0.7492 - acc: 0.9141\n",
            "Epoch 48/200\n",
            "37/37 [==============================] - 0s 5ms/step - loss: 0.7234 - acc: 0.9244\n",
            "Epoch 49/200\n",
            "37/37 [==============================] - 0s 4ms/step - loss: 0.7003 - acc: 0.9313\n",
            "Epoch 50/200\n",
            "37/37 [==============================] - 0s 4ms/step - loss: 0.6754 - acc: 0.9381\n",
            "Epoch 51/200\n",
            "37/37 [==============================] - 0s 2ms/step - loss: 0.6526 - acc: 0.9416\n",
            "Epoch 52/200\n",
            "37/37 [==============================] - 0s 1ms/step - loss: 0.6290 - acc: 0.9519\n",
            "Epoch 53/200\n",
            "37/37 [==============================] - 0s 1ms/step - loss: 0.6073 - acc: 0.9485\n",
            "Epoch 54/200\n",
            "37/37 [==============================] - 0s 996us/step - loss: 0.5865 - acc: 0.9622\n",
            "Epoch 55/200\n",
            "37/37 [==============================] - 0s 1ms/step - loss: 0.5661 - acc: 0.9588\n",
            "Epoch 56/200\n",
            "37/37 [==============================] - 0s 988us/step - loss: 0.5460 - acc: 0.9622\n",
            "Epoch 57/200\n",
            "37/37 [==============================] - 0s 965us/step - loss: 0.5260 - acc: 0.9725\n",
            "Epoch 58/200\n",
            "37/37 [==============================] - 0s 1ms/step - loss: 0.5087 - acc: 0.9656\n",
            "Epoch 59/200\n",
            "37/37 [==============================] - 0s 1ms/step - loss: 0.4900 - acc: 0.9828\n",
            "Epoch 60/200\n",
            "37/37 [==============================] - 0s 1ms/step - loss: 0.4730 - acc: 0.9794\n",
            "Epoch 61/200\n",
            "37/37 [==============================] - 0s 2ms/step - loss: 0.4570 - acc: 0.9863\n",
            "Epoch 62/200\n",
            "37/37 [==============================] - 0s 3ms/step - loss: 0.4408 - acc: 0.9828\n",
            "Epoch 63/200\n",
            "37/37 [==============================] - 0s 3ms/step - loss: 0.4264 - acc: 0.9794\n",
            "Epoch 64/200\n",
            "37/37 [==============================] - 0s 2ms/step - loss: 0.4111 - acc: 0.9828\n",
            "Epoch 65/200\n",
            "37/37 [==============================] - 0s 2ms/step - loss: 0.3975 - acc: 0.9863\n",
            "Epoch 66/200\n",
            "37/37 [==============================] - 0s 2ms/step - loss: 0.3832 - acc: 0.9828\n",
            "Epoch 67/200\n",
            "37/37 [==============================] - 0s 2ms/step - loss: 0.3708 - acc: 0.9897\n",
            "Epoch 68/200\n",
            "37/37 [==============================] - 0s 3ms/step - loss: 0.3589 - acc: 0.9828\n",
            "Epoch 69/200\n",
            "37/37 [==============================] - 0s 2ms/step - loss: 0.3457 - acc: 0.9863\n",
            "Epoch 70/200\n",
            "37/37 [==============================] - 0s 2ms/step - loss: 0.3337 - acc: 0.9863\n",
            "Epoch 71/200\n",
            "37/37 [==============================] - 0s 1ms/step - loss: 0.3223 - acc: 0.9863\n",
            "Epoch 72/200\n",
            "37/37 [==============================] - 0s 1ms/step - loss: 0.3112 - acc: 0.9931\n",
            "Epoch 73/200\n",
            "37/37 [==============================] - 0s 1ms/step - loss: 0.3009 - acc: 0.9966\n",
            "Epoch 74/200\n",
            "37/37 [==============================] - 0s 1ms/step - loss: 0.2902 - acc: 0.9966\n",
            "Epoch 75/200\n",
            "37/37 [==============================] - 0s 1ms/step - loss: 0.2810 - acc: 0.9966\n",
            "Epoch 76/200\n",
            "37/37 [==============================] - 0s 983us/step - loss: 0.2715 - acc: 0.9966\n",
            "Epoch 77/200\n",
            "37/37 [==============================] - 0s 981us/step - loss: 0.2629 - acc: 0.9966\n",
            "Epoch 78/200\n",
            "37/37 [==============================] - 0s 1ms/step - loss: 0.2547 - acc: 0.9966\n",
            "Epoch 79/200\n",
            "37/37 [==============================] - 0s 1ms/step - loss: 0.2456 - acc: 0.9966\n",
            "Epoch 80/200\n",
            "37/37 [==============================] - 0s 1ms/step - loss: 0.2379 - acc: 0.9966\n",
            "Epoch 81/200\n",
            "37/37 [==============================] - 0s 996us/step - loss: 0.2302 - acc: 0.9966\n",
            "Epoch 82/200\n",
            "37/37 [==============================] - 0s 983us/step - loss: 0.2230 - acc: 0.9966\n",
            "Epoch 83/200\n",
            "37/37 [==============================] - 0s 1ms/step - loss: 0.2158 - acc: 0.9966\n",
            "Epoch 84/200\n",
            "37/37 [==============================] - 0s 982us/step - loss: 0.2087 - acc: 0.9966\n",
            "Epoch 85/200\n",
            "37/37 [==============================] - 0s 1ms/step - loss: 0.2025 - acc: 0.9966\n",
            "Epoch 86/200\n",
            "37/37 [==============================] - 0s 1ms/step - loss: 0.1967 - acc: 0.9966\n",
            "Epoch 87/200\n",
            "37/37 [==============================] - 0s 1ms/step - loss: 0.1901 - acc: 0.9966\n",
            "Epoch 88/200\n",
            "37/37 [==============================] - 0s 1ms/step - loss: 0.1844 - acc: 0.9966\n",
            "Epoch 89/200\n",
            "37/37 [==============================] - 0s 1ms/step - loss: 0.1790 - acc: 0.9966\n",
            "Epoch 90/200\n",
            "37/37 [==============================] - 0s 1ms/step - loss: 0.1742 - acc: 0.9966\n",
            "Epoch 91/200\n",
            "37/37 [==============================] - 0s 1ms/step - loss: 0.1681 - acc: 0.9966\n",
            "Epoch 92/200\n",
            "37/37 [==============================] - 0s 1ms/step - loss: 0.1630 - acc: 0.9966\n",
            "Epoch 93/200\n",
            "37/37 [==============================] - 0s 1ms/step - loss: 0.1584 - acc: 0.9966\n",
            "Epoch 94/200\n",
            "37/37 [==============================] - 0s 1ms/step - loss: 0.1535 - acc: 0.9966\n",
            "Epoch 95/200\n",
            "37/37 [==============================] - 0s 1ms/step - loss: 0.1492 - acc: 0.9966\n",
            "Epoch 96/200\n",
            "37/37 [==============================] - 0s 1ms/step - loss: 0.1449 - acc: 0.9966\n",
            "Epoch 97/200\n",
            "37/37 [==============================] - 0s 994us/step - loss: 0.1406 - acc: 0.9966\n",
            "Epoch 98/200\n",
            "37/37 [==============================] - 0s 1ms/step - loss: 0.1366 - acc: 0.9966\n",
            "Epoch 99/200\n",
            "37/37 [==============================] - 0s 1ms/step - loss: 0.1331 - acc: 0.9966\n",
            "Epoch 100/200\n",
            "37/37 [==============================] - 0s 1ms/step - loss: 0.1291 - acc: 0.9966\n",
            "Epoch 101/200\n",
            "37/37 [==============================] - 0s 983us/step - loss: 0.1253 - acc: 0.9966\n",
            "Epoch 102/200\n",
            "37/37 [==============================] - 0s 1ms/step - loss: 0.1217 - acc: 0.9966\n",
            "Epoch 103/200\n",
            "37/37 [==============================] - 0s 1ms/step - loss: 0.1187 - acc: 0.9966\n",
            "Epoch 104/200\n",
            "37/37 [==============================] - 0s 991us/step - loss: 0.1153 - acc: 0.9966\n",
            "Epoch 105/200\n",
            "37/37 [==============================] - 0s 1ms/step - loss: 0.1121 - acc: 0.9966\n",
            "Epoch 106/200\n",
            "37/37 [==============================] - 0s 1ms/step - loss: 0.1090 - acc: 0.9966\n",
            "Epoch 107/200\n",
            "37/37 [==============================] - 0s 1ms/step - loss: 0.1061 - acc: 0.9966\n",
            "Epoch 108/200\n",
            "37/37 [==============================] - 0s 1ms/step - loss: 0.1038 - acc: 0.9966\n",
            "Epoch 109/200\n",
            "37/37 [==============================] - 0s 1ms/step - loss: 0.1006 - acc: 0.9966\n",
            "Epoch 110/200\n",
            "37/37 [==============================] - 0s 946us/step - loss: 0.0979 - acc: 0.9966\n",
            "Epoch 111/200\n",
            "37/37 [==============================] - 0s 1ms/step - loss: 0.0955 - acc: 0.9966\n",
            "Epoch 112/200\n",
            "37/37 [==============================] - 0s 1ms/step - loss: 0.0931 - acc: 0.9966\n",
            "Epoch 113/200\n",
            "37/37 [==============================] - 0s 987us/step - loss: 0.0906 - acc: 0.9966\n",
            "Epoch 114/200\n",
            "37/37 [==============================] - 0s 1ms/step - loss: 0.0884 - acc: 0.9966\n",
            "Epoch 115/200\n",
            "37/37 [==============================] - 0s 1ms/step - loss: 0.0860 - acc: 0.9966\n",
            "Epoch 116/200\n",
            "37/37 [==============================] - 0s 1ms/step - loss: 0.0839 - acc: 0.9966\n",
            "Epoch 117/200\n",
            "37/37 [==============================] - 0s 1ms/step - loss: 0.0816 - acc: 0.9966\n",
            "Epoch 118/200\n",
            "37/37 [==============================] - 0s 1ms/step - loss: 0.0799 - acc: 0.9966\n",
            "Epoch 119/200\n",
            "37/37 [==============================] - 0s 1ms/step - loss: 0.0780 - acc: 0.9966\n",
            "Epoch 120/200\n",
            "37/37 [==============================] - 0s 1ms/step - loss: 0.0760 - acc: 0.9966\n",
            "Epoch 121/200\n",
            "37/37 [==============================] - 0s 1ms/step - loss: 0.0742 - acc: 0.9966\n",
            "Epoch 122/200\n",
            "37/37 [==============================] - 0s 1ms/step - loss: 0.0723 - acc: 0.9966\n",
            "Epoch 123/200\n",
            "37/37 [==============================] - 0s 1ms/step - loss: 0.0706 - acc: 0.9966\n",
            "Epoch 124/200\n",
            "37/37 [==============================] - 0s 1ms/step - loss: 0.0689 - acc: 0.9966\n",
            "Epoch 125/200\n",
            "37/37 [==============================] - 0s 1ms/step - loss: 0.0674 - acc: 0.9966\n",
            "Epoch 126/200\n",
            "37/37 [==============================] - 0s 988us/step - loss: 0.0657 - acc: 0.9966\n",
            "Epoch 127/200\n",
            "37/37 [==============================] - 0s 1ms/step - loss: 0.0643 - acc: 0.9966\n",
            "Epoch 128/200\n",
            "37/37 [==============================] - 0s 1ms/step - loss: 0.0627 - acc: 0.9966\n",
            "Epoch 129/200\n",
            "37/37 [==============================] - 0s 1ms/step - loss: 0.0612 - acc: 0.9966\n",
            "Epoch 130/200\n",
            "37/37 [==============================] - 0s 1ms/step - loss: 0.0600 - acc: 0.9966\n",
            "Epoch 131/200\n",
            "37/37 [==============================] - 0s 1ms/step - loss: 0.0584 - acc: 0.9966\n",
            "Epoch 132/200\n",
            "37/37 [==============================] - 0s 1ms/step - loss: 0.0573 - acc: 0.9966\n",
            "Epoch 133/200\n",
            "37/37 [==============================] - 0s 1ms/step - loss: 0.0558 - acc: 0.9966\n",
            "Epoch 134/200\n",
            "37/37 [==============================] - 0s 1ms/step - loss: 0.0546 - acc: 0.9966\n",
            "Epoch 135/200\n",
            "37/37 [==============================] - 0s 1ms/step - loss: 0.0533 - acc: 0.9966\n",
            "Epoch 136/200\n",
            "37/37 [==============================] - 0s 966us/step - loss: 0.0520 - acc: 0.9966\n",
            "Epoch 137/200\n",
            "37/37 [==============================] - 0s 1ms/step - loss: 0.0509 - acc: 0.9966\n",
            "Epoch 138/200\n",
            "37/37 [==============================] - 0s 1ms/step - loss: 0.0498 - acc: 0.9966\n",
            "Epoch 139/200\n",
            "37/37 [==============================] - 0s 1ms/step - loss: 0.0488 - acc: 0.9966\n",
            "Epoch 140/200\n",
            "37/37 [==============================] - 0s 1ms/step - loss: 0.0479 - acc: 0.9966\n",
            "Epoch 141/200\n",
            "37/37 [==============================] - 0s 1ms/step - loss: 0.0466 - acc: 0.9966\n",
            "Epoch 142/200\n",
            "37/37 [==============================] - 0s 1ms/step - loss: 0.0456 - acc: 0.9966\n",
            "Epoch 143/200\n",
            "37/37 [==============================] - 0s 1ms/step - loss: 0.0447 - acc: 0.9966\n",
            "Epoch 144/200\n",
            "37/37 [==============================] - 0s 1ms/step - loss: 0.0438 - acc: 0.9966\n",
            "Epoch 145/200\n",
            "37/37 [==============================] - 0s 997us/step - loss: 0.0429 - acc: 0.9966\n",
            "Epoch 146/200\n",
            "37/37 [==============================] - 0s 1ms/step - loss: 0.0418 - acc: 0.9966\n",
            "Epoch 147/200\n",
            "37/37 [==============================] - 0s 1ms/step - loss: 0.0411 - acc: 0.9966\n",
            "Epoch 148/200\n",
            "37/37 [==============================] - 0s 1ms/step - loss: 0.0403 - acc: 0.9966\n",
            "Epoch 149/200\n",
            "37/37 [==============================] - 0s 1ms/step - loss: 0.0393 - acc: 0.9966\n",
            "Epoch 150/200\n",
            "37/37 [==============================] - 0s 1ms/step - loss: 0.0386 - acc: 0.9966\n",
            "Epoch 151/200\n",
            "37/37 [==============================] - 0s 1ms/step - loss: 0.0377 - acc: 0.9966\n",
            "Epoch 152/200\n",
            "37/37 [==============================] - 0s 1ms/step - loss: 0.0371 - acc: 0.9966\n",
            "Epoch 153/200\n",
            "37/37 [==============================] - 0s 981us/step - loss: 0.0362 - acc: 0.9966\n",
            "Epoch 154/200\n",
            "37/37 [==============================] - 0s 1ms/step - loss: 0.0355 - acc: 0.9966\n",
            "Epoch 155/200\n",
            "37/37 [==============================] - 0s 1ms/step - loss: 0.0348 - acc: 0.9966\n",
            "Epoch 156/200\n",
            "37/37 [==============================] - 0s 1ms/step - loss: 0.0341 - acc: 0.9966\n",
            "Epoch 157/200\n",
            "37/37 [==============================] - 0s 1ms/step - loss: 0.0334 - acc: 0.9966\n",
            "Epoch 158/200\n",
            "37/37 [==============================] - 0s 1ms/step - loss: 0.0328 - acc: 0.9966\n",
            "Epoch 159/200\n",
            "37/37 [==============================] - 0s 1ms/step - loss: 0.0321 - acc: 0.9966\n",
            "Epoch 160/200\n",
            "37/37 [==============================] - 0s 1ms/step - loss: 0.0315 - acc: 0.9966\n",
            "Epoch 161/200\n",
            "37/37 [==============================] - 0s 1ms/step - loss: 0.0309 - acc: 0.9966\n",
            "Epoch 162/200\n",
            "37/37 [==============================] - 0s 1ms/step - loss: 0.0303 - acc: 0.9966\n",
            "Epoch 163/200\n",
            "37/37 [==============================] - 0s 1ms/step - loss: 0.0295 - acc: 0.9966\n",
            "Epoch 164/200\n",
            "37/37 [==============================] - 0s 1ms/step - loss: 0.0290 - acc: 0.9966\n",
            "Epoch 165/200\n",
            "37/37 [==============================] - 0s 996us/step - loss: 0.0288 - acc: 0.9966\n",
            "Epoch 166/200\n",
            "37/37 [==============================] - 0s 1ms/step - loss: 0.0279 - acc: 0.9966\n",
            "Epoch 167/200\n",
            "37/37 [==============================] - 0s 1ms/step - loss: 0.0274 - acc: 0.9966\n",
            "Epoch 168/200\n",
            "37/37 [==============================] - 0s 1ms/step - loss: 0.0268 - acc: 1.0000\n",
            "Epoch 169/200\n",
            "37/37 [==============================] - 0s 1ms/step - loss: 0.0264 - acc: 1.0000\n",
            "Epoch 170/200\n",
            "37/37 [==============================] - 0s 1ms/step - loss: 0.0259 - acc: 0.9966\n",
            "Epoch 171/200\n",
            "37/37 [==============================] - 0s 1ms/step - loss: 0.0255 - acc: 1.0000\n",
            "Epoch 172/200\n",
            "37/37 [==============================] - 0s 1ms/step - loss: 0.0250 - acc: 1.0000\n",
            "Epoch 173/200\n",
            "37/37 [==============================] - 0s 1ms/step - loss: 0.0245 - acc: 1.0000\n",
            "Epoch 174/200\n",
            "37/37 [==============================] - 0s 1ms/step - loss: 0.0241 - acc: 0.9966\n",
            "Epoch 175/200\n",
            "37/37 [==============================] - 0s 1ms/step - loss: 0.0234 - acc: 1.0000\n",
            "Epoch 176/200\n",
            "37/37 [==============================] - 0s 1ms/step - loss: 0.0231 - acc: 1.0000\n",
            "Epoch 177/200\n",
            "37/37 [==============================] - 0s 1000us/step - loss: 0.0226 - acc: 1.0000\n",
            "Epoch 178/200\n",
            "37/37 [==============================] - 0s 996us/step - loss: 0.0222 - acc: 1.0000\n",
            "Epoch 179/200\n",
            "37/37 [==============================] - 0s 989us/step - loss: 0.0218 - acc: 1.0000\n",
            "Epoch 180/200\n",
            "37/37 [==============================] - 0s 996us/step - loss: 0.0215 - acc: 1.0000\n",
            "Epoch 181/200\n",
            "37/37 [==============================] - 0s 1ms/step - loss: 0.0210 - acc: 1.0000\n",
            "Epoch 182/200\n",
            "37/37 [==============================] - 0s 992us/step - loss: 0.0206 - acc: 1.0000\n",
            "Epoch 183/200\n",
            "37/37 [==============================] - 0s 1ms/step - loss: 0.0204 - acc: 1.0000\n",
            "Epoch 184/200\n",
            "37/37 [==============================] - 0s 1ms/step - loss: 0.0199 - acc: 1.0000\n",
            "Epoch 185/200\n",
            "37/37 [==============================] - 0s 1ms/step - loss: 0.0195 - acc: 1.0000\n",
            "Epoch 186/200\n",
            "37/37 [==============================] - 0s 1ms/step - loss: 0.0192 - acc: 1.0000\n",
            "Epoch 187/200\n",
            "37/37 [==============================] - 0s 1ms/step - loss: 0.0188 - acc: 1.0000\n",
            "Epoch 188/200\n",
            "37/37 [==============================] - 0s 1ms/step - loss: 0.0185 - acc: 1.0000\n",
            "Epoch 189/200\n",
            "37/37 [==============================] - 0s 1ms/step - loss: 0.0181 - acc: 1.0000\n",
            "Epoch 190/200\n",
            "37/37 [==============================] - 0s 1ms/step - loss: 0.0178 - acc: 1.0000\n",
            "Epoch 191/200\n",
            "37/37 [==============================] - 0s 1ms/step - loss: 0.0174 - acc: 1.0000\n",
            "Epoch 192/200\n",
            "37/37 [==============================] - 0s 1ms/step - loss: 0.0171 - acc: 1.0000\n",
            "Epoch 193/200\n",
            "37/37 [==============================] - 0s 1ms/step - loss: 0.0168 - acc: 1.0000\n",
            "Epoch 194/200\n",
            "37/37 [==============================] - 0s 1ms/step - loss: 0.0164 - acc: 1.0000\n",
            "Epoch 195/200\n",
            "37/37 [==============================] - 0s 1ms/step - loss: 0.0163 - acc: 1.0000\n",
            "Epoch 196/200\n",
            "37/37 [==============================] - 0s 1ms/step - loss: 0.0160 - acc: 1.0000\n",
            "Epoch 197/200\n",
            "37/37 [==============================] - 0s 1ms/step - loss: 0.0156 - acc: 1.0000\n",
            "Epoch 198/200\n",
            "37/37 [==============================] - 0s 1ms/step - loss: 0.0153 - acc: 1.0000\n",
            "Epoch 199/200\n",
            "37/37 [==============================] - 0s 1ms/step - loss: 0.0151 - acc: 1.0000\n",
            "Epoch 200/200\n",
            "37/37 [==============================] - 0s 1ms/step - loss: 0.0148 - acc: 1.0000\n"
          ]
        }
      ],
      "source": [
        "import matplotlib.pyplot as plt\n",
        "\n",
        "# Melakukan fitting dan mendapatkan history dari fitting model\n",
        "print(\"Melakukan training model.......\")\n",
        "history = model.fit(train_x, train_y, batch_size=8, epochs=200)"
      ]
    },
    {
      "cell_type": "code",
      "execution_count": 10,
      "metadata": {
        "colab": {
          "base_uri": "https://localhost:8080/",
          "height": 927
        },
        "id": "F7-rU_FrieOO",
        "outputId": "c21be558-53a6-4f2e-cdc3-76986673571e"
      },
      "outputs": [
        {
          "output_type": "display_data",
          "data": {
            "text/plain": [
              "<Figure size 640x480 with 1 Axes>"
            ],
            "image/png": "[encoded data removed]"
          },
          "metadata": {}
        },
        {
          "output_type": "display_data",
          "data": {
            "text/plain": [
              "<Figure size 640x480 with 1 Axes>"
            ],
            "image/png": "[encoded data removed]"
          },
          "metadata": {}
        }
      ],
      "source": [
        "# Memplot akurasi (accuracy)\n",
        "plt.plot(history.history['acc'])\n",
        "plt.title('Model Accuracy')\n",
        "plt.xlabel('Epochs')\n",
        "plt.ylabel('Accuracy')\n",
        "plt.legend(['Train'], loc='upper left')\n",
        "plt.show()\n",
        "\n",
        "# Memplot loss\n",
        "plt.plot(history.history['loss'])\n",
        "plt.title('Model Loss')\n",
        "plt.xlabel('Epochs')\n",
        "plt.ylabel('Loss')\n",
        "plt.legend(['Train'], loc='upper left')\n",
        "plt.show()"
      ]
    },
    {
      "cell_type": "code",
      "execution_count": 11,
      "metadata": {
        "colab": {
          "base_uri": "https://localhost:8080/"
        },
        "id": "NhUjpazdDq5s",
        "outputId": "22013657-c2f6-419c-cb54-2c3eca99a161"
      },
      "outputs": [
        {
          "output_type": "stream",
          "name": "stdout",
          "text": [
            "Melakukan save model.......\n",
            "Melakukan save pickle..........\n"
          ]
        }
      ],
      "source": [
        "# Menyimpan model dan pickle\n",
        "print(\"Melakukan save model.......\")\n",
        "model.save('model.h5')\n",
        "\n",
        "print(\"Melakukan save pickle..........\")\n",
        "pickle.dump( {'words':words, 'classes':classes, 'train_x':train_x, 'train_y':train_y}, open( \"training_data\", \"wb\" ) )"
      ]
    },
    {
      "cell_type": "markdown",
      "metadata": {
        "id": "CTxwkrtPtbUE"
      },
      "source": [
        "#Preprocessing input data dari user"
      ]
    },
    {
      "cell_type": "markdown",
      "metadata": {
        "id": "NBJGcnuqieOP"
      },
      "source": [
        "Dataset dan model diload kembali untuk pengujian Chatbot.\n",
        "\n",
        "Function preprocessing untuk input user didefinisikan dan output dari ChatBot yang menggunakan random untuk memilih response sesuai hasil klasifikasi."
      ]
    },
    {
      "cell_type": "code",
      "execution_count": 12,
      "metadata": {
        "colab": {
          "base_uri": "https://localhost:8080/"
        },
        "id": "nrYSvaxNDq5s",
        "outputId": "61b81bb3-279b-468c-be10-7018e89369c1"
      },
      "outputs": [
        {
          "output_type": "stream",
          "name": "stdout",
          "text": [
            "Melakukan load pickle.....\n",
            "Melakukan load model......\n"
          ]
        }
      ],
      "source": [
        "# Melakukan loading pickle\n",
        "print(\"Melakukan load pickle.....\")\n",
        "data = pickle.load( open( \"training_data\", \"rb\" ) )\n",
        "words = data['words']\n",
        "classes = data['classes']\n",
        "train_x = data['train_x']\n",
        "train_y = data['train_y']\n",
        "\n",
        "with open('dataset/intents.json') as json_data:\n",
        "    intents = json.load(json_data)\n",
        "\n",
        "print(\"Melakukan load model......\")\n",
        "# Melakukan loading model\n",
        "model = tf.keras.models.load_model('./model.h5')"
      ]
    },
    {
      "cell_type": "code",
      "execution_count": 13,
      "metadata": {
        "id": "DSUfh6xdDq5s"
      },
      "outputs": [],
      "source": [
        "def clean_up_sentence(sentence):\n",
        "    # Melakukan tokenisasi dan stemming\n",
        "    sentence_words = nltk.word_tokenize(sentence)\n",
        "    sentence_words = [stemmer.stem(word.lower()) for word in sentence_words]\n",
        "    return sentence_words\n",
        "\n",
        "# Me-return array Bag of Words: True atau False dan 0 atau 1 untuk setiap kata di Bag of Words yang ada di kalimat user\n",
        "def bow(sentence, words, show_details=False):\n",
        "    sentence_words = clean_up_sentence(sentence)\n",
        "    bag = [0] * len(words)\n",
        "    for s in sentence_words:\n",
        "        for i, w in enumerate(words):\n",
        "            if w == s:\n",
        "                bag[i] = 1\n",
        "                if show_details:\n",
        "                    print(\"found in bag: %s\" % w)\n",
        "    return np.array(bag).reshape(1, -1)  # Reshape to (1, num_features)\n",
        "\n",
        "#Probabilitas maksimum untuk dihapus dari hasil\n",
        "ERROR_THRESHOLD = 0.25\n",
        "\n",
        "def classify(sentence):\n",
        "    # Melakukan prediksi menggunakan model\n",
        "    results = model.predict([bow(sentence, words)])[0]\n",
        "    # Menghapus hasil yang dibawah treshhold\n",
        "    results = [[i,r] for i,r in enumerate(results) if r>ERROR_THRESHOLD]\n",
        "    # Mengsortir model berdasarkan probabilitas tertinggi\n",
        "    results.sort(key=lambda x: x[1], reverse=True)\n",
        "    return_list = []\n",
        "    for r in results:\n",
        "        return_list.append((classes[r[0]], r[1])) #Tuppl -> Intent and Probability\n",
        "    return return_list\n",
        "\n",
        "def response(sentence, userID='123', show_details=False):\n",
        "    results = classify(sentence)\n",
        "    # Menyesuaikan tag yang cocok\n",
        "    if results:\n",
        "        while results:\n",
        "            for i in intents['intents']:\n",
        "                if i['tag'] == results[0][0]:\n",
        "                    # Mengacak response\n",
        "                    return print(random.choice(i['responses']))\n",
        "\n",
        "            results.pop(0)"
      ]
    },
    {
      "cell_type": "markdown",
      "metadata": {
        "id": "R784CgTqtbUE"
      },
      "source": [
        "#Pengujian Model"
      ]
    },
    {
      "cell_type": "code",
      "execution_count": 14,
      "metadata": {
        "colab": {
          "base_uri": "https://localhost:8080/"
        },
        "id": "RyFGkh9BDq5s",
        "outputId": "7d8675e1-5155-4367-9be1-295e9e5f4c45"
      },
      "outputs": [
        {
          "name": "stdout",
          "output_type": "stream",
          "text": [
            "You- Hai\n",
            "1/1 [==============================] - 0s 57ms/step\n",
            "Halo, Selamat datang di JasaIn Chatbot!. Jika kamu mempunyai kendala, silahkan deskripsikan kendalamu ya!\n",
            "You- Sy punya kendala di layar HP saya \n",
            "1/1 [==============================] - 0s 14ms/step\n",
            "Handphone kamu harus ganti LCD, jangan lupa sesuaikan mereknya ya\n",
            "You- Merek AC apa aja ya yang bagus?\n",
            "1/1 [==============================] - 0s 16ms/step\n",
            "Menurut Tokopedia, merek AC yang terbaik antara lain adalah Daikin, Sharp, Panasonic, Gree, LG, Samsung, AUX, Changhong, Mitshubishi, Denpoo, Midea, Akari, Polytron.\n",
            "You- Mengapa laptop saya tidak bisa charging?\n",
            "1/1 [==============================] - 0s 15ms/step\n",
            "Jika laptop tidak bisa diisi daya, periksa kabel pengisi daya dan port charging laptop. Jika mungkin, coba menggunakan kabel dan charger yang berbeda. Jika masalah persisten, kemungkinan ada masalah dengan baterai atau komponen pengisian daya. Konsultasikan dengan teknisi untuk perbaikan lebih lanjut.\n",
            "You- Oke thank you\n",
            "1/1 [==============================] - 0s 15ms/step\n",
            "Sama-sama, Senang Bisa membantu!, Terimakasih telah menghubungi kami\n",
            "You- exit\n"
          ]
        }
      ],
      "source": [
        "while True:\n",
        "    input_data = input(\"You- \")\n",
        "    if input_data.lower() in ['exit', 'selamat tinggal']:\n",
        "        break\n",
        "    else:\n",
        "        answer = response(input_data)"
      ]
    },
    {
      "cell_type": "markdown",
      "metadata": {
        "id": "o0Z_NpJptbUE"
      },
      "source": [
        "#Konversi TFLite"
      ]
    },
    {
      "cell_type": "markdown",
      "metadata": {
        "id": "9AKXwQ0uieOQ"
      },
      "source": [
        "Model .h5 yang sudah dibuat dapat dikonversi menjadi file TFLite agar dapat diintegrasikan ke device."
      ]
    },
    {
      "cell_type": "code",
      "execution_count": 15,
      "metadata": {
        "colab": {
          "base_uri": "https://localhost:8080/"
        },
        "id": "uh_tqHtADq5s",
        "outputId": "ec54eab0-0cb2-4b90-bbc7-03674a839738"
      },
      "outputs": [
        {
          "output_type": "stream",
          "name": "stderr",
          "text": [
            "WARNING:absl:Found untraced functions such as _update_step_xla while saving (showing 1 of 1). These functions will not be directly callable after loading.\n"
          ]
        }
      ],
      "source": [
        "# Konversi .h5 model menjadi TFLite model\n",
        "converter = tf.lite.TFLiteConverter.from_keras_model(model)\n",
        "tflite_model = converter.convert()\n",
        "\n",
        "# Melakukan save file .TFLite dari model\n",
        "with open('model.tflite', 'wb') as f:\n",
        "    f.write(tflite_model)"
      ]
    }
  ],
  "metadata": {
    "colab": {
      "provenance": []
    },
    "kernelspec": {
      "display_name": "Python 3 (ipykernel)",
      "language": "python",
      "name": "python3"
    },
    "language_info": {
      "codemirror_mode": {
        "name": "ipython",
        "version": 3
      },
      "file_extension": ".py",
      "mimetype": "text/x-python",
      "name": "python",
      "nbconvert_exporter": "python",
      "pygments_lexer": "ipython3",
      "version": "3.10.9"
    }
  },
  "nbformat": 4,
  "nbformat_minor": 0
}