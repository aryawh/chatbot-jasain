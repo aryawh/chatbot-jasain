{
  "cells": [
    {
      "cell_type": "markdown",
      "metadata": {
        "id": "L-v8I07ttbT_"
      },
      "source": [
        "#Mengimpor Library"
      ]
    },
    {
      "cell_type": "markdown",
      "metadata": {
        "id": "F-CpPcTbieOK"
      },
      "source": [
        "Library yang digunakan untuk pembuatan model NLP (Natural Language Processing) adalah Numpy, Tensorflow, Random dan NTLK.\n",
        "\n",
        "NLTK merupakan salah satu library tokenizer yang memiliki function 'stemming', yang dapat mengolah kata berimbuhan dan kompleks menjadi kata dasar.\n",
        "\n",
        "Library pendukung lainnya adalah JSON, Pickle, Warnings dan Curses."
      ]
    },
    {
      "cell_type": "code",
      "execution_count": 18,
      "metadata": {
        "colab": {
          "base_uri": "https://localhost:8080/"
        },
        "id": "zA5AOIYgEcOz",
        "outputId": "556ca2ae-f23c-462f-9d71-3e9dd9a764b6"
      },
      "outputs": [
        {
          "output_type": "stream",
          "name": "stderr",
          "text": [
            "[nltk_data] Downloading package punkt to /root/nltk_data...\n",
            "[nltk_data]   Package punkt is already up-to-date!\n"
          ]
        }
      ],
      "source": [
        "# Library untuk Model\n",
        "import numpy as np\n",
        "import tensorflow as tf\n",
        "import random\n",
        "import nltk\n",
        "nltk.download('punkt')\n",
        "from nltk.stem.lancaster import LancasterStemmer\n",
        "stemmer = LancasterStemmer()\n",
        "\n",
        "# Library pendukung\n",
        "import json\n",
        "import pickle\n",
        "import warnings\n",
        "import curses\n",
        "\n",
        "warnings.filterwarnings(\"ignore\")"
      ]
    },
    {
      "cell_type": "code",
      "execution_count": 19,
      "metadata": {
        "colab": {
          "base_uri": "https://localhost:8080/"
        },
        "id": "Omynb_miDq5q",
        "outputId": "d581e29b-2837-4daa-a5b1-45f562ec5393"
      },
      "outputs": [
        {
          "output_type": "stream",
          "name": "stdout",
          "text": [
            "2.12.0\n"
          ]
        }
      ],
      "source": [
        "# Mengecek versi Tensorflow\n",
        "print(tf. __version__)"
      ]
    },
    {
      "cell_type": "markdown",
      "metadata": {
        "id": "oj_cu8RbtbUC"
      },
      "source": [
        "#Pengolahan Dataset"
      ]
    },
    {
      "cell_type": "markdown",
      "metadata": {
        "id": "Nw1sNFb2ieOM"
      },
      "source": [
        "Dataset yang digunakan bernama 'intents.json' karena dataset tersebut memiliki data-data yang sudah dilabel (supervised) dengan tagnya masing-masing.\n",
        "Di dalam 'intents.json' terdapat array 'tag', 'patterns', dan 'responses'.\n",
        "\n",
        "'tag' merupakan label dari suatu percakapan.\n",
        "'patterns' merupakan contoh kalimat yang digunakan untuk memprediksi percakapan tersebut.\n",
        "'responses' merupakan kalimat jadi yang dikirim oleh Chatbot JasaIn secara acak. (Bila terdapat lebih dari satu response)\n",
        "\n",
        "Setelah diload, dataset response tersebut diolah ke tokenizer sesuai tagnya masing-masing.\n",
        "Kemudian, kata-kata diubah menjadi kata dasar, huruf kecil, dan dihapus duplikatnya."
      ]
    },
    {
      "cell_type": "code",
      "execution_count": 20,
      "metadata": {
        "colab": {
          "base_uri": "https://localhost:8080/"
        },
        "id": "Zf6gQvaIDq5q",
        "outputId": "40e3d5e0-b6ca-4d70-d355-322e1e3e6e0b"
      },
      "outputs": [
        {
          "output_type": "stream",
          "name": "stdout",
          "text": [
            "Memproses dataset intents.....\n"
          ]
        }
      ],
      "source": [
        "print(\"Memproses dataset intents.....\")\n",
        "with open('./dataset/intents.json') as json_data:\n",
        "    intents = json.load(json_data)"
      ]
    },
    {
      "cell_type": "code",
      "execution_count": 21,
      "metadata": {
        "colab": {
          "base_uri": "https://localhost:8080/"
        },
        "id": "_pLvzIE9Dq5q",
        "outputId": "40d3b57f-b7c0-4195-b9ee-6afb285e154b"
      },
      "outputs": [
        {
          "output_type": "stream",
          "name": "stdout",
          "text": [
            "Mengiterasi isi dataset untuk mengubahnya menjadi words, class, documents, dan ignore_words.......\n"
          ]
        }
      ],
      "source": [
        "words = []\n",
        "classes = []\n",
        "documents = []\n",
        "ignore_words = ['?']\n",
        "print(\"Mengiterasi isi dataset untuk mengubahnya menjadi words, class, documents, dan ignore_words.......\")\n",
        "for intent in intents['intents']:\n",
        "    for pattern in intent['patterns']:\n",
        "        # Tokenisasi tiap kata dalam kalimat\n",
        "        w = nltk.word_tokenize(pattern)\n",
        "        # Menambah kata ke dalam array words\n",
        "        words.extend(w)\n",
        "        # Menambah dokumen ke dalam korpus (pelatihan/uji)\n",
        "        documents.append((w, intent['tag']))\n",
        "        # Menambah tag ke dalam array class\n",
        "        if intent['tag'] not in classes:\n",
        "            classes.append(intent['tag'])"
      ]
    },
    {
      "cell_type": "code",
      "execution_count": 22,
      "metadata": {
        "colab": {
          "base_uri": "https://localhost:8080/"
        },
        "id": "aNsucHOlDq5q",
        "outputId": "100faf47-dde4-4699-8756-a4b376b93cd5"
      },
      "outputs": [
        {
          "output_type": "stream",
          "name": "stdout",
          "text": [
            "Meng-stemming, menggunakan huruf kecil dan menghapus duplikat kata.......\n",
            "Ditemukan 291 dokumen, 33 class, dan 296 kata unik...\n"
          ]
        }
      ],
      "source": [
        "print(\"Meng-stemming, menggunakan huruf kecil dan menghapus duplikat kata.......\")\n",
        "words = [stemmer.stem(w.lower()) for w in words if w not in ignore_words]\n",
        "words = sorted(list(set(words)))\n",
        "\n",
        "classes = sorted(list(set(classes)))\n",
        "\n",
        "print ('Ditemukan', len(documents), \"dokumen,\", len(classes), \"class, dan\", len(words), \"kata unik...\")"
      ]
    },
    {
      "cell_type": "markdown",
      "metadata": {
        "id": "jKq_jyZJieON"
      },
      "source": [
        "Bag of Words merupakan transformasi teks menjadi bilangan biner yang dapat digunakan oleh model training."
      ]
    },
    {
      "cell_type": "code",
      "execution_count": 23,
      "metadata": {
        "colab": {
          "base_uri": "https://localhost:8080/"
        },
        "id": "6xuMAP5HDq5r",
        "outputId": "ac42d2e5-4cd4-4209-9fa4-a8902758f144"
      },
      "outputs": [
        {
          "output_type": "stream",
          "name": "stdout",
          "text": [
            "Membuat data untuk model.....\n",
            "Membuat list kosong untuk output.....\n",
            "Membuat training set dan Bag of Words ....\n"
          ]
        }
      ],
      "source": [
        "print(\"Membuat data untuk model.....\")\n",
        "training = []\n",
        "output = []\n",
        "print(\"Membuat list kosong untuk output.....\")\n",
        "output_empty = [0] * len(classes)\n",
        "\n",
        "print(\"Membuat training set dan Bag of Words ....\")\n",
        "for doc in documents:\n",
        "    # Inisialisasi Bag of Words\n",
        "    bag = []\n",
        "    # Daftar kata-kata yang ditokenisasi untuk pattern\n",
        "    pattern_words = doc[0]\n",
        "    # Stem setiap kata\n",
        "    pattern_words = [stemmer.stem(word.lower()) for word in pattern_words]\n",
        "    # Membuat array Bag of Words\n",
        "    for w in words:\n",
        "        bag.append(1) if w in pattern_words else bag.append(0)\n",
        "\n",
        "    # Outputnya '0' untuk setiap tag dan '1' untuk tag saat ini\n",
        "    output_row = list(output_empty)\n",
        "    output_row[classes.index(doc[1])] = 1\n",
        "\n",
        "    training.append([bag, output_row])"
      ]
    },
    {
      "cell_type": "markdown",
      "metadata": {
        "id": "b2T7gOkTtbUD"
      },
      "source": [
        "#Membuat Training Set"
      ]
    },
    {
      "cell_type": "markdown",
      "metadata": {
        "id": "wC_OZTluieOO"
      },
      "source": [
        "Sebelum menggunakan dataset untuk training, dataset diacak terlebih dahulu dan diubah menjadi numpy array agar training lebih cepat."
      ]
    },
    {
      "cell_type": "code",
      "execution_count": 24,
      "metadata": {
        "colab": {
          "base_uri": "https://localhost:8080/"
        },
        "id": "tkA6Za2qDq5r",
        "outputId": "b74e6b01-46f9-4753-eced-9b69bbf3ffaf"
      },
      "outputs": [
        {
          "output_type": "stream",
          "name": "stdout",
          "text": [
            "Mengacak dan mengubah menjadi numpy array untuk pemrosesan yang lebih cepat......\n",
            "Membuat list train.....\n",
            "Shape train_x: (291, 296)\n",
            "Shape train_y: (291, 33)\n"
          ]
        }
      ],
      "source": [
        "print(\"Mengacak dan mengubah menjadi numpy array untuk pemrosesan yang lebih cepat......\")\n",
        "random.shuffle(training)\n",
        "training = np.array(training)\n",
        "\n",
        "print(\"Membuat list train.....\")\n",
        "train_x = np.array(list(training[:, 0]))\n",
        "train_y = np.array(list(training[:, 1]))\n",
        "\n",
        "print(\"Shape train_x:\", np.shape(train_x))\n",
        "print(\"Shape train_y:\", np.shape(train_y))"
      ]
    },
    {
      "cell_type": "markdown",
      "metadata": {
        "id": "lv7OynRPtbUD"
      },
      "source": [
        "#Membuat Model Sequential"
      ]
    },
    {
      "cell_type": "markdown",
      "metadata": {
        "id": "tqcoxbF5ieOO"
      },
      "source": [
        "Model NLP menggunakan Sequential dengan hidden layer yang shape input dan outputnya sesuai dengan shape dataset.\n",
        "\n",
        "Adakalanya plotting dilakukan untuk memantau model.\n",
        "\n",
        "Setelah model berhasil dibuat, model dan dataset disimpan."
      ]
    },
    {
      "cell_type": "code",
      "execution_count": 25,
      "metadata": {
        "colab": {
          "base_uri": "https://localhost:8080/"
        },
        "id": "vL6faz2jDq5r",
        "outputId": "6fef62ad-7a23-4b1c-9c9c-13f00f3e731b"
      },
      "outputs": [
        {
          "output_type": "stream",
          "name": "stdout",
          "text": [
            "Model: \"sequential_1\"\n",
            "_________________________________________________________________\n",
            " Layer (type)                Output Shape              Param #   \n",
            "=================================================================\n",
            " dense_2 (Dense)             (None, 8)                 2376      \n",
            "                                                                 \n",
            " dense_3 (Dense)             (None, 33)                297       \n",
            "                                                                 \n",
            "=================================================================\n",
            "Total params: 2,673\n",
            "Trainable params: 2,673\n",
            "Non-trainable params: 0\n",
            "_________________________________________________________________\n"
          ]
        }
      ],
      "source": [
        "from tensorflow.keras.initializers import TruncatedNormal\n",
        "\n",
        "model = tf.keras.models.Sequential()\n",
        "model.add(tf.keras.layers.Dense(8, input_shape=(len(train_x[0]),), activation='relu', kernel_initializer=TruncatedNormal()))\n",
        "model.add(tf.keras.layers.Dense(len(train_y[0]), activation='softmax', kernel_initializer=TruncatedNormal()))\n",
        "\n",
        "# Kompilasi dan summary model\n",
        "model.compile(loss='categorical_crossentropy', optimizer='adam', metrics=['acc'])\n",
        "model.summary()"
      ]
    },
    {
      "cell_type": "code",
      "execution_count": 26,
      "metadata": {
        "colab": {
          "base_uri": "https://localhost:8080/"
        },
        "id": "geNK3KqwDq5s",
        "outputId": "2100db2f-571f-454d-e7f1-09b2a3e329e6"
      },
      "outputs": [
        {
          "output_type": "stream",
          "name": "stdout",
          "text": [
            "Melakukan training model.......\n",
            "Epoch 1/200\n",
            "37/37 [==============================] - 0s 1ms/step - loss: 3.4947 - acc: 0.0447 \n",
            "Epoch 2/200\n",
            "37/37 [==============================] - 0s 1ms/step - loss: 3.4830 - acc: 0.1168\n",
            "Epoch 3/200\n",
            "37/37 [==============================] - 0s 955us/step - loss: 3.4629 - acc: 0.1203\n",
            "Epoch 4/200\n",
            "37/37 [==============================] - 0s 1ms/step - loss: 3.4262 - acc: 0.1306\n",
            "Epoch 5/200\n",
            "37/37 [==============================] - 0s 1ms/step - loss: 3.3721 - acc: 0.1100\n",
            "Epoch 6/200\n",
            "37/37 [==============================] - 0s 1ms/step - loss: 3.3023 - acc: 0.1100\n",
            "Epoch 7/200\n",
            "37/37 [==============================] - 0s 1ms/step - loss: 3.2218 - acc: 0.0653\n",
            "Epoch 8/200\n",
            "37/37 [==============================] - 0s 1ms/step - loss: 3.1373 - acc: 0.0687\n",
            "Epoch 9/200\n",
            "37/37 [==============================] - 0s 1ms/step - loss: 3.0520 - acc: 0.0893\n",
            "Epoch 10/200\n",
            "37/37 [==============================] - 0s 1ms/step - loss: 2.9681 - acc: 0.1203\n",
            "Epoch 11/200\n",
            "37/37 [==============================] - 0s 2ms/step - loss: 2.8863 - acc: 0.1649\n",
            "Epoch 12/200\n",
            "37/37 [==============================] - 0s 2ms/step - loss: 2.8042 - acc: 0.2027\n",
            "Epoch 13/200\n",
            "37/37 [==============================] - 0s 1ms/step - loss: 2.7230 - acc: 0.2405\n",
            "Epoch 14/200\n",
            "37/37 [==============================] - 0s 1ms/step - loss: 2.6411 - acc: 0.3024\n",
            "Epoch 15/200\n",
            "37/37 [==============================] - 0s 1ms/step - loss: 2.5606 - acc: 0.3608\n",
            "Epoch 16/200\n",
            "37/37 [==============================] - 0s 1ms/step - loss: 2.4794 - acc: 0.4330\n",
            "Epoch 17/200\n",
            "37/37 [==============================] - 0s 1ms/step - loss: 2.3989 - acc: 0.4948\n",
            "Epoch 18/200\n",
            "37/37 [==============================] - 0s 1ms/step - loss: 2.3193 - acc: 0.4948\n",
            "Epoch 19/200\n",
            "37/37 [==============================] - 0s 1ms/step - loss: 2.2423 - acc: 0.5120\n",
            "Epoch 20/200\n",
            "37/37 [==============================] - 0s 1ms/step - loss: 2.1669 - acc: 0.5361\n",
            "Epoch 21/200\n",
            "37/37 [==============================] - 0s 2ms/step - loss: 2.0937 - acc: 0.5326\n",
            "Epoch 22/200\n",
            "37/37 [==============================] - 0s 1ms/step - loss: 2.0213 - acc: 0.5533\n",
            "Epoch 23/200\n",
            "37/37 [==============================] - 0s 1ms/step - loss: 1.9507 - acc: 0.5704\n",
            "Epoch 24/200\n",
            "37/37 [==============================] - 0s 1ms/step - loss: 1.8834 - acc: 0.6014\n",
            "Epoch 25/200\n",
            "37/37 [==============================] - 0s 1ms/step - loss: 1.8176 - acc: 0.6289\n",
            "Epoch 26/200\n",
            "37/37 [==============================] - 0s 1ms/step - loss: 1.7539 - acc: 0.6564\n",
            "Epoch 27/200\n",
            "37/37 [==============================] - 0s 2ms/step - loss: 1.6912 - acc: 0.6735\n",
            "Epoch 28/200\n",
            "37/37 [==============================] - 0s 1ms/step - loss: 1.6322 - acc: 0.6907\n",
            "Epoch 29/200\n",
            "37/37 [==============================] - 0s 1ms/step - loss: 1.5741 - acc: 0.7045\n",
            "Epoch 30/200\n",
            "37/37 [==============================] - 0s 1ms/step - loss: 1.5181 - acc: 0.7216\n",
            "Epoch 31/200\n",
            "37/37 [==============================] - 0s 1ms/step - loss: 1.4650 - acc: 0.7251\n",
            "Epoch 32/200\n",
            "37/37 [==============================] - 0s 1ms/step - loss: 1.4131 - acc: 0.7595\n",
            "Epoch 33/200\n",
            "37/37 [==============================] - 0s 1ms/step - loss: 1.3622 - acc: 0.7629\n",
            "Epoch 34/200\n",
            "37/37 [==============================] - 0s 1ms/step - loss: 1.3129 - acc: 0.7698\n",
            "Epoch 35/200\n",
            "37/37 [==============================] - 0s 2ms/step - loss: 1.2671 - acc: 0.7698\n",
            "Epoch 36/200\n",
            "37/37 [==============================] - 0s 1ms/step - loss: 1.2227 - acc: 0.7732\n",
            "Epoch 37/200\n",
            "37/37 [==============================] - 0s 1ms/step - loss: 1.1780 - acc: 0.7938\n",
            "Epoch 38/200\n",
            "37/37 [==============================] - 0s 1ms/step - loss: 1.1364 - acc: 0.8076\n",
            "Epoch 39/200\n",
            "37/37 [==============================] - 0s 1ms/step - loss: 1.0971 - acc: 0.8076\n",
            "Epoch 40/200\n",
            "37/37 [==============================] - 0s 1ms/step - loss: 1.0582 - acc: 0.8179\n",
            "Epoch 41/200\n",
            "37/37 [==============================] - 0s 2ms/step - loss: 1.0213 - acc: 0.8247\n",
            "Epoch 42/200\n",
            "37/37 [==============================] - 0s 1ms/step - loss: 0.9852 - acc: 0.8247\n",
            "Epoch 43/200\n",
            "37/37 [==============================] - 0s 1ms/step - loss: 0.9513 - acc: 0.8316\n",
            "Epoch 44/200\n",
            "37/37 [==============================] - 0s 1ms/step - loss: 0.9180 - acc: 0.8557\n",
            "Epoch 45/200\n",
            "37/37 [==============================] - 0s 2ms/step - loss: 0.8847 - acc: 0.8591\n",
            "Epoch 46/200\n",
            "37/37 [==============================] - 0s 1ms/step - loss: 0.8550 - acc: 0.8660\n",
            "Epoch 47/200\n",
            "37/37 [==============================] - 0s 2ms/step - loss: 0.8243 - acc: 0.8763\n",
            "Epoch 48/200\n",
            "37/37 [==============================] - 0s 1ms/step - loss: 0.7980 - acc: 0.8763\n",
            "Epoch 49/200\n",
            "37/37 [==============================] - 0s 1ms/step - loss: 0.7693 - acc: 0.8797\n",
            "Epoch 50/200\n",
            "37/37 [==============================] - 0s 1ms/step - loss: 0.7450 - acc: 0.8797\n",
            "Epoch 51/200\n",
            "37/37 [==============================] - 0s 1ms/step - loss: 0.7186 - acc: 0.8935\n",
            "Epoch 52/200\n",
            "37/37 [==============================] - 0s 1ms/step - loss: 0.6947 - acc: 0.8866\n",
            "Epoch 53/200\n",
            "37/37 [==============================] - 0s 1ms/step - loss: 0.6717 - acc: 0.8900\n",
            "Epoch 54/200\n",
            "37/37 [==============================] - 0s 1ms/step - loss: 0.6504 - acc: 0.9072\n",
            "Epoch 55/200\n",
            "37/37 [==============================] - 0s 1ms/step - loss: 0.6274 - acc: 0.9107\n",
            "Epoch 56/200\n",
            "37/37 [==============================] - 0s 1ms/step - loss: 0.6071 - acc: 0.9175\n",
            "Epoch 57/200\n",
            "37/37 [==============================] - 0s 1ms/step - loss: 0.5882 - acc: 0.9244\n",
            "Epoch 58/200\n",
            "37/37 [==============================] - 0s 998us/step - loss: 0.5681 - acc: 0.9313\n",
            "Epoch 59/200\n",
            "37/37 [==============================] - 0s 1ms/step - loss: 0.5495 - acc: 0.9347\n",
            "Epoch 60/200\n",
            "37/37 [==============================] - 0s 1ms/step - loss: 0.5323 - acc: 0.9347\n",
            "Epoch 61/200\n",
            "37/37 [==============================] - 0s 1ms/step - loss: 0.5157 - acc: 0.9347\n",
            "Epoch 62/200\n",
            "37/37 [==============================] - 0s 1ms/step - loss: 0.4981 - acc: 0.9416\n",
            "Epoch 63/200\n",
            "37/37 [==============================] - 0s 1000us/step - loss: 0.4824 - acc: 0.9450\n",
            "Epoch 64/200\n",
            "37/37 [==============================] - 0s 1ms/step - loss: 0.4665 - acc: 0.9553\n",
            "Epoch 65/200\n",
            "37/37 [==============================] - 0s 1ms/step - loss: 0.4516 - acc: 0.9553\n",
            "Epoch 66/200\n",
            "37/37 [==============================] - 0s 1ms/step - loss: 0.4379 - acc: 0.9588\n",
            "Epoch 67/200\n",
            "37/37 [==============================] - 0s 1ms/step - loss: 0.4235 - acc: 0.9622\n",
            "Epoch 68/200\n",
            "37/37 [==============================] - 0s 1ms/step - loss: 0.4101 - acc: 0.9622\n",
            "Epoch 69/200\n",
            "37/37 [==============================] - 0s 1ms/step - loss: 0.3973 - acc: 0.9622\n",
            "Epoch 70/200\n",
            "37/37 [==============================] - 0s 1ms/step - loss: 0.3849 - acc: 0.9656\n",
            "Epoch 71/200\n",
            "37/37 [==============================] - 0s 994us/step - loss: 0.3726 - acc: 0.9656\n",
            "Epoch 72/200\n",
            "37/37 [==============================] - 0s 1ms/step - loss: 0.3609 - acc: 0.9622\n",
            "Epoch 73/200\n",
            "37/37 [==============================] - 0s 1ms/step - loss: 0.3490 - acc: 0.9656\n",
            "Epoch 74/200\n",
            "37/37 [==============================] - 0s 1ms/step - loss: 0.3382 - acc: 0.9691\n",
            "Epoch 75/200\n",
            "37/37 [==============================] - 0s 1ms/step - loss: 0.3273 - acc: 0.9656\n",
            "Epoch 76/200\n",
            "37/37 [==============================] - 0s 1ms/step - loss: 0.3165 - acc: 0.9691\n",
            "Epoch 77/200\n",
            "37/37 [==============================] - 0s 1ms/step - loss: 0.3063 - acc: 0.9656\n",
            "Epoch 78/200\n",
            "37/37 [==============================] - 0s 1ms/step - loss: 0.2964 - acc: 0.9725\n",
            "Epoch 79/200\n",
            "37/37 [==============================] - 0s 1ms/step - loss: 0.2866 - acc: 0.9759\n",
            "Epoch 80/200\n",
            "37/37 [==============================] - 0s 1ms/step - loss: 0.2771 - acc: 0.9725\n",
            "Epoch 81/200\n",
            "37/37 [==============================] - 0s 1ms/step - loss: 0.2682 - acc: 0.9725\n",
            "Epoch 82/200\n",
            "37/37 [==============================] - 0s 1ms/step - loss: 0.2598 - acc: 0.9725\n",
            "Epoch 83/200\n",
            "37/37 [==============================] - 0s 1ms/step - loss: 0.2516 - acc: 0.9759\n",
            "Epoch 84/200\n",
            "37/37 [==============================] - 0s 1ms/step - loss: 0.2431 - acc: 0.9759\n",
            "Epoch 85/200\n",
            "37/37 [==============================] - 0s 1ms/step - loss: 0.2351 - acc: 0.9759\n",
            "Epoch 86/200\n",
            "37/37 [==============================] - 0s 1ms/step - loss: 0.2276 - acc: 0.9759\n",
            "Epoch 87/200\n",
            "37/37 [==============================] - 0s 1ms/step - loss: 0.2201 - acc: 0.9759\n",
            "Epoch 88/200\n",
            "37/37 [==============================] - 0s 1ms/step - loss: 0.2129 - acc: 0.9828\n",
            "Epoch 89/200\n",
            "37/37 [==============================] - 0s 1ms/step - loss: 0.2057 - acc: 0.9828\n",
            "Epoch 90/200\n",
            "37/37 [==============================] - 0s 1ms/step - loss: 0.1991 - acc: 0.9828\n",
            "Epoch 91/200\n",
            "37/37 [==============================] - 0s 1ms/step - loss: 0.1924 - acc: 0.9828\n",
            "Epoch 92/200\n",
            "37/37 [==============================] - 0s 1ms/step - loss: 0.1858 - acc: 0.9897\n",
            "Epoch 93/200\n",
            "37/37 [==============================] - 0s 1ms/step - loss: 0.1792 - acc: 0.9897\n",
            "Epoch 94/200\n",
            "37/37 [==============================] - 0s 1ms/step - loss: 0.1728 - acc: 0.9931\n",
            "Epoch 95/200\n",
            "37/37 [==============================] - 0s 1ms/step - loss: 0.1668 - acc: 0.9931\n",
            "Epoch 96/200\n",
            "37/37 [==============================] - 0s 1ms/step - loss: 0.1612 - acc: 0.9931\n",
            "Epoch 97/200\n",
            "37/37 [==============================] - 0s 1ms/step - loss: 0.1557 - acc: 0.9931\n",
            "Epoch 98/200\n",
            "37/37 [==============================] - 0s 1ms/step - loss: 0.1506 - acc: 0.9931\n",
            "Epoch 99/200\n",
            "37/37 [==============================] - 0s 1ms/step - loss: 0.1456 - acc: 0.9931\n",
            "Epoch 100/200\n",
            "37/37 [==============================] - 0s 1ms/step - loss: 0.1408 - acc: 0.9931\n",
            "Epoch 101/200\n",
            "37/37 [==============================] - 0s 1ms/step - loss: 0.1361 - acc: 0.9931\n",
            "Epoch 102/200\n",
            "37/37 [==============================] - 0s 1ms/step - loss: 0.1316 - acc: 0.9931\n",
            "Epoch 103/200\n",
            "37/37 [==============================] - 0s 963us/step - loss: 0.1274 - acc: 0.9931\n",
            "Epoch 104/200\n",
            "37/37 [==============================] - 0s 1ms/step - loss: 0.1233 - acc: 0.9931\n",
            "Epoch 105/200\n",
            "37/37 [==============================] - 0s 1ms/step - loss: 0.1197 - acc: 0.9931\n",
            "Epoch 106/200\n",
            "37/37 [==============================] - 0s 1ms/step - loss: 0.1160 - acc: 0.9931\n",
            "Epoch 107/200\n",
            "37/37 [==============================] - 0s 1ms/step - loss: 0.1123 - acc: 0.9931\n",
            "Epoch 108/200\n",
            "37/37 [==============================] - 0s 1ms/step - loss: 0.1089 - acc: 0.9931\n",
            "Epoch 109/200\n",
            "37/37 [==============================] - 0s 1ms/step - loss: 0.1052 - acc: 0.9931\n",
            "Epoch 110/200\n",
            "37/37 [==============================] - 0s 1ms/step - loss: 0.1020 - acc: 0.9931\n",
            "Epoch 111/200\n",
            "37/37 [==============================] - 0s 1ms/step - loss: 0.0988 - acc: 0.9931\n",
            "Epoch 112/200\n",
            "37/37 [==============================] - 0s 1ms/step - loss: 0.0961 - acc: 0.9931\n",
            "Epoch 113/200\n",
            "37/37 [==============================] - 0s 1ms/step - loss: 0.0930 - acc: 0.9931\n",
            "Epoch 114/200\n",
            "37/37 [==============================] - 0s 1ms/step - loss: 0.0904 - acc: 0.9966\n",
            "Epoch 115/200\n",
            "37/37 [==============================] - 0s 986us/step - loss: 0.0879 - acc: 0.9966\n",
            "Epoch 116/200\n",
            "37/37 [==============================] - 0s 1ms/step - loss: 0.0853 - acc: 0.9966\n",
            "Epoch 117/200\n",
            "37/37 [==============================] - 0s 1ms/step - loss: 0.0829 - acc: 0.9966\n",
            "Epoch 118/200\n",
            "37/37 [==============================] - 0s 1ms/step - loss: 0.0807 - acc: 0.9966\n",
            "Epoch 119/200\n",
            "37/37 [==============================] - 0s 2ms/step - loss: 0.0784 - acc: 0.9966\n",
            "Epoch 120/200\n",
            "37/37 [==============================] - 0s 1ms/step - loss: 0.0761 - acc: 0.9966\n",
            "Epoch 121/200\n",
            "37/37 [==============================] - 0s 1ms/step - loss: 0.0742 - acc: 0.9966\n",
            "Epoch 122/200\n",
            "37/37 [==============================] - 0s 1ms/step - loss: 0.0719 - acc: 0.9966\n",
            "Epoch 123/200\n",
            "37/37 [==============================] - 0s 1ms/step - loss: 0.0700 - acc: 0.9966\n",
            "Epoch 124/200\n",
            "37/37 [==============================] - 0s 1ms/step - loss: 0.0684 - acc: 0.9966\n",
            "Epoch 125/200\n",
            "37/37 [==============================] - 0s 1ms/step - loss: 0.0665 - acc: 0.9966\n",
            "Epoch 126/200\n",
            "37/37 [==============================] - 0s 1ms/step - loss: 0.0646 - acc: 0.9966\n",
            "Epoch 127/200\n",
            "37/37 [==============================] - 0s 1ms/step - loss: 0.0628 - acc: 0.9966\n",
            "Epoch 128/200\n",
            "37/37 [==============================] - 0s 967us/step - loss: 0.0613 - acc: 0.9966\n",
            "Epoch 129/200\n",
            "37/37 [==============================] - 0s 1ms/step - loss: 0.0597 - acc: 0.9966\n",
            "Epoch 130/200\n",
            "37/37 [==============================] - 0s 1ms/step - loss: 0.0580 - acc: 0.9966\n",
            "Epoch 131/200\n",
            "37/37 [==============================] - 0s 1ms/step - loss: 0.0566 - acc: 0.9966\n",
            "Epoch 132/200\n",
            "37/37 [==============================] - 0s 1ms/step - loss: 0.0550 - acc: 0.9966\n",
            "Epoch 133/200\n",
            "37/37 [==============================] - 0s 1ms/step - loss: 0.0538 - acc: 0.9966\n",
            "Epoch 134/200\n",
            "37/37 [==============================] - 0s 1ms/step - loss: 0.0524 - acc: 0.9966\n",
            "Epoch 135/200\n",
            "37/37 [==============================] - 0s 1ms/step - loss: 0.0510 - acc: 0.9966\n",
            "Epoch 136/200\n",
            "37/37 [==============================] - 0s 1ms/step - loss: 0.0498 - acc: 0.9966\n",
            "Epoch 137/200\n",
            "37/37 [==============================] - 0s 1ms/step - loss: 0.0486 - acc: 0.9966\n",
            "Epoch 138/200\n",
            "37/37 [==============================] - 0s 1ms/step - loss: 0.0473 - acc: 0.9966\n",
            "Epoch 139/200\n",
            "37/37 [==============================] - 0s 995us/step - loss: 0.0462 - acc: 0.9966\n",
            "Epoch 140/200\n",
            "37/37 [==============================] - 0s 1ms/step - loss: 0.0451 - acc: 0.9966\n",
            "Epoch 141/200\n",
            "37/37 [==============================] - 0s 1ms/step - loss: 0.0441 - acc: 0.9966\n",
            "Epoch 142/200\n",
            "37/37 [==============================] - 0s 1ms/step - loss: 0.0430 - acc: 0.9966\n",
            "Epoch 143/200\n",
            "37/37 [==============================] - 0s 1ms/step - loss: 0.0420 - acc: 0.9966\n",
            "Epoch 144/200\n",
            "37/37 [==============================] - 0s 1ms/step - loss: 0.0410 - acc: 0.9966\n",
            "Epoch 145/200\n",
            "37/37 [==============================] - 0s 1ms/step - loss: 0.0400 - acc: 1.0000\n",
            "Epoch 146/200\n",
            "37/37 [==============================] - 0s 1ms/step - loss: 0.0390 - acc: 1.0000\n",
            "Epoch 147/200\n",
            "37/37 [==============================] - 0s 1ms/step - loss: 0.0382 - acc: 1.0000\n",
            "Epoch 148/200\n",
            "37/37 [==============================] - 0s 1ms/step - loss: 0.0371 - acc: 1.0000\n",
            "Epoch 149/200\n",
            "37/37 [==============================] - 0s 1ms/step - loss: 0.0365 - acc: 1.0000\n",
            "Epoch 150/200\n",
            "37/37 [==============================] - 0s 1ms/step - loss: 0.0356 - acc: 0.9966\n",
            "Epoch 151/200\n",
            "37/37 [==============================] - 0s 1ms/step - loss: 0.0347 - acc: 1.0000\n",
            "Epoch 152/200\n",
            "37/37 [==============================] - 0s 1ms/step - loss: 0.0340 - acc: 1.0000\n",
            "Epoch 153/200\n",
            "37/37 [==============================] - 0s 1ms/step - loss: 0.0331 - acc: 1.0000\n",
            "Epoch 154/200\n",
            "37/37 [==============================] - 0s 1ms/step - loss: 0.0324 - acc: 1.0000\n",
            "Epoch 155/200\n",
            "37/37 [==============================] - 0s 1ms/step - loss: 0.0318 - acc: 1.0000\n",
            "Epoch 156/200\n",
            "37/37 [==============================] - 0s 1ms/step - loss: 0.0310 - acc: 1.0000\n",
            "Epoch 157/200\n",
            "37/37 [==============================] - 0s 1ms/step - loss: 0.0302 - acc: 1.0000\n",
            "Epoch 158/200\n",
            "37/37 [==============================] - 0s 1ms/step - loss: 0.0296 - acc: 1.0000\n",
            "Epoch 159/200\n",
            "37/37 [==============================] - 0s 1ms/step - loss: 0.0289 - acc: 1.0000\n",
            "Epoch 160/200\n",
            "37/37 [==============================] - 0s 1ms/step - loss: 0.0282 - acc: 1.0000\n",
            "Epoch 161/200\n",
            "37/37 [==============================] - 0s 1ms/step - loss: 0.0276 - acc: 1.0000\n",
            "Epoch 162/200\n",
            "37/37 [==============================] - 0s 1ms/step - loss: 0.0271 - acc: 1.0000\n",
            "Epoch 163/200\n",
            "37/37 [==============================] - 0s 1ms/step - loss: 0.0264 - acc: 1.0000\n",
            "Epoch 164/200\n",
            "37/37 [==============================] - 0s 986us/step - loss: 0.0258 - acc: 1.0000\n",
            "Epoch 165/200\n",
            "37/37 [==============================] - 0s 1ms/step - loss: 0.0253 - acc: 1.0000\n",
            "Epoch 166/200\n",
            "37/37 [==============================] - 0s 1ms/step - loss: 0.0247 - acc: 1.0000\n",
            "Epoch 167/200\n",
            "37/37 [==============================] - 0s 1ms/step - loss: 0.0242 - acc: 1.0000\n",
            "Epoch 168/200\n",
            "37/37 [==============================] - 0s 1ms/step - loss: 0.0237 - acc: 1.0000\n",
            "Epoch 169/200\n",
            "37/37 [==============================] - 0s 1ms/step - loss: 0.0231 - acc: 1.0000\n",
            "Epoch 170/200\n",
            "37/37 [==============================] - 0s 1ms/step - loss: 0.0226 - acc: 1.0000\n",
            "Epoch 171/200\n",
            "37/37 [==============================] - 0s 1ms/step - loss: 0.0222 - acc: 1.0000\n",
            "Epoch 172/200\n",
            "37/37 [==============================] - 0s 1ms/step - loss: 0.0217 - acc: 1.0000\n",
            "Epoch 173/200\n",
            "37/37 [==============================] - 0s 1ms/step - loss: 0.0212 - acc: 1.0000\n",
            "Epoch 174/200\n",
            "37/37 [==============================] - 0s 1ms/step - loss: 0.0208 - acc: 1.0000\n",
            "Epoch 175/200\n",
            "37/37 [==============================] - 0s 1ms/step - loss: 0.0203 - acc: 1.0000\n",
            "Epoch 176/200\n",
            "37/37 [==============================] - 0s 1ms/step - loss: 0.0199 - acc: 1.0000\n",
            "Epoch 177/200\n",
            "37/37 [==============================] - 0s 1ms/step - loss: 0.0195 - acc: 1.0000\n",
            "Epoch 178/200\n",
            "37/37 [==============================] - 0s 1ms/step - loss: 0.0190 - acc: 1.0000\n",
            "Epoch 179/200\n",
            "37/37 [==============================] - 0s 1ms/step - loss: 0.0186 - acc: 1.0000\n",
            "Epoch 180/200\n",
            "37/37 [==============================] - 0s 1ms/step - loss: 0.0183 - acc: 1.0000\n",
            "Epoch 181/200\n",
            "37/37 [==============================] - 0s 1ms/step - loss: 0.0179 - acc: 1.0000\n",
            "Epoch 182/200\n",
            "37/37 [==============================] - 0s 1ms/step - loss: 0.0175 - acc: 1.0000\n",
            "Epoch 183/200\n",
            "37/37 [==============================] - 0s 1ms/step - loss: 0.0172 - acc: 1.0000\n",
            "Epoch 184/200\n",
            "37/37 [==============================] - 0s 1ms/step - loss: 0.0168 - acc: 1.0000\n",
            "Epoch 185/200\n",
            "37/37 [==============================] - 0s 1ms/step - loss: 0.0164 - acc: 1.0000\n",
            "Epoch 186/200\n",
            "37/37 [==============================] - 0s 1ms/step - loss: 0.0160 - acc: 1.0000\n",
            "Epoch 187/200\n",
            "37/37 [==============================] - 0s 1ms/step - loss: 0.0157 - acc: 1.0000\n",
            "Epoch 188/200\n",
            "37/37 [==============================] - 0s 1ms/step - loss: 0.0154 - acc: 1.0000\n",
            "Epoch 189/200\n",
            "37/37 [==============================] - 0s 1ms/step - loss: 0.0151 - acc: 1.0000\n",
            "Epoch 190/200\n",
            "37/37 [==============================] - 0s 1ms/step - loss: 0.0147 - acc: 1.0000\n",
            "Epoch 191/200\n",
            "37/37 [==============================] - 0s 1ms/step - loss: 0.0145 - acc: 1.0000\n",
            "Epoch 192/200\n",
            "37/37 [==============================] - 0s 1ms/step - loss: 0.0142 - acc: 1.0000\n",
            "Epoch 193/200\n",
            "37/37 [==============================] - 0s 1ms/step - loss: 0.0139 - acc: 1.0000\n",
            "Epoch 194/200\n",
            "37/37 [==============================] - 0s 1ms/step - loss: 0.0136 - acc: 1.0000\n",
            "Epoch 195/200\n",
            "37/37 [==============================] - 0s 1ms/step - loss: 0.0133 - acc: 1.0000\n",
            "Epoch 196/200\n",
            "37/37 [==============================] - 0s 1ms/step - loss: 0.0130 - acc: 1.0000\n",
            "Epoch 197/200\n",
            "37/37 [==============================] - 0s 1ms/step - loss: 0.0128 - acc: 1.0000\n",
            "Epoch 198/200\n",
            "37/37 [==============================] - 0s 1ms/step - loss: 0.0125 - acc: 1.0000\n",
            "Epoch 199/200\n",
            "37/37 [==============================] - 0s 1ms/step - loss: 0.0122 - acc: 1.0000\n",
            "Epoch 200/200\n",
            "37/37 [==============================] - 0s 1ms/step - loss: 0.0120 - acc: 1.0000\n"
          ]
        }
      ],
      "source": [
        "import matplotlib.pyplot as plt\n",
        "\n",
        "# Melakukan fitting dan mendapatkan history dari fitting model\n",
        "print(\"Melakukan training model.......\")\n",
        "history = model.fit(train_x, train_y, batch_size=8, epochs=200)"
      ]
    },
    {
      "cell_type": "code",
      "execution_count": 27,
      "metadata": {
        "colab": {
          "base_uri": "https://localhost:8080/",
          "height": 927
        },
        "id": "F7-rU_FrieOO",
        "outputId": "60654f1e-ec07-4b55-b912-277d2bb49c42"
      },
      "outputs": [
        {
          "output_type": "display_data",
          "data": {
            "text/plain": [
              "<Figure size 640x480 with 1 Axes>"
            ],
            "image/png": "[encoded data removed]"
          },
          "metadata": {}
        },
        {
          "output_type": "display_data",
          "data": {
            "text/plain": [
              "<Figure size 640x480 with 1 Axes>"
            ],
            "image/png": "[encoded data removed]"
          },
          "metadata": {}
        }
      ],
      "source": [
        "# Memplot akurasi (accuracy)\n",
        "plt.plot(history.history['acc'])\n",
        "plt.title('Model Accuracy')\n",
        "plt.xlabel('Epochs')\n",
        "plt.ylabel('Accuracy')\n",
        "plt.legend(['Train'], loc='upper left')\n",
        "plt.show()\n",
        "\n",
        "# Memplot loss\n",
        "plt.plot(history.history['loss'])\n",
        "plt.title('Model Loss')\n",
        "plt.xlabel('Epochs')\n",
        "plt.ylabel('Loss')\n",
        "plt.legend(['Train'], loc='upper left')\n",
        "plt.show()"
      ]
    },
    {
      "cell_type": "code",
      "execution_count": 28,
      "metadata": {
        "colab": {
          "base_uri": "https://localhost:8080/"
        },
        "id": "NhUjpazdDq5s",
        "outputId": "683f41c9-f6c6-4454-c534-5cf9b0738c67"
      },
      "outputs": [
        {
          "output_type": "stream",
          "name": "stdout",
          "text": [
            "Melakukan save model.......\n",
            "Melakukan save pickle..........\n"
          ]
        }
      ],
      "source": [
        "# Menyimpan model dan pickle\n",
        "print(\"Melakukan save model.......\")\n",
        "model.save('model.h5')\n",
        "\n",
        "print(\"Melakukan save pickle..........\")\n",
        "pickle.dump( {'words':words, 'classes':classes, 'train_x':train_x, 'train_y':train_y}, open( \"training_data\", \"wb\" ) )"
      ]
    },
    {
      "cell_type": "markdown",
      "metadata": {
        "id": "CTxwkrtPtbUE"
      },
      "source": [
        "#Preprocessing input data dari user"
      ]
    },
    {
      "cell_type": "markdown",
      "metadata": {
        "id": "NBJGcnuqieOP"
      },
      "source": [
        "Dataset dan model diload kembali untuk pengujian Chatbot.\n",
        "\n",
        "Function preprocessing untuk input user didefinisikan dan output dari ChatBot yang menggunakan random untuk memilih response sesuai hasil klasifikasi."
      ]
    },
    {
      "cell_type": "code",
      "execution_count": 29,
      "metadata": {
        "colab": {
          "base_uri": "https://localhost:8080/"
        },
        "id": "nrYSvaxNDq5s",
        "outputId": "9f2c46d5-5989-4501-c068-05ee3746f6bd"
      },
      "outputs": [
        {
          "output_type": "stream",
          "name": "stdout",
          "text": [
            "Melakukan load pickle.....\n",
            "Melakukan load model......\n"
          ]
        }
      ],
      "source": [
        "# Melakukan loading pickle\n",
        "print(\"Melakukan load pickle.....\")\n",
        "data = pickle.load( open( \"training_data\", \"rb\" ) )\n",
        "words = data['words']\n",
        "classes = data['classes']\n",
        "train_x = data['train_x']\n",
        "train_y = data['train_y']\n",
        "\n",
        "with open('dataset/intents.json') as json_data:\n",
        "    intents = json.load(json_data)\n",
        "\n",
        "print(\"Melakukan load model......\")\n",
        "# Melakukan loading model\n",
        "model = tf.keras.models.load_model('./model.h5')"
      ]
    },
    {
      "cell_type": "code",
      "execution_count": 30,
      "metadata": {
        "id": "DSUfh6xdDq5s"
      },
      "outputs": [],
      "source": [
        "def clean_up_sentence(sentence):\n",
        "    # Melakukan tokenisasi dan stemming\n",
        "    sentence_words = nltk.word_tokenize(sentence)\n",
        "    sentence_words = [stemmer.stem(word.lower()) for word in sentence_words]\n",
        "    return sentence_words\n",
        "\n",
        "# Me-return array Bag of Words: True atau False dan 0 atau 1 untuk setiap kata di Bag of Words yang ada di kalimat user\n",
        "def bow(sentence, words):\n",
        "    sentence_words = clean_up_sentence(sentence)\n",
        "    bag = [0] * len(words)\n",
        "    for s in sentence_words:\n",
        "        for i, w in enumerate(words):\n",
        "            if w == s:\n",
        "                bag[i] = 1\n",
        "    return np.array(bag).reshape(1, -1)  # Melakukan reshape ke (1, total input)\n",
        "\n",
        "#Probabilitas maksimum untuk dihapus dari hasil\n",
        "treshold = 0.25\n",
        "\n",
        "def classify(sentence):\n",
        "    # Melakukan prediksi menggunakan model\n",
        "    results = model.predict([bow(sentence, words)])[0]\n",
        "    # Menghapus hasil yang dibawah treshhold\n",
        "    results = [[i,r] for i,r in enumerate(results) if r>treshold]\n",
        "    # Mengsortir model berdasarkan probabilitas tertinggi\n",
        "    results.sort(key=lambda x: x[1], reverse=True)\n",
        "    return_list = []\n",
        "    for r in results:\n",
        "        return_list.append((classes[r[0]], r[1]))\n",
        "    return return_list\n",
        "\n",
        "def response(sentence):\n",
        "    results = classify(sentence)\n",
        "    # Menyesuaikan tag yang cocok\n",
        "    if results:\n",
        "        while results:\n",
        "            for i in intents['intents']:\n",
        "                if i['tag'] == results[0][0]:\n",
        "                    # Mengacak response\n",
        "                    return print(\"Chatbot: \", random.choice(i['responses']))\n",
        "            results.pop(0)"
      ]
    },
    {
      "cell_type": "markdown",
      "metadata": {
        "id": "R784CgTqtbUE"
      },
      "source": [
        "#Pengujian Model"
      ]
    },
    {
      "cell_type": "code",
      "execution_count": 32,
      "metadata": {
        "colab": {
          "base_uri": "https://localhost:8080/"
        },
        "id": "RyFGkh9BDq5s",
        "outputId": "be561130-6da4-4a39-e211-86e477b1500d"
      },
      "outputs": [
        {
          "name": "stdout",
          "output_type": "stream",
          "text": [
            "User: hai\n",
            "1/1 [==============================] - 0s 14ms/step\n",
            "Chatbot:  Halo, Selamat datang di JasaIn Chatbot!. Jika kamu mempunyai kendala, silahkan deskripsikan kendalamu ya!\n",
            "User: merek ac apa aja ya\n",
            "1/1 [==============================] - 0s 15ms/step\n",
            "Chatbot:  Menurut Tokopedia, merek AC yang terbaik antara lain adalah Daikin, Sharp, Panasonic, Gree, LG, Samsung, AUX, Changhong, Mitshubishi, Denpoo, Midea, Akari, Polytron.\n",
            "User: layar hp saya ada kendala\n",
            "1/1 [==============================] - 0s 16ms/step\n",
            "Chatbot:  Handphone kamu harus ganti LCD, jangan lupa sesuaikan mereknya ya\n",
            "User: laptop saya gak mau charging\n",
            "1/1 [==============================] - 0s 14ms/step\n",
            "Chatbot:  IC charger hp kamu rusak. Penyebabnya bisa ditimbulkan oleh berbagai macam, salah satunya adalah yang paling sering adalah menggunakan hp bermain sambil di cas,terutama main game online, chatting, download, streaming youtube dan aktivitas lain yang membutuhkan daya baterai besar. Hal ini akan membebankan IC Power sehingga harus bekerja secara terus menerus baik saat melakukan pengisian baterai dan saat dimainkan.\n",
            "User: oke terima kasih ya\n",
            "1/1 [==============================] - 0s 16ms/step\n",
            "Chatbot:  Sama-sama, Senang Bisa membantu!, Terimakasih telah menghubungi kami\n",
            "User: exit\n"
          ]
        }
      ],
      "source": [
        "while True:\n",
        "    input_data = input(\"User: \")\n",
        "    if input_data.lower() in ['exit', 'selamat tinggal']:\n",
        "        break\n",
        "    else:\n",
        "        answer = response(input_data)"
      ]
    },
    {
      "cell_type": "markdown",
      "metadata": {
        "id": "o0Z_NpJptbUE"
      },
      "source": [
        "#Konversi TFLite"
      ]
    },
    {
      "cell_type": "markdown",
      "metadata": {
        "id": "9AKXwQ0uieOQ"
      },
      "source": [
        "Model .h5 yang sudah dibuat dapat dikonversi menjadi file TFLite agar dapat diintegrasikan ke device."
      ]
    },
    {
      "cell_type": "code",
      "execution_count": 33,
      "metadata": {
        "colab": {
          "base_uri": "https://localhost:8080/"
        },
        "id": "uh_tqHtADq5s",
        "outputId": "91781147-f310-40af-eec2-e7d3e975f98e"
      },
      "outputs": [
        {
          "output_type": "stream",
          "name": "stderr",
          "text": [
            "WARNING:absl:Found untraced functions such as _update_step_xla while saving (showing 1 of 1). These functions will not be directly callable after loading.\n"
          ]
        }
      ],
      "source": [
        "# Konversi .h5 model menjadi TFLite model\n",
        "converter = tf.lite.TFLiteConverter.from_keras_model(model)\n",
        "tflite_model = converter.convert()\n",
        "\n",
        "# Melakukan save file .TFLite dari model\n",
        "with open('model.tflite', 'wb') as f:\n",
        "    f.write(tflite_model)"
      ]
    }
  ],
  "metadata": {
    "colab": {
      "provenance": []
    },
    "kernelspec": {
      "display_name": "Python 3 (ipykernel)",
      "language": "python",
      "name": "python3"
    },
    "language_info": {
      "codemirror_mode": {
        "name": "ipython",
        "version": 3
      },
      "file_extension": ".py",
      "mimetype": "text/x-python",
      "name": "python",
      "nbconvert_exporter": "python",
      "pygments_lexer": "ipython3",
      "version": "3.10.9"
    }
  },
  "nbformat": 4,
  "nbformat_minor": 0
}